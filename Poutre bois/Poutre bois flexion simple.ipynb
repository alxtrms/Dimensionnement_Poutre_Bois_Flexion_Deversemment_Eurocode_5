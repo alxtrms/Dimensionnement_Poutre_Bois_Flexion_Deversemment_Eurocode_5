{
 "cells": [
  {
   "cell_type": "markdown",
   "id": "cd69c23e",
   "metadata": {},
   "source": [
    "# Vérification poutre bois en flexion simple"
   ]
  },
  {
   "cell_type": "code",
   "execution_count": 31,
   "id": "5c07b685",
   "metadata": {
    "ExecuteTime": {
     "end_time": "2022-04-25T15:46:17.236350Z",
     "start_time": "2022-04-25T15:46:17.231330Z"
    }
   },
   "outputs": [],
   "source": [
    "from math import *\n",
    "import ipywidgets as widgets\n",
    "from tkinter import *\n",
    "import ipywidgets as widgets\n",
    "import matplotlib.pyplot as plt\n",
    "import numpy as np\n",
    "from IPython.display import Javascript, display\n",
    "from ipywidgets import widgets\n",
    "import pandas as pd\n",
    "from math import *\n",
    "import ipywidgets as widgets\n",
    "from tkinter import *"
   ]
  },
  {
   "cell_type": "markdown",
   "id": "234a9eb6",
   "metadata": {},
   "source": [
    "## 1. Données d'entrée"
   ]
  },
  {
   "cell_type": "markdown",
   "id": "aef20aed",
   "metadata": {},
   "source": [
    "### 1.1. Références normatives\n",
    "\n",
    "*- NF EN 1995 + AN : Conception et calcul des structures en bois*"
   ]
  },
  {
   "cell_type": "markdown",
   "id": "2664dfe8",
   "metadata": {},
   "source": [
    "### 1.2. Matériau"
   ]
  },
  {
   "cell_type": "code",
   "execution_count": 32,
   "id": "8e1b892f",
   "metadata": {
    "ExecuteTime": {
     "end_time": "2022-04-25T15:46:17.980427Z",
     "start_time": "2022-04-25T15:46:17.953346Z"
    }
   },
   "outputs": [
    {
     "data": {
      "application/vnd.jupyter.widget-view+json": {
       "model_id": "6f802a576e0748c78687dd02340975be",
       "version_major": 2,
       "version_minor": 0
      },
      "text/plain": [
       "Dropdown(description='Bois :', options=('Résineux', 'Feuillus', 'Lamellé collé'), value='Résineux')"
      ]
     },
     "metadata": {},
     "output_type": "display_data"
    }
   ],
   "source": [
    "bois=widgets.Dropdown(\n",
    "    options=['Résineux','Feuillus','Lamellé collé'],\n",
    "    value='Résineux',\n",
    "    description='Bois :',\n",
    "    disabled=False,\n",
    ")\n",
    "bois"
   ]
  },
  {
   "cell_type": "code",
   "execution_count": 33,
   "id": "d342e097",
   "metadata": {
    "ExecuteTime": {
     "end_time": "2022-04-25T15:46:18.138478Z",
     "start_time": "2022-04-25T15:46:18.122848Z"
    }
   },
   "outputs": [
    {
     "data": {
      "application/vnd.jupyter.widget-view+json": {
       "model_id": "73b34be153854fac801c76a29a79d478",
       "version_major": 2,
       "version_minor": 0
      },
      "text/plain": [
       "Button(description='Valider', style=ButtonStyle())"
      ]
     },
     "metadata": {},
     "output_type": "display_data"
    }
   ],
   "source": [
    "def run_all(ev):\n",
    "    display(Javascript('IPython.notebook.execute_cell_range(IPython.notebook.get_selected_index()+1, IPython.notebook.get_selected_index()+2)'))\n",
    "\n",
    "button = widgets.Button(description=\"Valider\")\n",
    "\n",
    "button.on_click(run_all)\n",
    "display(button)"
   ]
  },
  {
   "cell_type": "code",
   "execution_count": 34,
   "id": "9c40a398",
   "metadata": {
    "ExecuteTime": {
     "end_time": "2022-04-25T15:46:18.323099Z",
     "start_time": "2022-04-25T15:46:18.296218Z"
    }
   },
   "outputs": [
    {
     "data": {
      "application/vnd.jupyter.widget-view+json": {
       "model_id": "a36fb1e088a14a2dbdd7919f8e83120b",
       "version_major": 2,
       "version_minor": 0
      },
      "text/plain": [
       "Dropdown(description='Classe :', index=3, options=('C14', 'C16', 'C18', 'C20', 'C22', 'C24', 'C27', 'C30', 'C3…"
      ]
     },
     "metadata": {},
     "output_type": "display_data"
    }
   ],
   "source": [
    "if bois.value=='Résineux':\n",
    "    classe=widgets.Dropdown(\n",
    "        options=['C14','C16','C18','C20','C22','C24','C27','C30','C35','C40'],\n",
    "        value='C20',\n",
    "        description='Classe :',\n",
    "        disabled=False,\n",
    ")\n",
    "elif bois.value=='Feuillus':\n",
    "    classe=widgets.Dropdown(\n",
    "        options=['D30','D35','D40','D50','D60','D70'],\n",
    "        value='D30',\n",
    "        description='Classe :',\n",
    "        disabled=False,\n",
    ")\n",
    "else:\n",
    "    classe=widgets.Dropdown(\n",
    "        options=['GL24h','GL28h','GL32h','GL36h','GL24c','GL28c','GL32c','GL36c'],\n",
    "        value='GL24h',\n",
    "        description='Classe :',\n",
    "        disabled=False,\n",
    ")\n",
    "\n",
    "display(classe)"
   ]
  },
  {
   "cell_type": "code",
   "execution_count": 35,
   "id": "6b951e50",
   "metadata": {
    "ExecuteTime": {
     "end_time": "2022-04-25T15:46:18.485445Z",
     "start_time": "2022-04-25T15:46:18.469855Z"
    }
   },
   "outputs": [
    {
     "data": {
      "application/vnd.jupyter.widget-view+json": {
       "model_id": "938eabfade2349aabe0c2dc102d842ea",
       "version_major": 2,
       "version_minor": 0
      },
      "text/plain": [
       "Button(description='Valider', style=ButtonStyle())"
      ]
     },
     "metadata": {},
     "output_type": "display_data"
    }
   ],
   "source": [
    "def run_all(ev):\n",
    "    display(Javascript('IPython.notebook.execute_cell_range(IPython.notebook.get_selected_index()+1, IPython.notebook.get_selected_index()+5)'))\n",
    "\n",
    "button = widgets.Button(description=\"Valider\")\n",
    "\n",
    "button.on_click(run_all)\n",
    "display(button)"
   ]
  },
  {
   "cell_type": "code",
   "execution_count": 36,
   "id": "1fa392b2",
   "metadata": {
    "ExecuteTime": {
     "end_time": "2022-04-25T15:46:18.648904Z",
     "start_time": "2022-04-25T15:46:18.619956Z"
    }
   },
   "outputs": [],
   "source": [
    "import pandas as pd\n",
    "\n",
    "caracbois=pd.read_excel(\"caracB.xlsx\")\n",
    "\n",
    "fmk=caracbois.loc[0,classe.value]\n",
    "ft0k=caracbois.loc[1,classe.value]\n",
    "ft90k=caracbois.loc[2,classe.value]\n",
    "fc0k=caracbois.loc[3,classe.value]\n",
    "fc90k=caracbois.loc[4,classe.value]\n",
    "fvk=caracbois.loc[5,classe.value]\n",
    "e0m=caracbois.loc[6,classe.value]\n",
    "e05=caracbois.loc[7,classe.value]\n",
    "pm=caracbois.loc[8,classe.value]"
   ]
  },
  {
   "cell_type": "markdown",
   "id": "7b648fea",
   "metadata": {},
   "source": [
    "### 1.3. Exposition"
   ]
  },
  {
   "cell_type": "code",
   "execution_count": 37,
   "id": "6054cca7",
   "metadata": {
    "ExecuteTime": {
     "end_time": "2022-04-25T15:46:19.087039Z",
     "start_time": "2022-04-25T15:46:19.077066Z"
    }
   },
   "outputs": [
    {
     "data": {
      "application/vnd.jupyter.widget-view+json": {
       "model_id": "e65e650dc032413e867db7356e35783d",
       "version_major": 2,
       "version_minor": 0
      },
      "text/plain": [
       "ToggleButtons(options=('Classe de service 1', 'Classe de service 2', 'Classe de service 3'), value='Classe de …"
      ]
     },
     "metadata": {},
     "output_type": "display_data"
    }
   ],
   "source": [
    "service=widgets.ToggleButtons(\n",
    "    options=['Classe de service 1', 'Classe de service 2', 'Classe de service 3'],\n",
    "    description='',\n",
    "    disabled=False,\n",
    "    button_style='', # 'success', 'info', 'warning', 'danger' or ''\n",
    "   \n",
    ")\n",
    "service"
   ]
  },
  {
   "cell_type": "markdown",
   "id": "ad5f192f",
   "metadata": {},
   "source": [
    "### 1.4. Géométrie"
   ]
  },
  {
   "cell_type": "code",
   "execution_count": 38,
   "id": "7dabacbf",
   "metadata": {
    "ExecuteTime": {
     "end_time": "2022-04-25T15:46:19.437484Z",
     "start_time": "2022-04-25T15:46:19.426514Z"
    }
   },
   "outputs": [
    {
     "data": {
      "application/vnd.jupyter.widget-view+json": {
       "model_id": "2e69f6d359e9444394ba5227e9fbe8c4",
       "version_major": 2,
       "version_minor": 0
      },
      "text/plain": [
       "FloatSlider(value=4.0, continuous_update=False, description='Portée [m]', max=15.0, readout_format='.1f', step…"
      ]
     },
     "metadata": {},
     "output_type": "display_data"
    }
   ],
   "source": [
    "l=widgets.FloatSlider(\n",
    "    value=4,\n",
    "    min=0,\n",
    "    max=15,\n",
    "    step=0.5,\n",
    "    description=('Portée [m]'),\n",
    "    disabled=False,\n",
    "    continuous_update=False,\n",
    "    orientation='horizontal',\n",
    "    readout=True,\n",
    "    readout_format='.1f',)\n",
    "l"
   ]
  },
  {
   "cell_type": "markdown",
   "id": "6db8dcaa",
   "metadata": {},
   "source": [
    "### 1.5. Chargement"
   ]
  },
  {
   "cell_type": "code",
   "execution_count": 39,
   "id": "918dc8f0",
   "metadata": {
    "ExecuteTime": {
     "end_time": "2022-04-25T15:46:19.795661Z",
     "start_time": "2022-04-25T15:46:19.755374Z"
    }
   },
   "outputs": [
    {
     "data": {
      "application/vnd.jupyter.widget-view+json": {
       "model_id": "c2319026d19d46c6b455d3c0c8a420a4",
       "version_major": 2,
       "version_minor": 0
      },
      "text/plain": [
       "BoundedFloatText(value=0.0, description='G [kN/m]:', step=0.1)"
      ]
     },
     "metadata": {},
     "output_type": "display_data"
    },
    {
     "data": {
      "application/vnd.jupyter.widget-view+json": {
       "model_id": "faaf8de45c904ce29ffb1b150ef172b5",
       "version_major": 2,
       "version_minor": 0
      },
      "text/plain": [
       "BoundedFloatText(value=0.0, description='Q [kN/m]:', step=0.1)"
      ]
     },
     "metadata": {},
     "output_type": "display_data"
    },
    {
     "data": {
      "application/vnd.jupyter.widget-view+json": {
       "model_id": "2c5a56e9b0fe45ec92f5798c88723379",
       "version_major": 2,
       "version_minor": 0
      },
      "text/plain": [
       "BoundedFloatText(value=0.0, description='S [kN/m]:', step=0.1)"
      ]
     },
     "metadata": {},
     "output_type": "display_data"
    },
    {
     "data": {
      "application/vnd.jupyter.widget-view+json": {
       "model_id": "b4051286f54d42c3a3daab53b26a30c5",
       "version_major": 2,
       "version_minor": 0
      },
      "text/plain": [
       "BoundedFloatText(value=0.0, description='W [kN/m]:', step=0.1)"
      ]
     },
     "metadata": {},
     "output_type": "display_data"
    },
    {
     "data": {
      "application/vnd.jupyter.widget-view+json": {
       "model_id": "e232413295de43ea88703199c20a9dc1",
       "version_major": 2,
       "version_minor": 0
      },
      "text/plain": [
       "Dropdown(description='Catégorie Q :', options=('A', 'B', 'C', 'D', 'E', 'F', 'G', 'H'), value='A')"
      ]
     },
     "metadata": {},
     "output_type": "display_data"
    },
    {
     "data": {
      "application/vnd.jupyter.widget-view+json": {
       "model_id": "c0bdd46c0b964cacbe923898a80231a9",
       "version_major": 2,
       "version_minor": 0
      },
      "text/plain": [
       "Dropdown(description='Catégorie S :', index=2, options=('Finlande,etc', '1000+', '1000-'), value='1000-')"
      ]
     },
     "metadata": {},
     "output_type": "display_data"
    }
   ],
   "source": [
    "g=widgets.BoundedFloatText(\n",
    "    value=0,\n",
    "    min=0,\n",
    "    max=100,\n",
    "    step=0.1,\n",
    "    description='G [kN/m]:',\n",
    "    disabled=False)\n",
    "\n",
    "q=widgets.BoundedFloatText(\n",
    "    value=0,\n",
    "    min=0,\n",
    "    max=100,\n",
    "    step=0.1,\n",
    "    description='Q [kN/m]:',\n",
    "    disabled=False)\n",
    "\n",
    "s=widgets.BoundedFloatText(\n",
    "    value=0,\n",
    "    min=0,\n",
    "    max=100,\n",
    "    step=0.1,\n",
    "    description='S [kN/m]:',\n",
    "    disabled=False\n",
    ")\n",
    "\n",
    "w=widgets.BoundedFloatText(\n",
    "    value=0,\n",
    "    min=0,\n",
    "    max=100,\n",
    "    step=0.1,\n",
    "    description='W [kN/m]:',\n",
    "    disabled=False)\n",
    "\n",
    "catq=widgets.Dropdown(\n",
    "        options=['A','B','C','D','E','F','G','H'],\n",
    "        value='A',\n",
    "        description='Catégorie Q :',\n",
    "        disabled=False,)\n",
    "\n",
    "cats=widgets.Dropdown(\n",
    "        options=['Finlande,etc','1000+','1000-'],\n",
    "        value='1000-',\n",
    "        description='Catégorie S :',\n",
    "        disabled=False,)\n",
    "\n",
    "\n",
    "display(g,q,s,w,catq,cats)"
   ]
  },
  {
   "cell_type": "code",
   "execution_count": 40,
   "id": "f3ccb556",
   "metadata": {
    "ExecuteTime": {
     "end_time": "2022-04-25T15:46:19.907281Z",
     "start_time": "2022-04-25T15:46:19.876085Z"
    }
   },
   "outputs": [
    {
     "data": {
      "application/vnd.jupyter.widget-view+json": {
       "model_id": "756e6127410f4adcbe574dd5cb619e4a",
       "version_major": 2,
       "version_minor": 0
      },
      "text/plain": [
       "Button(description='Valider', style=ButtonStyle())"
      ]
     },
     "metadata": {},
     "output_type": "display_data"
    }
   ],
   "source": [
    "def run_all(ev):\n",
    "    display(Javascript('IPython.notebook.execute_cell_range(IPython.notebook.get_selected_index()+1, IPython.notebook.get_selected_index()+6)'))\n",
    "\n",
    "button = widgets.Button(description=\"Valider\")\n",
    "\n",
    "button.on_click(run_all)\n",
    "display(button)"
   ]
  },
  {
   "cell_type": "code",
   "execution_count": 21,
   "id": "9add7ca0",
   "metadata": {
    "ExecuteTime": {
     "end_time": "2022-04-25T15:44:15.074723Z",
     "start_time": "2022-04-25T15:44:15.008988Z"
    }
   },
   "outputs": [],
   "source": [
    "import pandas as pd\n",
    "kmod0=kmod1=kmod2=kmod3=kmod4=kmod5=kmod6=kmod7=kmod8=kmod9=kmod10=kmod12=kmod12=0\n",
    "\n",
    "if bois.value=='Lamellé collé':\n",
    "    gm=1.25\n",
    "else:\n",
    "    gm=1.3\n",
    "\n",
    "coeff=pd.read_excel(\"caracB.xlsx\")\n",
    "\n",
    "psi0q=coeff.loc[0,catq.value]\n",
    "psi1q=coeff.loc[1,catq.value]\n",
    "psi2q=coeff.loc[2,catq.value]\n",
    "psi0w=coeff.loc[0,'W']\n",
    "psi1w=coeff.loc[1,'W']\n",
    "psi2w=coeff.loc[2,'W']\n",
    "psi0s=coeff.loc[0,cats.value]\n",
    "psi1s=coeff.loc[1,cats.value]\n",
    "psi2s=coeff.loc[2,cats.value]\n",
    "\n",
    "if service.value=='Classe de service 3':\n",
    "    kmod0=0.5\n",
    "    kmod1=0.65\n",
    "    kmod2=kmod9=kmod10=0.7\n",
    "    kmod3=kmod4=kmod5=kmod6=kmod7=kmod8=kmod11=kmod12=0.9\n",
    "else :\n",
    "    kmod0=0.6\n",
    "    kmod1=0.8\n",
    "    kmod2=kmod9=kmod10=0.9\n",
    "    kmod3=kmod4=kmod5=kmod6=kmod7=kmod8=kmod11=kmod12=1.1\n",
    "    \n",
    "c0=(1.35*g.value)/kmod0\n",
    "c1=(1.35*g.value+1.5*q.value)/kmod1\n",
    "c2=(1.35*g.value+1.5*q.value+1.5*psi0s*s.value)/kmod2\n",
    "c3=(1.35*g.value+1.5*q.value+1.5*psi0w*w.value)/kmod3\n",
    "c4=(1.35*g.value+1.5*q.value+1.5*psi0s*s.value+1.5*psi0w*w.value)/kmod4\n",
    "c5=(1.35*g.value+1.5*w.value)/kmod5\n",
    "c6=(1.35*g.value+1.5*w.value+1.5*psi0q*q.value)/kmod6\n",
    "c7=(1.35*g.value+1.5*w.value+1.5*psi0s*s.value)/kmod7\n",
    "c8=(1.35*g.value+1.5*w.value+1.5*psi0q*q.value+1.5*psi0s*s.value)/kmod8\n",
    "c9=(1.35*g.value+1.5*s.value)/kmod9\n",
    "c10=(1.35*g.value+1.5*s.value+1.5*psi0q*q.value)/kmod10\n",
    "c11=(1.35*g.value+1.5*s.value+1.5*psi0w*w.value)/kmod11\n",
    "c12=(1.35*g.value+1.5*s.value+1.5*psi0w*w.value+1.5*psi0q*q.value)/kmod12\n",
    "\n",
    "c0=round(c0,2)\n",
    "c1=round(c1,2)\n",
    "c2=round(c2,2)\n",
    "c3=round(c2,2)\n",
    "c4=round(c4,2)\n",
    "c5=round(c5,2)\n",
    "c6=round(c6,2)\n",
    "c7=round(c7,2)\n",
    "c8=round(c8,2)\n",
    "c9=round(c9,2)\n",
    "c10=round(c10,2)\n",
    "c11=round(c11,2)\n",
    "c12=round(c12,2)\n",
    "\n",
    "pmax=max(c0,c1,c2,c3,c4,c5,c6,c7,c8,c9,c10,c11,c12)"
   ]
  },
  {
   "cell_type": "markdown",
   "id": "5e78530b",
   "metadata": {
    "variables": {
     "c0": "2.7",
     "c1": "5.96",
     "c10": "6.25",
     "c11": "3.11",
     "c12": "5.11",
     "c2": "6.3",
     "c3": "6.3",
     "c4": "5.15",
     "c5": "1.47",
     "c6": "3.48",
     "c7": "2.29",
     "c8": "4.3",
     "c9": "3.8",
     "pmax": "6.3"
    }
   },
   "source": [
    "|Combinaison ELU (majoration par kmod) |$$P_{ELU,mod}$$ [kN/m]|\n",
    "|-----------|-------------|\n",
    "|$$1.35G$$|{{c0}}|\n",
    "|$$1.35G+1.5Q$$|{{c1}}|\n",
    "|$$1.35G+1.5Q+1.5\\psi_{0,S}S$$|{{c2}}|\n",
    "|$$1.35G+1.5Q+1.5\\psi_{0,W}W$$|{{c3}}|\n",
    "|$$1.35G+1.5Q+1.5\\psi_{0,S}S+1.5\\psi_{0,W}W$$|{{c4}}|\n",
    "|$$1.35G+1.5W$$|{{c5}}|\n",
    "|$$1.35G+1.5W+1.5\\psi_{0,Q}Q$$|{{c6}}|\n",
    "|$$1.35G+1.5W+1.5\\psi_{0,S}S$$|{{c7}}|\n",
    "|$$1.35G+1.5W+1.5\\psi_{0,Q}Q+1.5\\psi_{0,S}S$$|{{c8}}|\n",
    "|$$1.35G+1.5S$$|{{c9}}|\n",
    "|$$1.35G+1.5S+1.5\\psi_{0,Q}Q$$|{{c10}}|\n",
    "|$$1.35G+1.5S+1.5\\psi_{0,W}W$$|{{c11}}|\n",
    "|$$1.35G+1.5S+1.5\\psi_{0,Q}Q+1.5\\psi_{0,W}W$$|{{c12}}|\n",
    "|$$P_{ELU,mod,max}$$|{{pmax}}|"
   ]
  },
  {
   "cell_type": "markdown",
   "id": "8b7b478a",
   "metadata": {},
   "source": [
    "## 2. Abaque de dimensionnement de la poutre "
   ]
  },
  {
   "cell_type": "code",
   "execution_count": 22,
   "id": "aa684052",
   "metadata": {
    "ExecuteTime": {
     "end_time": "2022-04-25T15:44:15.526734Z",
     "start_time": "2022-04-25T15:44:15.385218Z"
    }
   },
   "outputs": [
    {
     "data": {
      "image/png": "[encoded data removed]",
      "text/plain": [
       "<Figure size 432x288 with 2 Axes>"
      ]
     },
     "metadata": {
      "needs_background": "light"
     },
     "output_type": "display_data"
    }
   ],
   "source": [
    "import numpy as np\n",
    "import matplotlib.pyplot as plt\n",
    "\n",
    "xlist = np.linspace(0,200, 100)\n",
    "ylist = np.linspace(0, 300, 100)\n",
    "\n",
    "X, Y = np.meshgrid(xlist, ylist)\n",
    "\n",
    "Z = (4*X*(Y**2)*fmk)/(3*(l.value*1000)**2*gm)\n",
    "\n",
    "fig,ax=plt.subplots(1,1)\n",
    "cp = ax.contourf(X, Y, Z)\n",
    "fig.colorbar(cp)\n",
    "ax.set_title('Charge ELU(mod) admissible [kN/m]')\n",
    "ax.set_xlabel('Base (mm)')\n",
    "ax.set_ylabel('Hauteur (mm)')\n",
    "plt.show()"
   ]
  },
  {
   "cell_type": "markdown",
   "id": "a91ceec4",
   "metadata": {},
   "source": [
    "### 2.1 Optimum pour hauteur fixée "
   ]
  },
  {
   "cell_type": "code",
   "execution_count": 13,
   "id": "e1acc9e3",
   "metadata": {
    "ExecuteTime": {
     "end_time": "2022-04-25T15:43:21.741943Z",
     "start_time": "2022-04-25T15:43:21.726356Z"
    }
   },
   "outputs": [
    {
     "data": {
      "application/vnd.jupyter.widget-view+json": {
       "model_id": "9831fce75e13448f8e9f327be5007fda",
       "version_major": 2,
       "version_minor": 0
      },
      "text/plain": [
       "FloatSlider(value=200.0, continuous_update=False, description='Hauteur [mm]', max=600.0, readout_format='.1f',…"
      ]
     },
     "metadata": {},
     "output_type": "display_data"
    }
   ],
   "source": [
    "h=widgets.FloatSlider(\n",
    "    value=200,\n",
    "    min=0,\n",
    "    max=600,\n",
    "    step=20,\n",
    "    description=('Hauteur [mm]'),\n",
    "    disabled=False,\n",
    "    continuous_update=False,\n",
    "    orientation='horizontal',\n",
    "    readout=True,\n",
    "    readout_format='.1f',)\n",
    "h"
   ]
  },
  {
   "cell_type": "code",
   "execution_count": 14,
   "id": "ad7be60d",
   "metadata": {
    "ExecuteTime": {
     "end_time": "2022-04-25T15:43:21.757598Z",
     "start_time": "2022-04-25T15:43:21.741943Z"
    }
   },
   "outputs": [
    {
     "data": {
      "application/vnd.jupyter.widget-view+json": {
       "model_id": "31d79a125d0d4d83913bfe98821ecc8d",
       "version_major": 2,
       "version_minor": 0
      },
      "text/plain": [
       "Button(description='Valider', style=ButtonStyle())"
      ]
     },
     "metadata": {},
     "output_type": "display_data"
    },
    {
     "data": {
      "application/javascript": [
       "IPython.notebook.execute_cell_range(IPython.notebook.get_selected_index()+1, IPython.notebook.get_selected_index()+6)"
      ],
      "text/plain": [
       "<IPython.core.display.Javascript object>"
      ]
     },
     "metadata": {},
     "output_type": "display_data"
    },
    {
     "data": {
      "application/javascript": [
       "IPython.notebook.execute_cell_range(IPython.notebook.get_selected_index()+1, IPython.notebook.get_selected_index()+6)"
      ],
      "text/plain": [
       "<IPython.core.display.Javascript object>"
      ]
     },
     "metadata": {},
     "output_type": "display_data"
    },
    {
     "data": {
      "application/javascript": [
       "IPython.notebook.execute_cell_range(IPython.notebook.get_selected_index()+1, IPython.notebook.get_selected_index()+6)"
      ],
      "text/plain": [
       "<IPython.core.display.Javascript object>"
      ]
     },
     "metadata": {},
     "output_type": "display_data"
    },
    {
     "data": {
      "application/javascript": [
       "IPython.notebook.execute_cell_range(IPython.notebook.get_selected_index()+1, IPython.notebook.get_selected_index()+6)"
      ],
      "text/plain": [
       "<IPython.core.display.Javascript object>"
      ]
     },
     "metadata": {},
     "output_type": "display_data"
    },
    {
     "data": {
      "application/javascript": [
       "IPython.notebook.execute_cell_range(IPython.notebook.get_selected_index()+1, IPython.notebook.get_selected_index()+6)"
      ],
      "text/plain": [
       "<IPython.core.display.Javascript object>"
      ]
     },
     "metadata": {},
     "output_type": "display_data"
    },
    {
     "data": {
      "application/javascript": [
       "IPython.notebook.execute_cell_range(IPython.notebook.get_selected_index()+1, IPython.notebook.get_selected_index()+6)"
      ],
      "text/plain": [
       "<IPython.core.display.Javascript object>"
      ]
     },
     "metadata": {},
     "output_type": "display_data"
    },
    {
     "data": {
      "application/javascript": [
       "IPython.notebook.execute_cell_range(IPython.notebook.get_selected_index()+1, IPython.notebook.get_selected_index()+6)"
      ],
      "text/plain": [
       "<IPython.core.display.Javascript object>"
      ]
     },
     "metadata": {},
     "output_type": "display_data"
    },
    {
     "data": {
      "application/javascript": [
       "IPython.notebook.execute_cell_range(IPython.notebook.get_selected_index()+1, IPython.notebook.get_selected_index()+6)"
      ],
      "text/plain": [
       "<IPython.core.display.Javascript object>"
      ]
     },
     "metadata": {},
     "output_type": "display_data"
    }
   ],
   "source": [
    "def run_all(ev):\n",
    "    display(Javascript('IPython.notebook.execute_cell_range(IPython.notebook.get_selected_index()+1, IPython.notebook.get_selected_index()+6)'))\n",
    "\n",
    "button = widgets.Button(description=\"Valider\")\n",
    "\n",
    "button.on_click(run_all)\n",
    "display(button)"
   ]
  },
  {
   "cell_type": "code",
   "execution_count": 30,
   "id": "1934794e",
   "metadata": {
    "ExecuteTime": {
     "end_time": "2022-04-25T15:45:56.335771Z",
     "start_time": "2022-04-25T15:45:56.315048Z"
    }
   },
   "outputs": [],
   "source": [
    "b=(3*(l.value)**2*pmax*gm)/(4*h.value**2*fmk)\n",
    "\n",
    "b=round(b,5)\n",
    "\n",
    "b=b*1000**2"
   ]
  },
  {
   "cell_type": "markdown",
   "id": "ff45fce2",
   "metadata": {
    "variables": {
     "b": "110.0",
     "h.value": "240.0"
    }
   },
   "source": [
    "***Section : {{b}}x{{h.value}}mm ht.***"
   ]
  },
  {
   "cell_type": "markdown",
   "id": "5e161676",
   "metadata": {},
   "source": [
    "### Tableau récapitulatif"
   ]
  },
  {
   "cell_type": "markdown",
   "id": "5da76891",
   "metadata": {
    "ExecuteTime": {
     "end_time": "2022-04-25T15:22:29.215919Z",
     "start_time": "2022-04-25T15:22:29.200271Z"
    },
    "variables": {
     "b": "110.0",
     "bois.value": "Feuillus",
     "classe.value": "D35",
     "h.value": "240.0",
     "l.value": "6.0",
     "pmax": "6.3",
     "service.value": "Classe de service 2"
    }
   },
   "source": [
    "|**Caractéristiques**|**Valeur**|\n",
    "|-----------|-------------|\n",
    "|**Type de bois**|{{bois.value}}|\n",
    "|**Classe de structure**|{{classe.value}}|\n",
    "|**Exposition**|{{service.value}}|\n",
    "|**Charge max ELU [kN/m]**|{{pmax}}|\n",
    "|**Portée [m]**|{{l.value}}|\n",
    "|**Base [mm]**|{{b}}|\n",
    "|**Hauteur [mm]**|{{h.value}}|"
   ]
  },
  {
   "cell_type": "code",
   "execution_count": null,
   "id": "9a025431",
   "metadata": {},
   "outputs": [],
   "source": []
  }
 ],
 "metadata": {
  "hide_input": true,
  "kernelspec": {
   "display_name": "Python 3 (ipykernel)",
   "language": "python",
   "name": "python3"
  },
  "language_info": {
   "codemirror_mode": {
    "name": "ipython",
    "version": 3
   },
   "file_extension": ".py",
   "mimetype": "text/x-python",
   "name": "python",
   "nbconvert_exporter": "python",
   "pygments_lexer": "ipython3",
   "version": "3.10.0"
  }
 },
 "nbformat": 4,
 "nbformat_minor": 5
}
