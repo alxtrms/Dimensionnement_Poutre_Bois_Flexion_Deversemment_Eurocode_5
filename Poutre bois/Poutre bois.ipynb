{
 "cells": [
  {
   "cell_type": "markdown",
   "id": "e45ad3b5",
   "metadata": {},
   "source": [
    "# Vérification poutre bois en flexion simple et au déversement"
   ]
  },
  {
   "cell_type": "markdown",
   "id": "564993cc",
   "metadata": {},
   "source": [
    "## 1. Données générales"
   ]
  },
  {
   "cell_type": "markdown",
   "id": "72b76a32",
   "metadata": {
    "ExecuteTime": {
     "end_time": "2022-04-21T08:37:26.772322Z",
     "start_time": "2022-04-21T08:37:26.734544Z"
    }
   },
   "source": [
    "### 1.1. Références normatives\n",
    "\n",
    "*- NF EN 1995 + AN : Conception et calcul des structures en bois*"
   ]
  },
  {
   "cell_type": "code",
   "execution_count": 2,
   "id": "de1cc1a1",
   "metadata": {
    "ExecuteTime": {
     "end_time": "2022-04-25T08:40:04.949626Z",
     "start_time": "2022-04-25T08:40:04.918740Z"
    }
   },
   "outputs": [
    {
     "data": {
      "text/html": [
       "<script>\n",
       "    // AUTORUN ALL CELLS ON NOTEBOOK-LOAD!\n",
       "    require(\n",
       "        ['base/js/namespace', 'jquery'], \n",
       "        function(jupyter, $) {\n",
       "            $(jupyter.events).on(\"kernel_ready.Kernel\", function () {\n",
       "                console.log(\"Auto-running all cells-below...\");\n",
       "                jupyter.actions.call('jupyter-notebook:run-all-cells-below');\n",
       "                jupyter.actions.call('jupyter-notebook:save-notebook');\n",
       "            });\n",
       "        }\n",
       "    );\n",
       "</script>\n"
      ],
      "text/plain": [
       "<IPython.core.display.HTML object>"
      ]
     },
     "metadata": {},
     "output_type": "display_data"
    }
   ],
   "source": [
    "%%html\n",
    "<script>\n",
    "    // AUTORUN ALL CELLS ON NOTEBOOK-LOAD!\n",
    "    require(\n",
    "        ['base/js/namespace', 'jquery'], \n",
    "        function(jupyter, $) {\n",
    "            $(jupyter.events).on(\"kernel_ready.Kernel\", function () {\n",
    "                console.log(\"Auto-running all cells-below...\");\n",
    "                jupyter.actions.call('jupyter-notebook:run-all-cells-below');\n",
    "                jupyter.actions.call('jupyter-notebook:save-notebook');\n",
    "            });\n",
    "        }\n",
    "    );\n",
    "</script>"
   ]
  },
  {
   "cell_type": "markdown",
   "id": "c8897ac6",
   "metadata": {},
   "source": [
    "### 1.2. Matériau"
   ]
  },
  {
   "cell_type": "code",
   "execution_count": 3,
   "id": "e916feba",
   "metadata": {
    "ExecuteTime": {
     "end_time": "2022-04-25T08:40:05.536843Z",
     "start_time": "2022-04-25T08:40:05.252935Z"
    }
   },
   "outputs": [],
   "source": [
    "from math import *\n",
    "import ipywidgets as widgets\n",
    "from tkinter import *\n",
    "import ipywidgets as widgets\n",
    "import matplotlib.pyplot as plt\n",
    "import numpy as np\n",
    "from IPython.display import Javascript, display\n",
    "from ipywidgets import widgets\n",
    "import pandas as pd\n",
    "from math import *\n",
    "import ipywidgets as widgets\n",
    "from tkinter import *"
   ]
  },
  {
   "cell_type": "code",
   "execution_count": 4,
   "id": "452cb5a7",
   "metadata": {
    "ExecuteTime": {
     "end_time": "2022-04-25T08:40:05.552046Z",
     "start_time": "2022-04-25T08:40:05.536843Z"
    }
   },
   "outputs": [
    {
     "data": {
      "application/vnd.jupyter.widget-view+json": {
       "model_id": "342103c8177f45b9a1aa860cf59371de",
       "version_major": 2,
       "version_minor": 0
      },
      "text/plain": [
       "Dropdown(description='Bois :', options=('Résineux', 'Feuillus', 'Lamellé collé'), value='Résineux')"
      ]
     },
     "metadata": {},
     "output_type": "display_data"
    }
   ],
   "source": [
    "bois=widgets.Dropdown(\n",
    "    options=['Résineux','Feuillus','Lamellé collé'],\n",
    "    value='Résineux',\n",
    "    description='Bois :',\n",
    "    disabled=False,\n",
    ")\n",
    "bois\n"
   ]
  },
  {
   "cell_type": "code",
   "execution_count": 5,
   "id": "6cf147e8",
   "metadata": {
    "ExecuteTime": {
     "end_time": "2022-04-25T08:40:05.646561Z",
     "start_time": "2022-04-25T08:40:05.615365Z"
    }
   },
   "outputs": [
    {
     "data": {
      "application/vnd.jupyter.widget-view+json": {
       "model_id": "4ee6b2f15c8b43f394c6f5046e3ffbfc",
       "version_major": 2,
       "version_minor": 0
      },
      "text/plain": [
       "Button(description='Valider', style=ButtonStyle())"
      ]
     },
     "metadata": {},
     "output_type": "display_data"
    }
   ],
   "source": [
    "def run_all(ev):\n",
    "    display(Javascript('IPython.notebook.execute_cell_range(IPython.notebook.get_selected_index()+1, IPython.notebook.get_selected_index()+2)'))\n",
    "\n",
    "button = widgets.Button(description=\"Valider\")\n",
    "\n",
    "button.on_click(run_all)\n",
    "display(button)"
   ]
  },
  {
   "cell_type": "code",
   "execution_count": 6,
   "id": "4aeadfa6",
   "metadata": {
    "ExecuteTime": {
     "end_time": "2022-04-25T08:40:05.821610Z",
     "start_time": "2022-04-25T08:40:05.805401Z"
    }
   },
   "outputs": [
    {
     "data": {
      "application/vnd.jupyter.widget-view+json": {
       "model_id": "21af34a95093471cb1627903bf06a536",
       "version_major": 2,
       "version_minor": 0
      },
      "text/plain": [
       "Dropdown(description='Classe :', index=3, options=('C14', 'C16', 'C18', 'C20', 'C22', 'C24', 'C27', 'C30', 'C3…"
      ]
     },
     "metadata": {},
     "output_type": "display_data"
    }
   ],
   "source": [
    "if bois.value=='Résineux':\n",
    "    classe=widgets.Dropdown(\n",
    "        options=['C14','C16','C18','C20','C22','C24','C27','C30','C35','C40'],\n",
    "        value='C20',\n",
    "        description='Classe :',\n",
    "        disabled=False,\n",
    ")\n",
    "elif bois.value=='Feuillus':\n",
    "    classe=widgets.Dropdown(\n",
    "        options=['D30','D35','D40','D50','D60','D70'],\n",
    "        value='D30',\n",
    "        description='Classe :',\n",
    "        disabled=False,\n",
    ")\n",
    "else:\n",
    "    classe=widgets.Dropdown(\n",
    "        options=['GL24h','GL28h','GL32h','GL36h','GL24c','GL28c','GL32c','GL36c'],\n",
    "        value='GL24h',\n",
    "        description='Classe :',\n",
    "        disabled=False,\n",
    ")\n",
    "\n",
    "display(classe)"
   ]
  },
  {
   "cell_type": "code",
   "execution_count": 7,
   "id": "d2ab3765",
   "metadata": {
    "ExecuteTime": {
     "end_time": "2022-04-25T08:40:06.005263Z",
     "start_time": "2022-04-25T08:40:05.993294Z"
    }
   },
   "outputs": [
    {
     "data": {
      "application/vnd.jupyter.widget-view+json": {
       "model_id": "ac66cbfbbc104945a0b57e4715837b5c",
       "version_major": 2,
       "version_minor": 0
      },
      "text/plain": [
       "Button(description='Valider', style=ButtonStyle())"
      ]
     },
     "metadata": {},
     "output_type": "display_data"
    }
   ],
   "source": [
    "def run_all(ev):\n",
    "    display(Javascript('IPython.notebook.execute_cell_range(IPython.notebook.get_selected_index()+1, IPython.notebook.get_selected_index()+5)'))\n",
    "\n",
    "button = widgets.Button(description=\"Valider\")\n",
    "\n",
    "button.on_click(run_all)\n",
    "display(button)"
   ]
  },
  {
   "cell_type": "code",
   "execution_count": 8,
   "id": "4a9d52b8",
   "metadata": {
    "ExecuteTime": {
     "end_time": "2022-04-25T08:40:06.406393Z",
     "start_time": "2022-04-25T08:40:06.178332Z"
    }
   },
   "outputs": [],
   "source": [
    "import pandas as pd\n",
    "\n",
    "caracbois=pd.read_excel(\"caracB.xlsx\")"
   ]
  },
  {
   "cell_type": "code",
   "execution_count": 9,
   "id": "b9b11570",
   "metadata": {
    "ExecuteTime": {
     "end_time": "2022-04-25T08:40:06.436118Z",
     "start_time": "2022-04-25T08:40:06.409422Z"
    },
    "scrolled": true
   },
   "outputs": [],
   "source": [
    "fmk=caracbois.loc[0,classe.value]\n",
    "ft0k=caracbois.loc[1,classe.value]\n",
    "ft90k=caracbois.loc[2,classe.value]\n",
    "fc0k=caracbois.loc[3,classe.value]\n",
    "fc90k=caracbois.loc[4,classe.value]\n",
    "fvk=caracbois.loc[5,classe.value]\n",
    "e0m=caracbois.loc[6,classe.value]\n",
    "e05=caracbois.loc[7,classe.value]\n",
    "pm=caracbois.loc[8,classe.value]"
   ]
  },
  {
   "cell_type": "markdown",
   "id": "0adfb6af",
   "metadata": {
    "ExecuteTime": {
     "end_time": "2022-04-21T12:36:29.283474Z",
     "start_time": "2022-04-21T12:36:29.267853Z"
    },
    "variables": {
     "classe.value": {},
     "e05": {},
     "e0m": {},
     "fc0k": {},
     "fc90k": {},
     "fmk": {},
     "ft0k": {},
     "ft90k": {},
     "fvk": {},
     "pm": {}
    }
   },
   "source": [
    "|Caractéristiques|Symbole|{{classe.value}}|Unité|\n",
    "|-|-|-|-|\n",
    "|Flexion|$$f_{m,k}$$|{{fmk}}|$$N/mm^{2}$$|\n",
    "|Traction axiale|$$f_{t,0,k}$$|{{ft0k}}|$$N/mm^{2}$$|\n",
    "|Traction transversalle|$$f_{m,k}$$|{{ft90k}}|$$N/mm^{2}$$|\n",
    "|Compression axiale|$$f_{m,k}$$|{{fc0k}}|$$N/mm^{2}$$|\n",
    "|Compression transversale|$$f_{m,k}$$|{{fc90k}}|$$N/mm^{2}$$|\n",
    "|Cisaillement|$$f_{v,k}$$|{{fvk}}|$$N/mm^{2}$$|\n",
    "|Module moyen d'élasticité axial|$$E_{0,moy}$$|{{e0m}}|$$N/mm^{2}$$|\n",
    "|Module caractéristique d'élasticité axial|$$E_{0,0,5}$$|{{e05}}|$$N/mm^{2}$$|\n",
    "|Masse volumique moyenne|$$\\rho_{moy}$$|{{pm}}|$$kg/m^{2}$$|"
   ]
  },
  {
   "cell_type": "markdown",
   "id": "51119f48",
   "metadata": {},
   "source": [
    "### 1.3. Valeurs de calcul des résistance du bois"
   ]
  },
  {
   "cell_type": "markdown",
   "id": "cf7fe5c8",
   "metadata": {},
   "source": [
    "#### Classe de service"
   ]
  },
  {
   "cell_type": "code",
   "execution_count": 10,
   "id": "1832581a",
   "metadata": {
    "ExecuteTime": {
     "end_time": "2022-04-25T08:40:07.093509Z",
     "start_time": "2022-04-25T08:40:07.077851Z"
    }
   },
   "outputs": [
    {
     "data": {
      "application/vnd.jupyter.widget-view+json": {
       "model_id": "dcd2c9ed2dd74c0f9329043813c60c21",
       "version_major": 2,
       "version_minor": 0
      },
      "text/plain": [
       "ToggleButtons(options=('Classe de service 1', 'Classe de service 2', 'Classe de service 3'), value='Classe de …"
      ]
     },
     "metadata": {},
     "output_type": "display_data"
    }
   ],
   "source": [
    "service=widgets.ToggleButtons(\n",
    "    options=['Classe de service 1', 'Classe de service 2', 'Classe de service 3'],\n",
    "    description='',\n",
    "    disabled=False,\n",
    "    button_style='', # 'success', 'info', 'warning', 'danger' or ''\n",
    "   \n",
    ")\n",
    "service"
   ]
  },
  {
   "cell_type": "markdown",
   "id": "c141cc70",
   "metadata": {},
   "source": [
    "#### Classe de durée de charge"
   ]
  },
  {
   "cell_type": "code",
   "execution_count": 11,
   "id": "a288f5d1",
   "metadata": {
    "ExecuteTime": {
     "end_time": "2022-04-25T08:40:07.467830Z",
     "start_time": "2022-04-25T08:40:07.452244Z"
    }
   },
   "outputs": [
    {
     "data": {
      "application/vnd.jupyter.widget-view+json": {
       "model_id": "e21040294865406585cd7d4f601b853d",
       "version_major": 2,
       "version_minor": 0
      },
      "text/plain": [
       "Image(value=b'\\x89PNG\\r\\n\\x1a\\n\\x00\\x00\\x00\\rIHDR\\x00\\x00\\x02\\x04\\x00\\x00\\x00\\xca\\x04\\x03\\x00\\x00\\x00(QEH\\x00\\…"
      ]
     },
     "metadata": {},
     "output_type": "display_data"
    }
   ],
   "source": [
    "file = open(\"duree_charge.png\", \"rb\")\n",
    "image = file.read()\n",
    "widgets.Image(\n",
    "    value=image,\n",
    "    format='png',\n",
    "    width=500,\n",
    "    height=500,\n",
    ")"
   ]
  },
  {
   "cell_type": "code",
   "execution_count": 12,
   "id": "afbd81ef",
   "metadata": {
    "ExecuteTime": {
     "end_time": "2022-04-25T08:40:07.673268Z",
     "start_time": "2022-04-25T08:40:07.647136Z"
    }
   },
   "outputs": [
    {
     "data": {
      "application/vnd.jupyter.widget-view+json": {
       "model_id": "7c52546f24ee4f8286cf6c94cb2278e3",
       "version_major": 2,
       "version_minor": 0
      },
      "text/plain": [
       "ToggleButtons(options=('Permanente', 'Long terme', 'Moyen terme', 'Court terme', 'Instantanné'), value='Perman…"
      ]
     },
     "metadata": {},
     "output_type": "display_data"
    }
   ],
   "source": [
    "duree=widgets.ToggleButtons(\n",
    "    options=['Permanente', 'Long terme', 'Moyen terme','Court terme','Instantanné'],\n",
    "    description='',\n",
    "    disabled=False,\n",
    "    button_style='', # 'success', 'info', 'warning', 'danger' or ''\n",
    "   \n",
    ")\n",
    "duree"
   ]
  },
  {
   "cell_type": "code",
   "execution_count": 13,
   "id": "352d11d6",
   "metadata": {
    "ExecuteTime": {
     "end_time": "2022-04-25T08:40:07.843311Z",
     "start_time": "2022-04-25T08:40:07.827718Z"
    }
   },
   "outputs": [
    {
     "data": {
      "application/vnd.jupyter.widget-view+json": {
       "model_id": "7700883f809146aab5ea40e4f10db8c9",
       "version_major": 2,
       "version_minor": 0
      },
      "text/plain": [
       "Button(description='Valider', style=ButtonStyle())"
      ]
     },
     "metadata": {},
     "output_type": "display_data"
    }
   ],
   "source": [
    "def run_all(ev):\n",
    "    display(Javascript('IPython.notebook.execute_cell_range(IPython.notebook.get_selected_index()+1, IPython.notebook.get_selected_index()+4)'))\n",
    "\n",
    "button = widgets.Button(description=\"Valider\")\n",
    "\n",
    "button.on_click(run_all)\n",
    "display(button)"
   ]
  },
  {
   "cell_type": "markdown",
   "id": "5306bde6",
   "metadata": {},
   "source": [
    "#### Coefficients minorateurs"
   ]
  },
  {
   "cell_type": "code",
   "execution_count": 14,
   "id": "18898be6",
   "metadata": {
    "ExecuteTime": {
     "end_time": "2022-04-25T08:40:08.213570Z",
     "start_time": "2022-04-25T08:40:08.197918Z"
    }
   },
   "outputs": [],
   "source": [
    "if service.value=='Classe de service 3':\n",
    "    if duree.value=='Permanente':\n",
    "        kmod=0.5\n",
    "    elif duree.value=='Long terme':\n",
    "        kmod=0.55\n",
    "    elif duree.value=='Moyen terme':\n",
    "        kmod=0.65\n",
    "    elif duree.value=='Court terme':\n",
    "        kmod=0.7\n",
    "    else:\n",
    "        kmod=0.9\n",
    "else:\n",
    "    if duree.value=='Permanente':\n",
    "        kmod=0.6\n",
    "    elif duree.value=='Long terme':\n",
    "        kmod=0.7\n",
    "    elif duree.value=='Moyen terme':\n",
    "        kmod=0.8\n",
    "    elif duree.value=='Court terme':\n",
    "        kmod=0.9\n",
    "    else:\n",
    "        kmod=1.1\n",
    "        \n",
    "if bois.value=='Lamellé collé':\n",
    "    gm=1.25\n",
    "else:\n",
    "    gm=1.3"
   ]
  },
  {
   "cell_type": "markdown",
   "id": "7e932f54",
   "metadata": {
    "variables": {
     "gm": {},
     "kmod": {}
    }
   },
   "source": [
    "|Coefficeint|Valeur|\n",
    "|-----------|--|\n",
    "|$$k_{mod}=$$|{{kmod}}|\n",
    "|$$\\gamma_{m}=$$|{{gm}}|"
   ]
  },
  {
   "cell_type": "markdown",
   "id": "2aab150f",
   "metadata": {},
   "source": [
    "### 1.3. Section"
   ]
  },
  {
   "cell_type": "code",
   "execution_count": 15,
   "id": "80a730c3",
   "metadata": {
    "ExecuteTime": {
     "end_time": "2022-04-25T08:40:08.768955Z",
     "start_time": "2022-04-25T08:40:08.741299Z"
    }
   },
   "outputs": [
    {
     "data": {
      "application/vnd.jupyter.widget-view+json": {
       "model_id": "cce0c88f3844415e850dbd3787c8af12",
       "version_major": 2,
       "version_minor": 0
      },
      "text/plain": [
       "FloatSlider(value=100.0, continuous_update=False, description='Base [mm]', max=500.0, readout_format='.1f', st…"
      ]
     },
     "metadata": {},
     "output_type": "display_data"
    },
    {
     "data": {
      "application/vnd.jupyter.widget-view+json": {
       "model_id": "3ad959125fef445c80c6442294e93ff2",
       "version_major": 2,
       "version_minor": 0
      },
      "text/plain": [
       "FloatSlider(value=200.0, continuous_update=False, description='Hauteur [mm]', max=1000.0, readout_format='.1f'…"
      ]
     },
     "metadata": {},
     "output_type": "display_data"
    }
   ],
   "source": [
    "b=widgets.FloatSlider(\n",
    "    value=100,\n",
    "    min=0,\n",
    "    max=500,\n",
    "    step=10,\n",
    "    description=('Base [mm]'),\n",
    "    disabled=False,\n",
    "    continuous_update=False,\n",
    "    orientation='horizontal',\n",
    "    readout=True,\n",
    "    readout_format='.1f',\n",
    ")\n",
    "h=widgets.FloatSlider(\n",
    "    value=200,\n",
    "    min=0,\n",
    "    max=1000,\n",
    "    step=20,\n",
    "    description=('Hauteur [mm]'),\n",
    "    disabled=False,\n",
    "    continuous_update=False,\n",
    "    orientation='horizontal',\n",
    "    readout=True,\n",
    "    readout_format='.1f',\n",
    ")\n",
    "display(b)\n",
    "display(h)"
   ]
  },
  {
   "cell_type": "code",
   "execution_count": 16,
   "id": "8f7f7e28",
   "metadata": {
    "ExecuteTime": {
     "end_time": "2022-04-25T08:40:08.936968Z",
     "start_time": "2022-04-25T08:40:08.919332Z"
    }
   },
   "outputs": [
    {
     "data": {
      "application/vnd.jupyter.widget-view+json": {
       "model_id": "599305e2c4464a2ab81bce736fc5a7b4",
       "version_major": 2,
       "version_minor": 0
      },
      "text/plain": [
       "Button(description='Valider', style=ButtonStyle())"
      ]
     },
     "metadata": {},
     "output_type": "display_data"
    }
   ],
   "source": [
    "def run_all(ev):\n",
    "    display(Javascript('IPython.notebook.execute_cell_range(IPython.notebook.get_selected_index()+1, IPython.notebook.get_selected_index()+9)'))\n",
    "\n",
    "button = widgets.Button(description=\"Valider\")\n",
    "\n",
    "button.on_click(run_all)\n",
    "display(button)"
   ]
  },
  {
   "cell_type": "markdown",
   "id": "783647d8",
   "metadata": {},
   "source": [
    "### 1.4 Vérification de la poutre à l'ELU"
   ]
  },
  {
   "cell_type": "markdown",
   "id": "9da65fa9",
   "metadata": {},
   "source": [
    "$$\\sigma_{m,d}\\leq f_{m,k}.\\frac{k_{mod}}{\\gamma_{m}}.k_{h}.k_{crit}$$"
   ]
  },
  {
   "cell_type": "code",
   "execution_count": 17,
   "id": "c5b2516b",
   "metadata": {
    "ExecuteTime": {
     "end_time": "2022-04-25T08:40:09.527157Z",
     "start_time": "2022-04-25T08:40:09.500434Z"
    }
   },
   "outputs": [],
   "source": [
    "if bois.value=='Lamellé collé':\n",
    "    if h.value>600:\n",
    "        kh=1\n",
    "    else:\n",
    "        kh=min(1.1,pow((600/h.value),0.1))\n",
    "else:\n",
    "    if h.value>150:\n",
    "        kh=1\n",
    "    else:\n",
    "        kh=min(1.3,pow((150/h.value),0.2))\n",
    "        \n",
    "kh=round(kh,3)\n",
    "\n",
    "sigcrit=(0.78*e05*b.value*b.value)/(h.value*0.9)\n",
    "\n",
    "lrel=sqrt(fmk/sigcrit)\n",
    "\n",
    "if lrel<=0.75:\n",
    "    kcrit=1\n",
    "elif lrel<=1.4:\n",
    "    kcrit=1.56-0.75*lrel\n",
    "else:\n",
    "    kcrit=1/pow(lrel,2)\n",
    "\n",
    "kcrit=round(kcrit,2)\n",
    "\n",
    "sigcrit=round(sigcrit,0)\n",
    "\n",
    "lrel=round(lrel,2)\n"
   ]
  },
  {
   "cell_type": "markdown",
   "id": "d30be043",
   "metadata": {
    "variables": {
     "kcrit": {},
     "kh": {},
     "lrel": {},
     "sigcrit": {}
    }
   },
   "source": [
    "Avec : \n",
    "\n",
    "||Symbole|Valeur|\n",
    "|-|-|-|\n",
    "|Coeff. de hauteur|$$k_{h}$$|{{kh}}|\n",
    "|Contrainte critique déversement [MPa]|$$\\sigma_{m,crit}$$|{{sigcrit}}|\n",
    "|Elancement relatif en flexion|$$\\lambda_{rel,m}$$|{{lrel}}|\n",
    "|Coeff. d'instabilité (déversement)|$$k_{crit}$$|{{kcrit}}|\n"
   ]
  },
  {
   "cell_type": "code",
   "execution_count": 18,
   "id": "1a76b6e9",
   "metadata": {
    "ExecuteTime": {
     "end_time": "2022-04-25T08:40:09.884857Z",
     "start_time": "2022-04-25T08:40:09.858218Z"
    }
   },
   "outputs": [
    {
     "name": "stdout",
     "output_type": "stream",
     "text": [
      "100.0\n",
      "200.0\n"
     ]
    }
   ],
   "source": [
    "fmd=fmk*(kmod/gm)*kh*kcrit\n",
    "fmd=round(fmd,2)\n",
    "\n",
    "ig=(b.value*pow(h.value,3))/12\n",
    "\n",
    "mmax=fmd*(ig/(h.value/12))\n",
    "\n",
    "mmax=round(mmax*pow(10,-5),0)\n",
    "\n",
    "print(b.value)\n",
    "print(h.value)"
   ]
  },
  {
   "cell_type": "markdown",
   "id": "f1dd302a",
   "metadata": {
    "variables": {
     "fmd": {},
     "mmax": {}
    }
   },
   "source": [
    "#### Moment max admissible \n",
    "\n",
    "||Symbole|Valeur|\n",
    "|-----------------------------|-----------|-------|\n",
    "|Résistance à la flexion [MPa]|$$f_{m,d}$$|{{fmd}}|\n",
    "|Moment max adimissible [kN.m]|$$M_{m,d}$$|{{mmax}}|\n"
   ]
  },
  {
   "cell_type": "markdown",
   "id": "6d771a52",
   "metadata": {
    "variables": {
     "b.value": {},
     "classe.value": {},
     "h.value": {}
    }
   },
   "source": [
    "#### Abaque de dimensionnement à l'ELU pour poutre {{classe.value}} {{b.value}}x{{h.value}}mm ht.\n",
    " "
   ]
  },
  {
   "cell_type": "code",
   "execution_count": 19,
   "id": "2dfc38ad",
   "metadata": {
    "ExecuteTime": {
     "end_time": "2022-04-25T08:40:11.449645Z",
     "start_time": "2022-04-25T08:40:11.325528Z"
    }
   },
   "outputs": [
    {
     "data": {
      "image/png": "[encoded data removed]",
      "text/plain": [
       "<Figure size 432x288 with 1 Axes>"
      ]
     },
     "metadata": {
      "needs_background": "light"
     },
     "output_type": "display_data"
    }
   ],
   "source": [
    "import numpy as np\n",
    "import matplotlib.pyplot as plt\n",
    "\n",
    "x = np.linspace(4, 15, 15)\n",
    "y = (8*mmax)/(x*x)\n",
    "plt.plot(x, y)\n",
    "plt.title(\"Charge admissible en fonction de la portée\")\n",
    "plt.xlabel(\"Portée [m]\")\n",
    "plt.ylabel(\"Charge ELU [kN/m]\")\n",
    "\n",
    "plt.show() # affiche la figure a l'ecran"
   ]
  },
  {
   "cell_type": "markdown",
   "id": "66215ef8",
   "metadata": {
    "ExecuteTime": {
     "end_time": "2022-04-25T07:52:06.694007Z",
     "start_time": "2022-04-25T07:52:06.678388Z"
    }
   },
   "source": [
    "### 1.5 Vérification de la poutre à l'ELS"
   ]
  },
  {
   "cell_type": "code",
   "execution_count": 20,
   "id": "ca505b01",
   "metadata": {
    "ExecuteTime": {
     "end_time": "2022-04-25T08:40:11.750158Z",
     "start_time": "2022-04-25T08:40:11.734826Z"
    }
   },
   "outputs": [],
   "source": [
    "import numpy as np\n",
    "import matplotlib.pyplot as plt\n",
    "import mpl_toolkits\n",
    "from mpl_toolkits.mplot3d import Axes3D"
   ]
  },
  {
   "cell_type": "code",
   "execution_count": 21,
   "id": "d56a3c89",
   "metadata": {
    "ExecuteTime": {
     "end_time": "2022-04-25T08:40:12.255460Z",
     "start_time": "2022-04-25T08:40:12.195352Z"
    }
   },
   "outputs": [
    {
     "data": {
      "application/javascript": [
       "/* Put everything inside the global mpl namespace */\n",
       "/* global mpl */\n",
       "window.mpl = {};\n",
       "\n",
       "mpl.get_websocket_type = function () {\n",
       "    if (typeof WebSocket !== 'undefined') {\n",
       "        return WebSocket;\n",
       "    } else if (typeof MozWebSocket !== 'undefined') {\n",
       "        return MozWebSocket;\n",
       "    } else {\n",
       "        alert(\n",
       "            'Your browser does not have WebSocket support. ' +\n",
       "                'Please try Chrome, Safari or Firefox ≥ 6. ' +\n",
       "                'Firefox 4 and 5 are also supported but you ' +\n",
       "                'have to enable WebSockets in about:config.'\n",
       "        );\n",
       "    }\n",
       "};\n",
       "\n",
       "mpl.figure = function (figure_id, websocket, ondownload, parent_element) {\n",
       "    this.id = figure_id;\n",
       "\n",
       "    this.ws = websocket;\n",
       "\n",
       "    this.supports_binary = this.ws.binaryType !== undefined;\n",
       "\n",
       "    if (!this.supports_binary) {\n",
       "        var warnings = document.getElementById('mpl-warnings');\n",
       "        if (warnings) {\n",
       "            warnings.style.display = 'block';\n",
       "            warnings.textContent =\n",
       "                'This browser does not support binary websocket messages. ' +\n",
       "                'Performance may be slow.';\n",
       "        }\n",
       "    }\n",
       "\n",
       "    this.imageObj = new Image();\n",
       "\n",
       "    this.context = undefined;\n",
       "    this.message = undefined;\n",
       "    this.canvas = undefined;\n",
       "    this.rubberband_canvas = undefined;\n",
       "    this.rubberband_context = undefined;\n",
       "    this.format_dropdown = undefined;\n",
       "\n",
       "    this.image_mode = 'full';\n",
       "\n",
       "    this.root = document.createElement('div');\n",
       "    this.root.setAttribute('style', 'display: inline-block');\n",
       "    this._root_extra_style(this.root);\n",
       "\n",
       "    parent_element.appendChild(this.root);\n",
       "\n",
       "    this._init_header(this);\n",
       "    this._init_canvas(this);\n",
       "    this._init_toolbar(this);\n",
       "\n",
       "    var fig = this;\n",
       "\n",
       "    this.waiting = false;\n",
       "\n",
       "    this.ws.onopen = function () {\n",
       "        fig.send_message('supports_binary', { value: fig.supports_binary });\n",
       "        fig.send_message('send_image_mode', {});\n",
       "        if (fig.ratio !== 1) {\n",
       "            fig.send_message('set_dpi_ratio', { dpi_ratio: fig.ratio });\n",
       "        }\n",
       "        fig.send_message('refresh', {});\n",
       "    };\n",
       "\n",
       "    this.imageObj.onload = function () {\n",
       "        if (fig.image_mode === 'full') {\n",
       "            // Full images could contain transparency (where diff images\n",
       "            // almost always do), so we need to clear the canvas so that\n",
       "            // there is no ghosting.\n",
       "            fig.context.clearRect(0, 0, fig.canvas.width, fig.canvas.height);\n",
       "        }\n",
       "        fig.context.drawImage(fig.imageObj, 0, 0);\n",
       "    };\n",
       "\n",
       "    this.imageObj.onunload = function () {\n",
       "        fig.ws.close();\n",
       "    };\n",
       "\n",
       "    this.ws.onmessage = this._make_on_message_function(this);\n",
       "\n",
       "    this.ondownload = ondownload;\n",
       "};\n",
       "\n",
       "mpl.figure.prototype._init_header = function () {\n",
       "    var titlebar = document.createElement('div');\n",
       "    titlebar.classList =\n",
       "        'ui-dialog-titlebar ui-widget-header ui-corner-all ui-helper-clearfix';\n",
       "    var titletext = document.createElement('div');\n",
       "    titletext.classList = 'ui-dialog-title';\n",
       "    titletext.setAttribute(\n",
       "        'style',\n",
       "        'width: 100%; text-align: center; padding: 3px;'\n",
       "    );\n",
       "    titlebar.appendChild(titletext);\n",
       "    this.root.appendChild(titlebar);\n",
       "    this.header = titletext;\n",
       "};\n",
       "\n",
       "mpl.figure.prototype._canvas_extra_style = function (_canvas_div) {};\n",
       "\n",
       "mpl.figure.prototype._root_extra_style = function (_canvas_div) {};\n",
       "\n",
       "mpl.figure.prototype._init_canvas = function () {\n",
       "    var fig = this;\n",
       "\n",
       "    var canvas_div = (this.canvas_div = document.createElement('div'));\n",
       "    canvas_div.setAttribute(\n",
       "        'style',\n",
       "        'border: 1px solid #ddd;' +\n",
       "            'box-sizing: content-box;' +\n",
       "            'clear: both;' +\n",
       "            'min-height: 1px;' +\n",
       "            'min-width: 1px;' +\n",
       "            'outline: 0;' +\n",
       "            'overflow: hidden;' +\n",
       "            'position: relative;' +\n",
       "            'resize: both;'\n",
       "    );\n",
       "\n",
       "    function on_keyboard_event_closure(name) {\n",
       "        return function (event) {\n",
       "            return fig.key_event(event, name);\n",
       "        };\n",
       "    }\n",
       "\n",
       "    canvas_div.addEventListener(\n",
       "        'keydown',\n",
       "        on_keyboard_event_closure('key_press')\n",
       "    );\n",
       "    canvas_div.addEventListener(\n",
       "        'keyup',\n",
       "        on_keyboard_event_closure('key_release')\n",
       "    );\n",
       "\n",
       "    this._canvas_extra_style(canvas_div);\n",
       "    this.root.appendChild(canvas_div);\n",
       "\n",
       "    var canvas = (this.canvas = document.createElement('canvas'));\n",
       "    canvas.classList.add('mpl-canvas');\n",
       "    canvas.setAttribute('style', 'box-sizing: content-box;');\n",
       "\n",
       "    this.context = canvas.getContext('2d');\n",
       "\n",
       "    var backingStore =\n",
       "        this.context.backingStorePixelRatio ||\n",
       "        this.context.webkitBackingStorePixelRatio ||\n",
       "        this.context.mozBackingStorePixelRatio ||\n",
       "        this.context.msBackingStorePixelRatio ||\n",
       "        this.context.oBackingStorePixelRatio ||\n",
       "        this.context.backingStorePixelRatio ||\n",
       "        1;\n",
       "\n",
       "    this.ratio = (window.devicePixelRatio || 1) / backingStore;\n",
       "\n",
       "    var rubberband_canvas = (this.rubberband_canvas = document.createElement(\n",
       "        'canvas'\n",
       "    ));\n",
       "    rubberband_canvas.setAttribute(\n",
       "        'style',\n",
       "        'box-sizing: content-box; position: absolute; left: 0; top: 0; z-index: 1;'\n",
       "    );\n",
       "\n",
       "    // Apply a ponyfill if ResizeObserver is not implemented by browser.\n",
       "    if (this.ResizeObserver === undefined) {\n",
       "        if (window.ResizeObserver !== undefined) {\n",
       "            this.ResizeObserver = window.ResizeObserver;\n",
       "        } else {\n",
       "            var obs = _JSXTOOLS_RESIZE_OBSERVER({});\n",
       "            this.ResizeObserver = obs.ResizeObserver;\n",
       "        }\n",
       "    }\n",
       "\n",
       "    this.resizeObserverInstance = new this.ResizeObserver(function (entries) {\n",
       "        var nentries = entries.length;\n",
       "        for (var i = 0; i < nentries; i++) {\n",
       "            var entry = entries[i];\n",
       "            var width, height;\n",
       "            if (entry.contentBoxSize) {\n",
       "                if (entry.contentBoxSize instanceof Array) {\n",
       "                    // Chrome 84 implements new version of spec.\n",
       "                    width = entry.contentBoxSize[0].inlineSize;\n",
       "                    height = entry.contentBoxSize[0].blockSize;\n",
       "                } else {\n",
       "                    // Firefox implements old version of spec.\n",
       "                    width = entry.contentBoxSize.inlineSize;\n",
       "                    height = entry.contentBoxSize.blockSize;\n",
       "                }\n",
       "            } else {\n",
       "                // Chrome <84 implements even older version of spec.\n",
       "                width = entry.contentRect.width;\n",
       "                height = entry.contentRect.height;\n",
       "            }\n",
       "\n",
       "            // Keep the size of the canvas and rubber band canvas in sync with\n",
       "            // the canvas container.\n",
       "            if (entry.devicePixelContentBoxSize) {\n",
       "                // Chrome 84 implements new version of spec.\n",
       "                canvas.setAttribute(\n",
       "                    'width',\n",
       "                    entry.devicePixelContentBoxSize[0].inlineSize\n",
       "                );\n",
       "                canvas.setAttribute(\n",
       "                    'height',\n",
       "                    entry.devicePixelContentBoxSize[0].blockSize\n",
       "                );\n",
       "            } else {\n",
       "                canvas.setAttribute('width', width * fig.ratio);\n",
       "                canvas.setAttribute('height', height * fig.ratio);\n",
       "            }\n",
       "            canvas.setAttribute(\n",
       "                'style',\n",
       "                'width: ' + width + 'px; height: ' + height + 'px;'\n",
       "            );\n",
       "\n",
       "            rubberband_canvas.setAttribute('width', width);\n",
       "            rubberband_canvas.setAttribute('height', height);\n",
       "\n",
       "            // And update the size in Python. We ignore the initial 0/0 size\n",
       "            // that occurs as the element is placed into the DOM, which should\n",
       "            // otherwise not happen due to the minimum size styling.\n",
       "            if (fig.ws.readyState == 1 && width != 0 && height != 0) {\n",
       "                fig.request_resize(width, height);\n",
       "            }\n",
       "        }\n",
       "    });\n",
       "    this.resizeObserverInstance.observe(canvas_div);\n",
       "\n",
       "    function on_mouse_event_closure(name) {\n",
       "        return function (event) {\n",
       "            return fig.mouse_event(event, name);\n",
       "        };\n",
       "    }\n",
       "\n",
       "    rubberband_canvas.addEventListener(\n",
       "        'mousedown',\n",
       "        on_mouse_event_closure('button_press')\n",
       "    );\n",
       "    rubberband_canvas.addEventListener(\n",
       "        'mouseup',\n",
       "        on_mouse_event_closure('button_release')\n",
       "    );\n",
       "    rubberband_canvas.addEventListener(\n",
       "        'dblclick',\n",
       "        on_mouse_event_closure('dblclick')\n",
       "    );\n",
       "    // Throttle sequential mouse events to 1 every 20ms.\n",
       "    rubberband_canvas.addEventListener(\n",
       "        'mousemove',\n",
       "        on_mouse_event_closure('motion_notify')\n",
       "    );\n",
       "\n",
       "    rubberband_canvas.addEventListener(\n",
       "        'mouseenter',\n",
       "        on_mouse_event_closure('figure_enter')\n",
       "    );\n",
       "    rubberband_canvas.addEventListener(\n",
       "        'mouseleave',\n",
       "        on_mouse_event_closure('figure_leave')\n",
       "    );\n",
       "\n",
       "    canvas_div.addEventListener('wheel', function (event) {\n",
       "        if (event.deltaY < 0) {\n",
       "            event.step = 1;\n",
       "        } else {\n",
       "            event.step = -1;\n",
       "        }\n",
       "        on_mouse_event_closure('scroll')(event);\n",
       "    });\n",
       "\n",
       "    canvas_div.appendChild(canvas);\n",
       "    canvas_div.appendChild(rubberband_canvas);\n",
       "\n",
       "    this.rubberband_context = rubberband_canvas.getContext('2d');\n",
       "    this.rubberband_context.strokeStyle = '#000000';\n",
       "\n",
       "    this._resize_canvas = function (width, height, forward) {\n",
       "        if (forward) {\n",
       "            canvas_div.style.width = width + 'px';\n",
       "            canvas_div.style.height = height + 'px';\n",
       "        }\n",
       "    };\n",
       "\n",
       "    // Disable right mouse context menu.\n",
       "    this.rubberband_canvas.addEventListener('contextmenu', function (_e) {\n",
       "        event.preventDefault();\n",
       "        return false;\n",
       "    });\n",
       "\n",
       "    function set_focus() {\n",
       "        canvas.focus();\n",
       "        canvas_div.focus();\n",
       "    }\n",
       "\n",
       "    window.setTimeout(set_focus, 100);\n",
       "};\n",
       "\n",
       "mpl.figure.prototype._init_toolbar = function () {\n",
       "    var fig = this;\n",
       "\n",
       "    var toolbar = document.createElement('div');\n",
       "    toolbar.classList = 'mpl-toolbar';\n",
       "    this.root.appendChild(toolbar);\n",
       "\n",
       "    function on_click_closure(name) {\n",
       "        return function (_event) {\n",
       "            return fig.toolbar_button_onclick(name);\n",
       "        };\n",
       "    }\n",
       "\n",
       "    function on_mouseover_closure(tooltip) {\n",
       "        return function (event) {\n",
       "            if (!event.currentTarget.disabled) {\n",
       "                return fig.toolbar_button_onmouseover(tooltip);\n",
       "            }\n",
       "        };\n",
       "    }\n",
       "\n",
       "    fig.buttons = {};\n",
       "    var buttonGroup = document.createElement('div');\n",
       "    buttonGroup.classList = 'mpl-button-group';\n",
       "    for (var toolbar_ind in mpl.toolbar_items) {\n",
       "        var name = mpl.toolbar_items[toolbar_ind][0];\n",
       "        var tooltip = mpl.toolbar_items[toolbar_ind][1];\n",
       "        var image = mpl.toolbar_items[toolbar_ind][2];\n",
       "        var method_name = mpl.toolbar_items[toolbar_ind][3];\n",
       "\n",
       "        if (!name) {\n",
       "            /* Instead of a spacer, we start a new button group. */\n",
       "            if (buttonGroup.hasChildNodes()) {\n",
       "                toolbar.appendChild(buttonGroup);\n",
       "            }\n",
       "            buttonGroup = document.createElement('div');\n",
       "            buttonGroup.classList = 'mpl-button-group';\n",
       "            continue;\n",
       "        }\n",
       "\n",
       "        var button = (fig.buttons[name] = document.createElement('button'));\n",
       "        button.classList = 'mpl-widget';\n",
       "        button.setAttribute('role', 'button');\n",
       "        button.setAttribute('aria-disabled', 'false');\n",
       "        button.addEventListener('click', on_click_closure(method_name));\n",
       "        button.addEventListener('mouseover', on_mouseover_closure(tooltip));\n",
       "\n",
       "        var icon_img = document.createElement('img');\n",
       "        icon_img.src = '_images/' + image + '.png';\n",
       "        icon_img.srcset = '_images/' + image + '_large.png 2x';\n",
       "        icon_img.alt = tooltip;\n",
       "        button.appendChild(icon_img);\n",
       "\n",
       "        buttonGroup.appendChild(button);\n",
       "    }\n",
       "\n",
       "    if (buttonGroup.hasChildNodes()) {\n",
       "        toolbar.appendChild(buttonGroup);\n",
       "    }\n",
       "\n",
       "    var fmt_picker = document.createElement('select');\n",
       "    fmt_picker.classList = 'mpl-widget';\n",
       "    toolbar.appendChild(fmt_picker);\n",
       "    this.format_dropdown = fmt_picker;\n",
       "\n",
       "    for (var ind in mpl.extensions) {\n",
       "        var fmt = mpl.extensions[ind];\n",
       "        var option = document.createElement('option');\n",
       "        option.selected = fmt === mpl.default_extension;\n",
       "        option.innerHTML = fmt;\n",
       "        fmt_picker.appendChild(option);\n",
       "    }\n",
       "\n",
       "    var status_bar = document.createElement('span');\n",
       "    status_bar.classList = 'mpl-message';\n",
       "    toolbar.appendChild(status_bar);\n",
       "    this.message = status_bar;\n",
       "};\n",
       "\n",
       "mpl.figure.prototype.request_resize = function (x_pixels, y_pixels) {\n",
       "    // Request matplotlib to resize the figure. Matplotlib will then trigger a resize in the client,\n",
       "    // which will in turn request a refresh of the image.\n",
       "    this.send_message('resize', { width: x_pixels, height: y_pixels });\n",
       "};\n",
       "\n",
       "mpl.figure.prototype.send_message = function (type, properties) {\n",
       "    properties['type'] = type;\n",
       "    properties['figure_id'] = this.id;\n",
       "    this.ws.send(JSON.stringify(properties));\n",
       "};\n",
       "\n",
       "mpl.figure.prototype.send_draw_message = function () {\n",
       "    if (!this.waiting) {\n",
       "        this.waiting = true;\n",
       "        this.ws.send(JSON.stringify({ type: 'draw', figure_id: this.id }));\n",
       "    }\n",
       "};\n",
       "\n",
       "mpl.figure.prototype.handle_save = function (fig, _msg) {\n",
       "    var format_dropdown = fig.format_dropdown;\n",
       "    var format = format_dropdown.options[format_dropdown.selectedIndex].value;\n",
       "    fig.ondownload(fig, format);\n",
       "};\n",
       "\n",
       "mpl.figure.prototype.handle_resize = function (fig, msg) {\n",
       "    var size = msg['size'];\n",
       "    if (size[0] !== fig.canvas.width || size[1] !== fig.canvas.height) {\n",
       "        fig._resize_canvas(size[0], size[1], msg['forward']);\n",
       "        fig.send_message('refresh', {});\n",
       "    }\n",
       "};\n",
       "\n",
       "mpl.figure.prototype.handle_rubberband = function (fig, msg) {\n",
       "    var x0 = msg['x0'] / fig.ratio;\n",
       "    var y0 = (fig.canvas.height - msg['y0']) / fig.ratio;\n",
       "    var x1 = msg['x1'] / fig.ratio;\n",
       "    var y1 = (fig.canvas.height - msg['y1']) / fig.ratio;\n",
       "    x0 = Math.floor(x0) + 0.5;\n",
       "    y0 = Math.floor(y0) + 0.5;\n",
       "    x1 = Math.floor(x1) + 0.5;\n",
       "    y1 = Math.floor(y1) + 0.5;\n",
       "    var min_x = Math.min(x0, x1);\n",
       "    var min_y = Math.min(y0, y1);\n",
       "    var width = Math.abs(x1 - x0);\n",
       "    var height = Math.abs(y1 - y0);\n",
       "\n",
       "    fig.rubberband_context.clearRect(\n",
       "        0,\n",
       "        0,\n",
       "        fig.canvas.width / fig.ratio,\n",
       "        fig.canvas.height / fig.ratio\n",
       "    );\n",
       "\n",
       "    fig.rubberband_context.strokeRect(min_x, min_y, width, height);\n",
       "};\n",
       "\n",
       "mpl.figure.prototype.handle_figure_label = function (fig, msg) {\n",
       "    // Updates the figure title.\n",
       "    fig.header.textContent = msg['label'];\n",
       "};\n",
       "\n",
       "mpl.figure.prototype.handle_cursor = function (fig, msg) {\n",
       "    var cursor = msg['cursor'];\n",
       "    switch (cursor) {\n",
       "        case 0:\n",
       "            cursor = 'pointer';\n",
       "            break;\n",
       "        case 1:\n",
       "            cursor = 'default';\n",
       "            break;\n",
       "        case 2:\n",
       "            cursor = 'crosshair';\n",
       "            break;\n",
       "        case 3:\n",
       "            cursor = 'move';\n",
       "            break;\n",
       "    }\n",
       "    fig.rubberband_canvas.style.cursor = cursor;\n",
       "};\n",
       "\n",
       "mpl.figure.prototype.handle_message = function (fig, msg) {\n",
       "    fig.message.textContent = msg['message'];\n",
       "};\n",
       "\n",
       "mpl.figure.prototype.handle_draw = function (fig, _msg) {\n",
       "    // Request the server to send over a new figure.\n",
       "    fig.send_draw_message();\n",
       "};\n",
       "\n",
       "mpl.figure.prototype.handle_image_mode = function (fig, msg) {\n",
       "    fig.image_mode = msg['mode'];\n",
       "};\n",
       "\n",
       "mpl.figure.prototype.handle_history_buttons = function (fig, msg) {\n",
       "    for (var key in msg) {\n",
       "        if (!(key in fig.buttons)) {\n",
       "            continue;\n",
       "        }\n",
       "        fig.buttons[key].disabled = !msg[key];\n",
       "        fig.buttons[key].setAttribute('aria-disabled', !msg[key]);\n",
       "    }\n",
       "};\n",
       "\n",
       "mpl.figure.prototype.handle_navigate_mode = function (fig, msg) {\n",
       "    if (msg['mode'] === 'PAN') {\n",
       "        fig.buttons['Pan'].classList.add('active');\n",
       "        fig.buttons['Zoom'].classList.remove('active');\n",
       "    } else if (msg['mode'] === 'ZOOM') {\n",
       "        fig.buttons['Pan'].classList.remove('active');\n",
       "        fig.buttons['Zoom'].classList.add('active');\n",
       "    } else {\n",
       "        fig.buttons['Pan'].classList.remove('active');\n",
       "        fig.buttons['Zoom'].classList.remove('active');\n",
       "    }\n",
       "};\n",
       "\n",
       "mpl.figure.prototype.updated_canvas_event = function () {\n",
       "    // Called whenever the canvas gets updated.\n",
       "    this.send_message('ack', {});\n",
       "};\n",
       "\n",
       "// A function to construct a web socket function for onmessage handling.\n",
       "// Called in the figure constructor.\n",
       "mpl.figure.prototype._make_on_message_function = function (fig) {\n",
       "    return function socket_on_message(evt) {\n",
       "        if (evt.data instanceof Blob) {\n",
       "            var img = evt.data;\n",
       "            if (img.type !== 'image/png') {\n",
       "                /* FIXME: We get \"Resource interpreted as Image but\n",
       "                 * transferred with MIME type text/plain:\" errors on\n",
       "                 * Chrome.  But how to set the MIME type?  It doesn't seem\n",
       "                 * to be part of the websocket stream */\n",
       "                img.type = 'image/png';\n",
       "            }\n",
       "\n",
       "            /* Free the memory for the previous frames */\n",
       "            if (fig.imageObj.src) {\n",
       "                (window.URL || window.webkitURL).revokeObjectURL(\n",
       "                    fig.imageObj.src\n",
       "                );\n",
       "            }\n",
       "\n",
       "            fig.imageObj.src = (window.URL || window.webkitURL).createObjectURL(\n",
       "                img\n",
       "            );\n",
       "            fig.updated_canvas_event();\n",
       "            fig.waiting = false;\n",
       "            return;\n",
       "        } else if (\n",
       "            typeof evt.data === 'string' &&\n",
       "            evt.data.slice(0, 21) === 'data:image/png;base64'\n",
       "        ) {\n",
       "            fig.imageObj.src = evt.data;\n",
       "            fig.updated_canvas_event();\n",
       "            fig.waiting = false;\n",
       "            return;\n",
       "        }\n",
       "\n",
       "        var msg = JSON.parse(evt.data);\n",
       "        var msg_type = msg['type'];\n",
       "\n",
       "        // Call the  \"handle_{type}\" callback, which takes\n",
       "        // the figure and JSON message as its only arguments.\n",
       "        try {\n",
       "            var callback = fig['handle_' + msg_type];\n",
       "        } catch (e) {\n",
       "            console.log(\n",
       "                \"No handler for the '\" + msg_type + \"' message type: \",\n",
       "                msg\n",
       "            );\n",
       "            return;\n",
       "        }\n",
       "\n",
       "        if (callback) {\n",
       "            try {\n",
       "                // console.log(\"Handling '\" + msg_type + \"' message: \", msg);\n",
       "                callback(fig, msg);\n",
       "            } catch (e) {\n",
       "                console.log(\n",
       "                    \"Exception inside the 'handler_\" + msg_type + \"' callback:\",\n",
       "                    e,\n",
       "                    e.stack,\n",
       "                    msg\n",
       "                );\n",
       "            }\n",
       "        }\n",
       "    };\n",
       "};\n",
       "\n",
       "// from http://stackoverflow.com/questions/1114465/getting-mouse-location-in-canvas\n",
       "mpl.findpos = function (e) {\n",
       "    //this section is from http://www.quirksmode.org/js/events_properties.html\n",
       "    var targ;\n",
       "    if (!e) {\n",
       "        e = window.event;\n",
       "    }\n",
       "    if (e.target) {\n",
       "        targ = e.target;\n",
       "    } else if (e.srcElement) {\n",
       "        targ = e.srcElement;\n",
       "    }\n",
       "    if (targ.nodeType === 3) {\n",
       "        // defeat Safari bug\n",
       "        targ = targ.parentNode;\n",
       "    }\n",
       "\n",
       "    // pageX,Y are the mouse positions relative to the document\n",
       "    var boundingRect = targ.getBoundingClientRect();\n",
       "    var x = e.pageX - (boundingRect.left + document.body.scrollLeft);\n",
       "    var y = e.pageY - (boundingRect.top + document.body.scrollTop);\n",
       "\n",
       "    return { x: x, y: y };\n",
       "};\n",
       "\n",
       "/*\n",
       " * return a copy of an object with only non-object keys\n",
       " * we need this to avoid circular references\n",
       " * http://stackoverflow.com/a/24161582/3208463\n",
       " */\n",
       "function simpleKeys(original) {\n",
       "    return Object.keys(original).reduce(function (obj, key) {\n",
       "        if (typeof original[key] !== 'object') {\n",
       "            obj[key] = original[key];\n",
       "        }\n",
       "        return obj;\n",
       "    }, {});\n",
       "}\n",
       "\n",
       "mpl.figure.prototype.mouse_event = function (event, name) {\n",
       "    var canvas_pos = mpl.findpos(event);\n",
       "\n",
       "    if (name === 'button_press') {\n",
       "        this.canvas.focus();\n",
       "        this.canvas_div.focus();\n",
       "    }\n",
       "\n",
       "    var x = canvas_pos.x * this.ratio;\n",
       "    var y = canvas_pos.y * this.ratio;\n",
       "\n",
       "    this.send_message(name, {\n",
       "        x: x,\n",
       "        y: y,\n",
       "        button: event.button,\n",
       "        step: event.step,\n",
       "        guiEvent: simpleKeys(event),\n",
       "    });\n",
       "\n",
       "    /* This prevents the web browser from automatically changing to\n",
       "     * the text insertion cursor when the button is pressed.  We want\n",
       "     * to control all of the cursor setting manually through the\n",
       "     * 'cursor' event from matplotlib */\n",
       "    event.preventDefault();\n",
       "    return false;\n",
       "};\n",
       "\n",
       "mpl.figure.prototype._key_event_extra = function (_event, _name) {\n",
       "    // Handle any extra behaviour associated with a key event\n",
       "};\n",
       "\n",
       "mpl.figure.prototype.key_event = function (event, name) {\n",
       "    // Prevent repeat events\n",
       "    if (name === 'key_press') {\n",
       "        if (event.key === this._key) {\n",
       "            return;\n",
       "        } else {\n",
       "            this._key = event.key;\n",
       "        }\n",
       "    }\n",
       "    if (name === 'key_release') {\n",
       "        this._key = null;\n",
       "    }\n",
       "\n",
       "    var value = '';\n",
       "    if (event.ctrlKey && event.key !== 'Control') {\n",
       "        value += 'ctrl+';\n",
       "    }\n",
       "    else if (event.altKey && event.key !== 'Alt') {\n",
       "        value += 'alt+';\n",
       "    }\n",
       "    else if (event.shiftKey && event.key !== 'Shift') {\n",
       "        value += 'shift+';\n",
       "    }\n",
       "\n",
       "    value += 'k' + event.key;\n",
       "\n",
       "    this._key_event_extra(event, name);\n",
       "\n",
       "    this.send_message(name, { key: value, guiEvent: simpleKeys(event) });\n",
       "    return false;\n",
       "};\n",
       "\n",
       "mpl.figure.prototype.toolbar_button_onclick = function (name) {\n",
       "    if (name === 'download') {\n",
       "        this.handle_save(this, null);\n",
       "    } else {\n",
       "        this.send_message('toolbar_button', { name: name });\n",
       "    }\n",
       "};\n",
       "\n",
       "mpl.figure.prototype.toolbar_button_onmouseover = function (tooltip) {\n",
       "    this.message.textContent = tooltip;\n",
       "};\n",
       "\n",
       "///////////////// REMAINING CONTENT GENERATED BY embed_js.py /////////////////\n",
       "// prettier-ignore\n",
       "var _JSXTOOLS_RESIZE_OBSERVER=function(A){var t,i=new WeakMap,n=new WeakMap,a=new WeakMap,r=new WeakMap,o=new Set;function s(e){if(!(this instanceof s))throw new TypeError(\"Constructor requires 'new' operator\");i.set(this,e)}function h(){throw new TypeError(\"Function is not a constructor\")}function c(e,t,i,n){e=0 in arguments?Number(arguments[0]):0,t=1 in arguments?Number(arguments[1]):0,i=2 in arguments?Number(arguments[2]):0,n=3 in arguments?Number(arguments[3]):0,this.right=(this.x=this.left=e)+(this.width=i),this.bottom=(this.y=this.top=t)+(this.height=n),Object.freeze(this)}function d(){t=requestAnimationFrame(d);var s=new WeakMap,p=new Set;o.forEach((function(t){r.get(t).forEach((function(i){var r=t instanceof window.SVGElement,o=a.get(t),d=r?0:parseFloat(o.paddingTop),f=r?0:parseFloat(o.paddingRight),l=r?0:parseFloat(o.paddingBottom),u=r?0:parseFloat(o.paddingLeft),g=r?0:parseFloat(o.borderTopWidth),m=r?0:parseFloat(o.borderRightWidth),w=r?0:parseFloat(o.borderBottomWidth),b=u+f,F=d+l,v=(r?0:parseFloat(o.borderLeftWidth))+m,W=g+w,y=r?0:t.offsetHeight-W-t.clientHeight,E=r?0:t.offsetWidth-v-t.clientWidth,R=b+v,z=F+W,M=r?t.width:parseFloat(o.width)-R-E,O=r?t.height:parseFloat(o.height)-z-y;if(n.has(t)){var k=n.get(t);if(k[0]===M&&k[1]===O)return}n.set(t,[M,O]);var S=Object.create(h.prototype);S.target=t,S.contentRect=new c(u,d,M,O),s.has(i)||(s.set(i,[]),p.add(i)),s.get(i).push(S)}))})),p.forEach((function(e){i.get(e).call(e,s.get(e),e)}))}return s.prototype.observe=function(i){if(i instanceof window.Element){r.has(i)||(r.set(i,new Set),o.add(i),a.set(i,window.getComputedStyle(i)));var n=r.get(i);n.has(this)||n.add(this),cancelAnimationFrame(t),t=requestAnimationFrame(d)}},s.prototype.unobserve=function(i){if(i instanceof window.Element&&r.has(i)){var n=r.get(i);n.has(this)&&(n.delete(this),n.size||(r.delete(i),o.delete(i))),n.size||r.delete(i),o.size||cancelAnimationFrame(t)}},A.DOMRectReadOnly=c,A.ResizeObserver=s,A.ResizeObserverEntry=h,A}; // eslint-disable-line\n",
       "mpl.toolbar_items = [[\"Home\", \"Reset original view\", \"fa fa-home icon-home\", \"home\"], [\"Back\", \"Back to previous view\", \"fa fa-arrow-left icon-arrow-left\", \"back\"], [\"Forward\", \"Forward to next view\", \"fa fa-arrow-right icon-arrow-right\", \"forward\"], [\"\", \"\", \"\", \"\"], [\"Pan\", \"Left button pans, Right button zooms\\nx/y fixes axis, CTRL fixes aspect\", \"fa fa-arrows icon-move\", \"pan\"], [\"Zoom\", \"Zoom to rectangle\\nx/y fixes axis, CTRL fixes aspect\", \"fa fa-square-o icon-check-empty\", \"zoom\"], [\"\", \"\", \"\", \"\"], [\"Download\", \"Download plot\", \"fa fa-floppy-o icon-save\", \"download\"]];\n",
       "\n",
       "mpl.extensions = [\"eps\", \"jpeg\", \"pgf\", \"pdf\", \"png\", \"ps\", \"raw\", \"svg\", \"tif\"];\n",
       "\n",
       "mpl.default_extension = \"png\";/* global mpl */\n",
       "\n",
       "var comm_websocket_adapter = function (comm) {\n",
       "    // Create a \"websocket\"-like object which calls the given IPython comm\n",
       "    // object with the appropriate methods. Currently this is a non binary\n",
       "    // socket, so there is still some room for performance tuning.\n",
       "    var ws = {};\n",
       "\n",
       "    ws.binaryType = comm.kernel.ws.binaryType;\n",
       "    ws.readyState = comm.kernel.ws.readyState;\n",
       "    function updateReadyState(_event) {\n",
       "        if (comm.kernel.ws) {\n",
       "            ws.readyState = comm.kernel.ws.readyState;\n",
       "        } else {\n",
       "            ws.readyState = 3; // Closed state.\n",
       "        }\n",
       "    }\n",
       "    comm.kernel.ws.addEventListener('open', updateReadyState);\n",
       "    comm.kernel.ws.addEventListener('close', updateReadyState);\n",
       "    comm.kernel.ws.addEventListener('error', updateReadyState);\n",
       "\n",
       "    ws.close = function () {\n",
       "        comm.close();\n",
       "    };\n",
       "    ws.send = function (m) {\n",
       "        //console.log('sending', m);\n",
       "        comm.send(m);\n",
       "    };\n",
       "    // Register the callback with on_msg.\n",
       "    comm.on_msg(function (msg) {\n",
       "        //console.log('receiving', msg['content']['data'], msg);\n",
       "        var data = msg['content']['data'];\n",
       "        if (data['blob'] !== undefined) {\n",
       "            data = {\n",
       "                data: new Blob(msg['buffers'], { type: data['blob'] }),\n",
       "            };\n",
       "        }\n",
       "        // Pass the mpl event to the overridden (by mpl) onmessage function.\n",
       "        ws.onmessage(data);\n",
       "    });\n",
       "    return ws;\n",
       "};\n",
       "\n",
       "mpl.mpl_figure_comm = function (comm, msg) {\n",
       "    // This is the function which gets called when the mpl process\n",
       "    // starts-up an IPython Comm through the \"matplotlib\" channel.\n",
       "\n",
       "    var id = msg.content.data.id;\n",
       "    // Get hold of the div created by the display call when the Comm\n",
       "    // socket was opened in Python.\n",
       "    var element = document.getElementById(id);\n",
       "    var ws_proxy = comm_websocket_adapter(comm);\n",
       "\n",
       "    function ondownload(figure, _format) {\n",
       "        window.open(figure.canvas.toDataURL());\n",
       "    }\n",
       "\n",
       "    var fig = new mpl.figure(id, ws_proxy, ondownload, element);\n",
       "\n",
       "    // Call onopen now - mpl needs it, as it is assuming we've passed it a real\n",
       "    // web socket which is closed, not our websocket->open comm proxy.\n",
       "    ws_proxy.onopen();\n",
       "\n",
       "    fig.parent_element = element;\n",
       "    fig.cell_info = mpl.find_output_cell(\"<div id='\" + id + \"'></div>\");\n",
       "    if (!fig.cell_info) {\n",
       "        console.error('Failed to find cell for figure', id, fig);\n",
       "        return;\n",
       "    }\n",
       "    fig.cell_info[0].output_area.element.on(\n",
       "        'cleared',\n",
       "        { fig: fig },\n",
       "        fig._remove_fig_handler\n",
       "    );\n",
       "};\n",
       "\n",
       "mpl.figure.prototype.handle_close = function (fig, msg) {\n",
       "    var width = fig.canvas.width / fig.ratio;\n",
       "    fig.cell_info[0].output_area.element.off(\n",
       "        'cleared',\n",
       "        fig._remove_fig_handler\n",
       "    );\n",
       "    fig.resizeObserverInstance.unobserve(fig.canvas_div);\n",
       "\n",
       "    // Update the output cell to use the data from the current canvas.\n",
       "    fig.push_to_output();\n",
       "    var dataURL = fig.canvas.toDataURL();\n",
       "    // Re-enable the keyboard manager in IPython - without this line, in FF,\n",
       "    // the notebook keyboard shortcuts fail.\n",
       "    IPython.keyboard_manager.enable();\n",
       "    fig.parent_element.innerHTML =\n",
       "        '<img src=\"' + dataURL + '\" width=\"' + width + '\">';\n",
       "    fig.close_ws(fig, msg);\n",
       "};\n",
       "\n",
       "mpl.figure.prototype.close_ws = function (fig, msg) {\n",
       "    fig.send_message('closing', msg);\n",
       "    // fig.ws.close()\n",
       "};\n",
       "\n",
       "mpl.figure.prototype.push_to_output = function (_remove_interactive) {\n",
       "    // Turn the data on the canvas into data in the output cell.\n",
       "    var width = this.canvas.width / this.ratio;\n",
       "    var dataURL = this.canvas.toDataURL();\n",
       "    this.cell_info[1]['text/html'] =\n",
       "        '<img src=\"' + dataURL + '\" width=\"' + width + '\">';\n",
       "};\n",
       "\n",
       "mpl.figure.prototype.updated_canvas_event = function () {\n",
       "    // Tell IPython that the notebook contents must change.\n",
       "    IPython.notebook.set_dirty(true);\n",
       "    this.send_message('ack', {});\n",
       "    var fig = this;\n",
       "    // Wait a second, then push the new image to the DOM so\n",
       "    // that it is saved nicely (might be nice to debounce this).\n",
       "    setTimeout(function () {\n",
       "        fig.push_to_output();\n",
       "    }, 1000);\n",
       "};\n",
       "\n",
       "mpl.figure.prototype._init_toolbar = function () {\n",
       "    var fig = this;\n",
       "\n",
       "    var toolbar = document.createElement('div');\n",
       "    toolbar.classList = 'btn-toolbar';\n",
       "    this.root.appendChild(toolbar);\n",
       "\n",
       "    function on_click_closure(name) {\n",
       "        return function (_event) {\n",
       "            return fig.toolbar_button_onclick(name);\n",
       "        };\n",
       "    }\n",
       "\n",
       "    function on_mouseover_closure(tooltip) {\n",
       "        return function (event) {\n",
       "            if (!event.currentTarget.disabled) {\n",
       "                return fig.toolbar_button_onmouseover(tooltip);\n",
       "            }\n",
       "        };\n",
       "    }\n",
       "\n",
       "    fig.buttons = {};\n",
       "    var buttonGroup = document.createElement('div');\n",
       "    buttonGroup.classList = 'btn-group';\n",
       "    var button;\n",
       "    for (var toolbar_ind in mpl.toolbar_items) {\n",
       "        var name = mpl.toolbar_items[toolbar_ind][0];\n",
       "        var tooltip = mpl.toolbar_items[toolbar_ind][1];\n",
       "        var image = mpl.toolbar_items[toolbar_ind][2];\n",
       "        var method_name = mpl.toolbar_items[toolbar_ind][3];\n",
       "\n",
       "        if (!name) {\n",
       "            /* Instead of a spacer, we start a new button group. */\n",
       "            if (buttonGroup.hasChildNodes()) {\n",
       "                toolbar.appendChild(buttonGroup);\n",
       "            }\n",
       "            buttonGroup = document.createElement('div');\n",
       "            buttonGroup.classList = 'btn-group';\n",
       "            continue;\n",
       "        }\n",
       "\n",
       "        button = fig.buttons[name] = document.createElement('button');\n",
       "        button.classList = 'btn btn-default';\n",
       "        button.href = '#';\n",
       "        button.title = name;\n",
       "        button.innerHTML = '<i class=\"fa ' + image + ' fa-lg\"></i>';\n",
       "        button.addEventListener('click', on_click_closure(method_name));\n",
       "        button.addEventListener('mouseover', on_mouseover_closure(tooltip));\n",
       "        buttonGroup.appendChild(button);\n",
       "    }\n",
       "\n",
       "    if (buttonGroup.hasChildNodes()) {\n",
       "        toolbar.appendChild(buttonGroup);\n",
       "    }\n",
       "\n",
       "    // Add the status bar.\n",
       "    var status_bar = document.createElement('span');\n",
       "    status_bar.classList = 'mpl-message pull-right';\n",
       "    toolbar.appendChild(status_bar);\n",
       "    this.message = status_bar;\n",
       "\n",
       "    // Add the close button to the window.\n",
       "    var buttongrp = document.createElement('div');\n",
       "    buttongrp.classList = 'btn-group inline pull-right';\n",
       "    button = document.createElement('button');\n",
       "    button.classList = 'btn btn-mini btn-primary';\n",
       "    button.href = '#';\n",
       "    button.title = 'Stop Interaction';\n",
       "    button.innerHTML = '<i class=\"fa fa-power-off icon-remove icon-large\"></i>';\n",
       "    button.addEventListener('click', function (_evt) {\n",
       "        fig.handle_close(fig, {});\n",
       "    });\n",
       "    button.addEventListener(\n",
       "        'mouseover',\n",
       "        on_mouseover_closure('Stop Interaction')\n",
       "    );\n",
       "    buttongrp.appendChild(button);\n",
       "    var titlebar = this.root.querySelector('.ui-dialog-titlebar');\n",
       "    titlebar.insertBefore(buttongrp, titlebar.firstChild);\n",
       "};\n",
       "\n",
       "mpl.figure.prototype._remove_fig_handler = function (event) {\n",
       "    var fig = event.data.fig;\n",
       "    if (event.target !== this) {\n",
       "        // Ignore bubbled events from children.\n",
       "        return;\n",
       "    }\n",
       "    fig.close_ws(fig, {});\n",
       "};\n",
       "\n",
       "mpl.figure.prototype._root_extra_style = function (el) {\n",
       "    el.style.boxSizing = 'content-box'; // override notebook setting of border-box.\n",
       "};\n",
       "\n",
       "mpl.figure.prototype._canvas_extra_style = function (el) {\n",
       "    // this is important to make the div 'focusable\n",
       "    el.setAttribute('tabindex', 0);\n",
       "    // reach out to IPython and tell the keyboard manager to turn it's self\n",
       "    // off when our div gets focus\n",
       "\n",
       "    // location in version 3\n",
       "    if (IPython.notebook.keyboard_manager) {\n",
       "        IPython.notebook.keyboard_manager.register_events(el);\n",
       "    } else {\n",
       "        // location in version 2\n",
       "        IPython.keyboard_manager.register_events(el);\n",
       "    }\n",
       "};\n",
       "\n",
       "mpl.figure.prototype._key_event_extra = function (event, _name) {\n",
       "    var manager = IPython.notebook.keyboard_manager;\n",
       "    if (!manager) {\n",
       "        manager = IPython.keyboard_manager;\n",
       "    }\n",
       "\n",
       "    // Check for shift+enter\n",
       "    if (event.shiftKey && event.which === 13) {\n",
       "        this.canvas_div.blur();\n",
       "        // select the cell after this one\n",
       "        var index = IPython.notebook.find_cell_index(this.cell_info[0]);\n",
       "        IPython.notebook.select(index + 1);\n",
       "    }\n",
       "};\n",
       "\n",
       "mpl.figure.prototype.handle_save = function (fig, _msg) {\n",
       "    fig.ondownload(fig, null);\n",
       "};\n",
       "\n",
       "mpl.find_output_cell = function (html_output) {\n",
       "    // Return the cell and output element which can be found *uniquely* in the notebook.\n",
       "    // Note - this is a bit hacky, but it is done because the \"notebook_saving.Notebook\"\n",
       "    // IPython event is triggered only after the cells have been serialised, which for\n",
       "    // our purposes (turning an active figure into a static one), is too late.\n",
       "    var cells = IPython.notebook.get_cells();\n",
       "    var ncells = cells.length;\n",
       "    for (var i = 0; i < ncells; i++) {\n",
       "        var cell = cells[i];\n",
       "        if (cell.cell_type === 'code') {\n",
       "            for (var j = 0; j < cell.output_area.outputs.length; j++) {\n",
       "                var data = cell.output_area.outputs[j];\n",
       "                if (data.data) {\n",
       "                    // IPython >= 3 moved mimebundle to data attribute of output\n",
       "                    data = data.data;\n",
       "                }\n",
       "                if (data['text/html'] === html_output) {\n",
       "                    return [cell, data, j];\n",
       "                }\n",
       "            }\n",
       "        }\n",
       "    }\n",
       "};\n",
       "\n",
       "// Register the function which deals with the matplotlib target/channel.\n",
       "// The kernel may be null if the page has been refreshed.\n",
       "if (IPython.notebook.kernel !== null) {\n",
       "    IPython.notebook.kernel.comm_manager.register_target(\n",
       "        'matplotlib',\n",
       "        mpl.mpl_figure_comm\n",
       "    );\n",
       "}\n"
      ],
      "text/plain": [
       "<IPython.core.display.Javascript object>"
      ]
     },
     "metadata": {},
     "output_type": "display_data"
    },
    {
     "data": {
      "text/html": [
       "<img src=\"data:image/png;base64,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\" width=\"640\">"
      ],
      "text/plain": [
       "<IPython.core.display.HTML object>"
      ]
     },
     "metadata": {},
     "output_type": "display_data"
    },
    {
     "data": {
      "text/plain": [
       "Text(0.5, 0, 'Portée [m]')"
      ]
     },
     "execution_count": 21,
     "metadata": {},
     "output_type": "execute_result"
    }
   ],
   "source": [
    "def f(x, y):\n",
    "    return (5*x*y**4)/(384*e0m*ig)\n",
    "x = np.linspace(0, 500, 500)\n",
    "y = np.linspace(0, 15, 15)\n",
    "X, Y = np.meshgrid(x, y)\n",
    "Z = f(X,Y)\n",
    "\n",
    "%matplotlib notebook\n",
    "\n",
    "fig = plt.figure()\n",
    "ax = plt.axes(projection='3d')\n",
    "ax.plot_surface(X, Y, Z, rstride=1, cstride=1,\n",
    "cmap='jet', edgecolor='none')\n",
    "\n",
    "plt.title(\"Déformation en fonction de la portée et de la charge à l'ELS [m]\")\n",
    "plt.xlabel(\"Charge ELS [kN/m]\")\n",
    "plt.ylabel(\"Portée [m]\")"
   ]
  },
  {
   "cell_type": "code",
   "execution_count": 22,
   "id": "fac9b33e",
   "metadata": {
    "ExecuteTime": {
     "end_time": "2022-04-25T08:40:12.505253Z",
     "start_time": "2022-04-25T08:40:12.489612Z"
    }
   },
   "outputs": [
    {
     "name": "stdout",
     "output_type": "stream",
     "text": [
      "66666666.666666664\n"
     ]
    }
   ],
   "source": [
    "print(ig)"
   ]
  },
  {
   "cell_type": "code",
   "execution_count": null,
   "id": "7472d750",
   "metadata": {},
   "outputs": [],
   "source": []
  },
  {
   "cell_type": "code",
   "execution_count": null,
   "id": "999a3920",
   "metadata": {},
   "outputs": [],
   "source": []
  }
 ],
 "metadata": {
  "hide_input": false,
  "kernelspec": {
   "display_name": "Python 3 (ipykernel)",
   "language": "python",
   "name": "python3"
  },
  "language_info": {
   "codemirror_mode": {
    "name": "ipython",
    "version": 3
   },
   "file_extension": ".py",
   "mimetype": "text/x-python",
   "name": "python",
   "nbconvert_exporter": "python",
   "pygments_lexer": "ipython3",
   "version": "3.10.0"
  }
 },
 "nbformat": 4,
 "nbformat_minor": 5
}
