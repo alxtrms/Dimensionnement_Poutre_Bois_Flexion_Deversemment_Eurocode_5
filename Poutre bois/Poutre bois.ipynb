{
 "cells": [
  {
   "cell_type": "markdown",
   "id": "e45ad3b5",
   "metadata": {},
   "source": [
    "# Vérification poutre bois en flexion simple et au déversement"
   ]
  },
  {
   "cell_type": "markdown",
   "id": "564993cc",
   "metadata": {},
   "source": [
    "## 1. Données générales"
   ]
  },
  {
   "cell_type": "markdown",
   "id": "72b76a32",
   "metadata": {
    "ExecuteTime": {
     "end_time": "2022-04-21T08:37:26.772322Z",
     "start_time": "2022-04-21T08:37:26.734544Z"
    }
   },
   "source": [
    "### 1.1. Références normatives\n",
    "\n",
    "*- NF EN 1995 + AN : Conception et calcul des structures en bois*"
   ]
  },
  {
   "cell_type": "code",
   "execution_count": 1,
   "id": "de1cc1a1",
   "metadata": {
    "ExecuteTime": {
     "end_time": "2022-04-22T09:56:57.627195Z",
     "start_time": "2022-04-22T09:56:57.596000Z"
    }
   },
   "outputs": [
    {
     "data": {
      "text/html": [
       "<script>\n",
       "    // AUTORUN ALL CELLS ON NOTEBOOK-LOAD!\n",
       "    require(\n",
       "        ['base/js/namespace', 'jquery'], \n",
       "        function(jupyter, $) {\n",
       "            $(jupyter.events).on(\"kernel_ready.Kernel\", function () {\n",
       "                console.log(\"Auto-running all cells-below...\");\n",
       "                jupyter.actions.call('jupyter-notebook:run-all-cells-below');\n",
       "                jupyter.actions.call('jupyter-notebook:save-notebook');\n",
       "            });\n",
       "        }\n",
       "    );\n",
       "</script>\n"
      ],
      "text/plain": [
       "<IPython.core.display.HTML object>"
      ]
     },
     "metadata": {},
     "output_type": "display_data"
    }
   ],
   "source": [
    "%%html\n",
    "<script>\n",
    "    // AUTORUN ALL CELLS ON NOTEBOOK-LOAD!\n",
    "    require(\n",
    "        ['base/js/namespace', 'jquery'], \n",
    "        function(jupyter, $) {\n",
    "            $(jupyter.events).on(\"kernel_ready.Kernel\", function () {\n",
    "                console.log(\"Auto-running all cells-below...\");\n",
    "                jupyter.actions.call('jupyter-notebook:run-all-cells-below');\n",
    "                jupyter.actions.call('jupyter-notebook:save-notebook');\n",
    "            });\n",
    "        }\n",
    "    );\n",
    "</script>"
   ]
  },
  {
   "cell_type": "markdown",
   "id": "c8897ac6",
   "metadata": {},
   "source": [
    "### 1.2. Matériau"
   ]
  },
  {
   "cell_type": "code",
   "execution_count": 2,
   "id": "e916feba",
   "metadata": {
    "ExecuteTime": {
     "end_time": "2022-04-22T09:56:58.232651Z",
     "start_time": "2022-04-22T09:56:57.627195Z"
    }
   },
   "outputs": [],
   "source": [
    "from math import *\n",
    "import ipywidgets as widgets\n",
    "from tkinter import *\n",
    "import ipywidgets as widgets\n",
    "import matplotlib.pyplot as plt\n",
    "import numpy as np\n",
    "from IPython.display import Javascript, display\n",
    "from ipywidgets import widgets\n",
    "import pandas as pd\n",
    "from math import *\n",
    "import ipywidgets as widgets\n",
    "from tkinter import *"
   ]
  },
  {
   "cell_type": "code",
   "execution_count": 3,
   "id": "452cb5a7",
   "metadata": {
    "ExecuteTime": {
     "end_time": "2022-04-22T09:56:58.248253Z",
     "start_time": "2022-04-22T09:56:58.232651Z"
    }
   },
   "outputs": [
    {
     "data": {
      "application/vnd.jupyter.widget-view+json": {
       "model_id": "dcc0ea345a14469589f5474df07fbb36",
       "version_major": 2,
       "version_minor": 0
      },
      "text/plain": [
       "Dropdown(description='Bois :', options=('Résineux', 'Feuillus', 'Lamellé collé'), value='Résineux')"
      ]
     },
     "metadata": {},
     "output_type": "display_data"
    }
   ],
   "source": [
    "bois=widgets.Dropdown(\n",
    "    options=['Résineux','Feuillus','Lamellé collé'],\n",
    "    value='Résineux',\n",
    "    description='Bois :',\n",
    "    disabled=False,\n",
    ")\n",
    "bois\n"
   ]
  },
  {
   "cell_type": "code",
   "execution_count": 4,
   "id": "6cf147e8",
   "metadata": {
    "ExecuteTime": {
     "end_time": "2022-04-22T09:56:58.263868Z",
     "start_time": "2022-04-22T09:56:58.248253Z"
    }
   },
   "outputs": [
    {
     "data": {
      "application/vnd.jupyter.widget-view+json": {
       "model_id": "7e858c6bc8b6468794e018586c647d10",
       "version_major": 2,
       "version_minor": 0
      },
      "text/plain": [
       "Button(description='Valider', style=ButtonStyle())"
      ]
     },
     "metadata": {},
     "output_type": "display_data"
    },
    {
     "data": {
      "application/javascript": [
       "IPython.notebook.execute_cell_range(IPython.notebook.get_selected_index()+1, IPython.notebook.get_selected_index()+2)"
      ],
      "text/plain": [
       "<IPython.core.display.Javascript object>"
      ]
     },
     "metadata": {},
     "output_type": "display_data"
    },
    {
     "data": {
      "application/javascript": [
       "IPython.notebook.execute_cell_range(IPython.notebook.get_selected_index()+1, IPython.notebook.get_selected_index()+2)"
      ],
      "text/plain": [
       "<IPython.core.display.Javascript object>"
      ]
     },
     "metadata": {},
     "output_type": "display_data"
    }
   ],
   "source": [
    "def run_all(ev):\n",
    "    display(Javascript('IPython.notebook.execute_cell_range(IPython.notebook.get_selected_index()+1, IPython.notebook.get_selected_index()+2)'))\n",
    "\n",
    "button = widgets.Button(description=\"Valider\")\n",
    "\n",
    "button.on_click(run_all)\n",
    "display(button)"
   ]
  },
  {
   "cell_type": "code",
   "execution_count": 98,
   "id": "4aeadfa6",
   "metadata": {
    "ExecuteTime": {
     "end_time": "2022-04-22T10:15:44.224084Z",
     "start_time": "2022-04-22T10:15:44.204437Z"
    }
   },
   "outputs": [
    {
     "data": {
      "application/vnd.jupyter.widget-view+json": {
       "model_id": "80ab40fa03b0448e8d4b928ae655d80c",
       "version_major": 2,
       "version_minor": 0
      },
      "text/plain": [
       "Dropdown(description='Classe :', index=3, options=('C14', 'C16', 'C18', 'C20', 'C22', 'C24', 'C27', 'C30', 'C3…"
      ]
     },
     "metadata": {},
     "output_type": "display_data"
    }
   ],
   "source": [
    "if bois.value=='Résineux':\n",
    "    classe=widgets.Dropdown(\n",
    "        options=['C14','C16','C18','C20','C22','C24','C27','C30','C35','C40'],\n",
    "        value='C20',\n",
    "        description='Classe :',\n",
    "        disabled=False,\n",
    ")\n",
    "elif bois.value=='Feuillus':\n",
    "    classe=widgets.Dropdown(\n",
    "        options=['D30','D35','D40','D50','D60','D70'],\n",
    "        value='D30',\n",
    "        description='Classe :',\n",
    "        disabled=False,\n",
    ")\n",
    "else:\n",
    "    classe=widgets.Dropdown(\n",
    "        options=['GL24h','GL28h','GL32h','GL36h','GL24c','GL28c','GL32c','GL36c'],\n",
    "        value='GL24h',\n",
    "        description='Classe :',\n",
    "        disabled=False,\n",
    ")\n",
    "\n",
    "display(classe)"
   ]
  },
  {
   "cell_type": "code",
   "execution_count": 6,
   "id": "d2ab3765",
   "metadata": {
    "ExecuteTime": {
     "end_time": "2022-04-22T09:56:58.298715Z",
     "start_time": "2022-04-22T09:56:58.280686Z"
    }
   },
   "outputs": [
    {
     "data": {
      "application/vnd.jupyter.widget-view+json": {
       "model_id": "c8b01ddbcd0e4ed4ae12e1aff0e82eb8",
       "version_major": 2,
       "version_minor": 0
      },
      "text/plain": [
       "Button(description='Valider', style=ButtonStyle())"
      ]
     },
     "metadata": {},
     "output_type": "display_data"
    },
    {
     "data": {
      "application/javascript": [
       "IPython.notebook.execute_cell_range(IPython.notebook.get_selected_index()+1, IPython.notebook.get_selected_index()+5)"
      ],
      "text/plain": [
       "<IPython.core.display.Javascript object>"
      ]
     },
     "metadata": {},
     "output_type": "display_data"
    }
   ],
   "source": [
    "def run_all(ev):\n",
    "    display(Javascript('IPython.notebook.execute_cell_range(IPython.notebook.get_selected_index()+1, IPython.notebook.get_selected_index()+5)'))\n",
    "\n",
    "button = widgets.Button(description=\"Valider\")\n",
    "\n",
    "button.on_click(run_all)\n",
    "display(button)"
   ]
  },
  {
   "cell_type": "code",
   "execution_count": 99,
   "id": "4a9d52b8",
   "metadata": {
    "ExecuteTime": {
     "end_time": "2022-04-22T10:15:45.843821Z",
     "start_time": "2022-04-22T10:15:45.810440Z"
    }
   },
   "outputs": [],
   "source": [
    "import pandas as pd\n",
    "\n",
    "caracbois=pd.read_excel(\"caracB.xlsx\")"
   ]
  },
  {
   "cell_type": "code",
   "execution_count": 100,
   "id": "b9b11570",
   "metadata": {
    "ExecuteTime": {
     "end_time": "2022-04-22T10:15:45.859461Z",
     "start_time": "2022-04-22T10:15:45.843821Z"
    },
    "scrolled": true
   },
   "outputs": [],
   "source": [
    "fmk=caracbois.loc[0,classe.value]\n",
    "ft0k=caracbois.loc[1,classe.value]\n",
    "ft90k=caracbois.loc[2,classe.value]\n",
    "fc0k=caracbois.loc[3,classe.value]\n",
    "fc90k=caracbois.loc[4,classe.value]\n",
    "fvk=caracbois.loc[5,classe.value]\n",
    "e0m=caracbois.loc[6,classe.value]\n",
    "e05=caracbois.loc[7,classe.value]\n",
    "pm=caracbois.loc[8,classe.value]"
   ]
  },
  {
   "cell_type": "markdown",
   "id": "0adfb6af",
   "metadata": {
    "ExecuteTime": {
     "end_time": "2022-04-21T12:36:29.283474Z",
     "start_time": "2022-04-21T12:36:29.267853Z"
    },
    "variables": {
     "classe.value": "C14",
     "e05": "4.7",
     "e0m": "7.0",
     "fc0k": "16.0",
     "fc90k": "2.0",
     "fmk": "14.0",
     "ft0k": "8.0",
     "ft90k": "0.4",
     "fvk": "3.0",
     "pm": "350.0"
    }
   },
   "source": [
    "|Caractéristiques|Symbole|{{classe.value}}|Unité|\n",
    "|-|-|-|-|\n",
    "|Flexion|$$f_{m,k}$$|{{fmk}}|$$N/mm^{2}$$|\n",
    "|Traction axiale|$$f_{t,0,k}$$|{{ft0k}}|$$N/mm^{2}$$|\n",
    "|Traction transversalle|$$f_{m,k}$$|{{ft90k}}|$$N/mm^{2}$$|\n",
    "|Compression axiale|$$f_{m,k}$$|{{fc0k}}|$$N/mm^{2}$$|\n",
    "|Compression transversale|$$f_{m,k}$$|{{fc90k}}|$$N/mm^{2}$$|\n",
    "|Cisaillement|$$f_{v,k}$$|{{fvk}}|$$N/mm^{2}$$|\n",
    "|Module moyen d'élasticité axial|$$E_{0,moy}$$|{{e0m}}|$$N/mm^{2}$$|\n",
    "|Module caractéristique d'élasticité axial|$$E_{0,0,5}$$|{{e05}}|$$N/mm^{2}$$|\n",
    "|Masse volumique moyenne|$$\\rho_{moy}$$|{{pm}}|$$kg/m^{2}$$|"
   ]
  },
  {
   "cell_type": "markdown",
   "id": "51119f48",
   "metadata": {},
   "source": [
    "### 1.3. Valeurs de calcul des résistance du bois"
   ]
  },
  {
   "cell_type": "markdown",
   "id": "cf7fe5c8",
   "metadata": {},
   "source": [
    "#### Classe de service"
   ]
  },
  {
   "cell_type": "code",
   "execution_count": 9,
   "id": "1832581a",
   "metadata": {
    "ExecuteTime": {
     "end_time": "2022-04-22T09:56:58.744787Z",
     "start_time": "2022-04-22T09:56:58.729144Z"
    }
   },
   "outputs": [
    {
     "data": {
      "application/vnd.jupyter.widget-view+json": {
       "model_id": "8a56a30c2a1d4fea85b9127b29b29f3e",
       "version_major": 2,
       "version_minor": 0
      },
      "text/plain": [
       "ToggleButtons(options=('Classe de service 1', 'Classe de service 2', 'Classe de service 3'), value='Classe de …"
      ]
     },
     "metadata": {},
     "output_type": "display_data"
    }
   ],
   "source": [
    "service=widgets.ToggleButtons(\n",
    "    options=['Classe de service 1', 'Classe de service 2', 'Classe de service 3'],\n",
    "    description='',\n",
    "    disabled=False,\n",
    "    button_style='', # 'success', 'info', 'warning', 'danger' or ''\n",
    "   \n",
    ")\n",
    "service"
   ]
  },
  {
   "cell_type": "markdown",
   "id": "c141cc70",
   "metadata": {},
   "source": [
    "#### Classe de durée de charge"
   ]
  },
  {
   "cell_type": "code",
   "execution_count": 10,
   "id": "a288f5d1",
   "metadata": {
    "ExecuteTime": {
     "end_time": "2022-04-22T09:56:58.760388Z",
     "start_time": "2022-04-22T09:56:58.744787Z"
    }
   },
   "outputs": [
    {
     "data": {
      "application/vnd.jupyter.widget-view+json": {
       "model_id": "0dd0c41a82d04681b0e3c96ed8dd5c6c",
       "version_major": 2,
       "version_minor": 0
      },
      "text/plain": [
       "Image(value=b'\\x89PNG\\r\\n\\x1a\\n\\x00\\x00\\x00\\rIHDR\\x00\\x00\\x02\\x04\\x00\\x00\\x00\\xca\\x04\\x03\\x00\\x00\\x00(QEH\\x00\\…"
      ]
     },
     "metadata": {},
     "output_type": "display_data"
    }
   ],
   "source": [
    "file = open(\"duree_charge.png\", \"rb\")\n",
    "image = file.read()\n",
    "widgets.Image(\n",
    "    value=image,\n",
    "    format='png',\n",
    "    width=500,\n",
    "    height=500,\n",
    ")"
   ]
  },
  {
   "cell_type": "code",
   "execution_count": 11,
   "id": "afbd81ef",
   "metadata": {
    "ExecuteTime": {
     "end_time": "2022-04-22T09:56:58.780640Z",
     "start_time": "2022-04-22T09:56:58.760388Z"
    }
   },
   "outputs": [
    {
     "data": {
      "application/vnd.jupyter.widget-view+json": {
       "model_id": "f14859212d654912866e6e15c46ce20d",
       "version_major": 2,
       "version_minor": 0
      },
      "text/plain": [
       "ToggleButtons(options=('Permanente', 'Long terme', 'Moyen terme', 'Court terme', 'Instantanné'), value='Perman…"
      ]
     },
     "metadata": {},
     "output_type": "display_data"
    }
   ],
   "source": [
    "duree=widgets.ToggleButtons(\n",
    "    options=['Permanente', 'Long terme', 'Moyen terme','Court terme','Instantanné'],\n",
    "    description='',\n",
    "    disabled=False,\n",
    "    button_style='', # 'success', 'info', 'warning', 'danger' or ''\n",
    "   \n",
    ")\n",
    "duree"
   ]
  },
  {
   "cell_type": "code",
   "execution_count": 12,
   "id": "352d11d6",
   "metadata": {
    "ExecuteTime": {
     "end_time": "2022-04-22T09:56:58.797272Z",
     "start_time": "2022-04-22T09:56:58.781653Z"
    }
   },
   "outputs": [
    {
     "data": {
      "application/vnd.jupyter.widget-view+json": {
       "model_id": "58998fac99224fb1ba0a5c45acde2ee5",
       "version_major": 2,
       "version_minor": 0
      },
      "text/plain": [
       "Button(description='Valider', style=ButtonStyle())"
      ]
     },
     "metadata": {},
     "output_type": "display_data"
    },
    {
     "data": {
      "application/javascript": [
       "IPython.notebook.execute_cell_range(IPython.notebook.get_selected_index()+1, IPython.notebook.get_selected_index()+4)"
      ],
      "text/plain": [
       "<IPython.core.display.Javascript object>"
      ]
     },
     "metadata": {},
     "output_type": "display_data"
    }
   ],
   "source": [
    "def run_all(ev):\n",
    "    display(Javascript('IPython.notebook.execute_cell_range(IPython.notebook.get_selected_index()+1, IPython.notebook.get_selected_index()+4)'))\n",
    "\n",
    "button = widgets.Button(description=\"Valider\")\n",
    "\n",
    "button.on_click(run_all)\n",
    "display(button)"
   ]
  },
  {
   "cell_type": "markdown",
   "id": "5306bde6",
   "metadata": {},
   "source": [
    "#### Coefficients minorateurs"
   ]
  },
  {
   "cell_type": "code",
   "execution_count": 101,
   "id": "18898be6",
   "metadata": {
    "ExecuteTime": {
     "end_time": "2022-04-22T10:15:49.911902Z",
     "start_time": "2022-04-22T10:15:49.902367Z"
    }
   },
   "outputs": [],
   "source": [
    "if service.value=='Classe de service 3':\n",
    "    if duree.value=='Permanente':\n",
    "        kmod=0.5\n",
    "    elif duree.value=='Long terme':\n",
    "        kmod=0.55\n",
    "    elif duree.value=='Moyen terme':\n",
    "        kmod=0.65\n",
    "    elif duree.value=='Court terme':\n",
    "        kmod=0.7\n",
    "    else:\n",
    "        kmod=0.9\n",
    "else:\n",
    "    if duree.value=='Permanente':\n",
    "        kmod=0.6\n",
    "    elif duree.value=='Long terme':\n",
    "        kmod=0.7\n",
    "    elif duree.value=='Moyen terme':\n",
    "        kmod=0.8\n",
    "    elif duree.value=='Court terme':\n",
    "        kmod=0.9\n",
    "    else:\n",
    "        kmod=1.1\n",
    "        \n",
    "if bois.value=='Lamellé collé':\n",
    "    gm=1.25\n",
    "else:\n",
    "    gm=1.3"
   ]
  },
  {
   "cell_type": "markdown",
   "id": "7e932f54",
   "metadata": {
    "variables": {
     "gm": "1.3",
     "kmod": "0.7"
    }
   },
   "source": [
    "|Coefficeint|Valeur|\n",
    "|-----------|--|\n",
    "|$$k_{mod}=$$|{{kmod}}|\n",
    "|$$\\gamma_{m}=$$|{{gm}}|"
   ]
  },
  {
   "cell_type": "markdown",
   "id": "2aab150f",
   "metadata": {},
   "source": [
    "### 1.3. Section"
   ]
  },
  {
   "cell_type": "code",
   "execution_count": 54,
   "id": "80a730c3",
   "metadata": {
    "ExecuteTime": {
     "end_time": "2022-04-22T10:04:28.656687Z",
     "start_time": "2022-04-22T10:04:28.632991Z"
    }
   },
   "outputs": [
    {
     "data": {
      "application/vnd.jupyter.widget-view+json": {
       "model_id": "b0d561300cb7429abca47069299c468d",
       "version_major": 2,
       "version_minor": 0
      },
      "text/plain": [
       "FloatSlider(value=100.0, continuous_update=False, description='Base [mm]', max=500.0, readout_format='.1f', st…"
      ]
     },
     "metadata": {},
     "output_type": "display_data"
    },
    {
     "data": {
      "application/vnd.jupyter.widget-view+json": {
       "model_id": "8d854fa838e44d0f891cff6e53fafe26",
       "version_major": 2,
       "version_minor": 0
      },
      "text/plain": [
       "FloatSlider(value=200.0, continuous_update=False, description='Hauteur [mm]', max=1000.0, readout_format='.1f'…"
      ]
     },
     "metadata": {},
     "output_type": "display_data"
    }
   ],
   "source": [
    "b=widgets.FloatSlider(\n",
    "    value=100,\n",
    "    min=0,\n",
    "    max=500,\n",
    "    step=10,\n",
    "    description=('Base [mm]'),\n",
    "    disabled=False,\n",
    "    continuous_update=False,\n",
    "    orientation='horizontal',\n",
    "    readout=True,\n",
    "    readout_format='.1f',\n",
    ")\n",
    "h=widgets.FloatSlider(\n",
    "    value=200,\n",
    "    min=0,\n",
    "    max=1000,\n",
    "    step=20,\n",
    "    description=('Hauteur [mm]'),\n",
    "    disabled=False,\n",
    "    continuous_update=False,\n",
    "    orientation='horizontal',\n",
    "    readout=True,\n",
    "    readout_format='.1f',\n",
    ")\n",
    "display(b)\n",
    "display(h)"
   ]
  },
  {
   "cell_type": "code",
   "execution_count": 127,
   "id": "8f7f7e28",
   "metadata": {
    "ExecuteTime": {
     "end_time": "2022-04-22T10:21:22.575623Z",
     "start_time": "2022-04-22T10:21:22.555903Z"
    }
   },
   "outputs": [
    {
     "data": {
      "application/vnd.jupyter.widget-view+json": {
       "model_id": "6b90fb9491134d9abece0ba95d555922",
       "version_major": 2,
       "version_minor": 0
      },
      "text/plain": [
       "Button(description='Valider', style=ButtonStyle())"
      ]
     },
     "metadata": {},
     "output_type": "display_data"
    },
    {
     "data": {
      "application/javascript": [
       "IPython.notebook.execute_cell_range(IPython.notebook.get_selected_index()+1, IPython.notebook.get_selected_index()+8)"
      ],
      "text/plain": [
       "<IPython.core.display.Javascript object>"
      ]
     },
     "metadata": {},
     "output_type": "display_data"
    },
    {
     "data": {
      "application/javascript": [
       "IPython.notebook.execute_cell_range(IPython.notebook.get_selected_index()+1, IPython.notebook.get_selected_index()+8)"
      ],
      "text/plain": [
       "<IPython.core.display.Javascript object>"
      ]
     },
     "metadata": {},
     "output_type": "display_data"
    },
    {
     "data": {
      "application/javascript": [
       "IPython.notebook.execute_cell_range(IPython.notebook.get_selected_index()+1, IPython.notebook.get_selected_index()+8)"
      ],
      "text/plain": [
       "<IPython.core.display.Javascript object>"
      ]
     },
     "metadata": {},
     "output_type": "display_data"
    },
    {
     "data": {
      "application/javascript": [
       "IPython.notebook.execute_cell_range(IPython.notebook.get_selected_index()+1, IPython.notebook.get_selected_index()+8)"
      ],
      "text/plain": [
       "<IPython.core.display.Javascript object>"
      ]
     },
     "metadata": {},
     "output_type": "display_data"
    },
    {
     "data": {
      "application/javascript": [
       "IPython.notebook.execute_cell_range(IPython.notebook.get_selected_index()+1, IPython.notebook.get_selected_index()+8)"
      ],
      "text/plain": [
       "<IPython.core.display.Javascript object>"
      ]
     },
     "metadata": {},
     "output_type": "display_data"
    },
    {
     "data": {
      "application/javascript": [
       "IPython.notebook.execute_cell_range(IPython.notebook.get_selected_index()+1, IPython.notebook.get_selected_index()+8)"
      ],
      "text/plain": [
       "<IPython.core.display.Javascript object>"
      ]
     },
     "metadata": {},
     "output_type": "display_data"
    },
    {
     "data": {
      "application/javascript": [
       "IPython.notebook.execute_cell_range(IPython.notebook.get_selected_index()+1, IPython.notebook.get_selected_index()+8)"
      ],
      "text/plain": [
       "<IPython.core.display.Javascript object>"
      ]
     },
     "metadata": {},
     "output_type": "display_data"
    },
    {
     "data": {
      "application/javascript": [
       "IPython.notebook.execute_cell_range(IPython.notebook.get_selected_index()+1, IPython.notebook.get_selected_index()+8)"
      ],
      "text/plain": [
       "<IPython.core.display.Javascript object>"
      ]
     },
     "metadata": {},
     "output_type": "display_data"
    },
    {
     "data": {
      "application/javascript": [
       "IPython.notebook.execute_cell_range(IPython.notebook.get_selected_index()+1, IPython.notebook.get_selected_index()+8)"
      ],
      "text/plain": [
       "<IPython.core.display.Javascript object>"
      ]
     },
     "metadata": {},
     "output_type": "display_data"
    },
    {
     "data": {
      "application/javascript": [
       "IPython.notebook.execute_cell_range(IPython.notebook.get_selected_index()+1, IPython.notebook.get_selected_index()+8)"
      ],
      "text/plain": [
       "<IPython.core.display.Javascript object>"
      ]
     },
     "metadata": {},
     "output_type": "display_data"
    },
    {
     "data": {
      "application/javascript": [
       "IPython.notebook.execute_cell_range(IPython.notebook.get_selected_index()+1, IPython.notebook.get_selected_index()+8)"
      ],
      "text/plain": [
       "<IPython.core.display.Javascript object>"
      ]
     },
     "metadata": {},
     "output_type": "display_data"
    },
    {
     "data": {
      "application/javascript": [
       "IPython.notebook.execute_cell_range(IPython.notebook.get_selected_index()+1, IPython.notebook.get_selected_index()+8)"
      ],
      "text/plain": [
       "<IPython.core.display.Javascript object>"
      ]
     },
     "metadata": {},
     "output_type": "display_data"
    },
    {
     "data": {
      "application/javascript": [
       "IPython.notebook.execute_cell_range(IPython.notebook.get_selected_index()+1, IPython.notebook.get_selected_index()+8)"
      ],
      "text/plain": [
       "<IPython.core.display.Javascript object>"
      ]
     },
     "metadata": {},
     "output_type": "display_data"
    },
    {
     "data": {
      "application/javascript": [
       "IPython.notebook.execute_cell_range(IPython.notebook.get_selected_index()+1, IPython.notebook.get_selected_index()+8)"
      ],
      "text/plain": [
       "<IPython.core.display.Javascript object>"
      ]
     },
     "metadata": {},
     "output_type": "display_data"
    },
    {
     "data": {
      "application/javascript": [
       "IPython.notebook.execute_cell_range(IPython.notebook.get_selected_index()+1, IPython.notebook.get_selected_index()+8)"
      ],
      "text/plain": [
       "<IPython.core.display.Javascript object>"
      ]
     },
     "metadata": {},
     "output_type": "display_data"
    }
   ],
   "source": [
    "def run_all(ev):\n",
    "    display(Javascript('IPython.notebook.execute_cell_range(IPython.notebook.get_selected_index()+1, IPython.notebook.get_selected_index()+8)'))\n",
    "\n",
    "button = widgets.Button(description=\"Valider\")\n",
    "\n",
    "button.on_click(run_all)\n",
    "display(button)"
   ]
  },
  {
   "cell_type": "markdown",
   "id": "783647d8",
   "metadata": {},
   "source": [
    "### Vérification de la poutre à l'ELU"
   ]
  },
  {
   "cell_type": "markdown",
   "id": "9da65fa9",
   "metadata": {},
   "source": [
    "$$\\sigma_{m,d}\\leq f_{m,k}.\\frac{k_{mod}}{\\gamma_{m}}.k_{h}.k_{crit}$$"
   ]
  },
  {
   "cell_type": "code",
   "execution_count": 205,
   "id": "c5b2516b",
   "metadata": {
    "ExecuteTime": {
     "end_time": "2022-04-22T10:47:46.030490Z",
     "start_time": "2022-04-22T10:47:46.014680Z"
    }
   },
   "outputs": [],
   "source": [
    "if bois.value=='Lamellé collé':\n",
    "    if h.value>600:\n",
    "        kh=1\n",
    "    else:\n",
    "        kh=min(1.1,pow((600/h.value),0.1))\n",
    "else:\n",
    "    if h.value>150:\n",
    "        kh=1\n",
    "    else:\n",
    "        kh=min(1.3,pow((150/h.value),0.2))\n",
    "        \n",
    "kh=round(kh,3)\n",
    "\n",
    "sigcrit=(0.78*e05*b.value*b.value)/(h.value*0.9)\n",
    "\n",
    "lrel=sqrt(fmk/sigcrit)\n",
    "\n",
    "if lrel<=0.75:\n",
    "    kcrit=1\n",
    "elif lrel<=1.4:\n",
    "    kcrit=1.56-0.75*lrel\n",
    "else:\n",
    "    kcrit=1/pow(lrel,2)\n",
    "\n",
    "kcrit=round(kcrit,2)\n",
    "\n",
    "sigcrit=round(sigcrit,0)\n",
    "\n",
    "lrel=round(lrel,2)\n"
   ]
  },
  {
   "cell_type": "markdown",
   "id": "d30be043",
   "metadata": {
    "variables": {
     "kcrit": "1",
     "kh": "1",
     "lrel": "0.71",
     "sigcrit": "28.0"
    }
   },
   "source": [
    "Avec : \n",
    "\n",
    "||Symbole|Valeur|\n",
    "|-|-|-|\n",
    "|Coeff. de hauteur|$$k_{h}$$|{{kh}}|\n",
    "|Contrainte critique [MPa]|$$\\sigma_{m,crit}$$|{{sigcrit}}|\n",
    "|Elancement relatif en flexion|$$\\lambda_{rel,m}$$|{{lrel}}|\n",
    "|Coeff. d'instabilité (déversement)|$$k_{crit}$$|{{kcrit}}|\n"
   ]
  },
  {
   "cell_type": "code",
   "execution_count": 206,
   "id": "1a76b6e9",
   "metadata": {
    "ExecuteTime": {
     "end_time": "2022-04-22T10:47:46.138529Z",
     "start_time": "2022-04-22T10:47:46.116222Z"
    }
   },
   "outputs": [],
   "source": [
    "fmd=fmk*(kmod/gm)*kh*kcrit\n",
    "fmd=round(fmd,2)\n",
    "\n",
    "ig=(b.value*pow(h.value,3))/12\n",
    "\n",
    "mmax=fmd*(ig/(h.value/2))\n",
    "\n",
    "mmax=round(mmax*pow(10,-5),0)"
   ]
  },
  {
   "cell_type": "markdown",
   "id": "f1dd302a",
   "metadata": {
    "variables": {
     "fmd": "7.54",
     "mmax": "456.0"
    }
   },
   "source": [
    "#### Moment max admissible \n",
    "\n",
    "||Symbole|Valeur|\n",
    "|-----------------------------|-----------|-------|\n",
    "|Résistance à la flexion [MPa]|$$f_{m,d}$$|{{fmd}}|\n",
    "|Moment max adimissible [kN.m]|$$M_{m,d}$$|{{mmax}}|\n"
   ]
  },
  {
   "cell_type": "code",
   "execution_count": 207,
   "id": "2dfc38ad",
   "metadata": {
    "ExecuteTime": {
     "end_time": "2022-04-22T10:47:46.256206Z",
     "start_time": "2022-04-22T10:47:46.175088Z"
    }
   },
   "outputs": [
    {
     "data": {
      "image/png": "[encoded data removed]",
      "text/plain": [
       "<Figure size 432x288 with 1 Axes>"
      ]
     },
     "metadata": {
      "needs_background": "light"
     },
     "output_type": "display_data"
    }
   ],
   "source": [
    "import numpy as np\n",
    "import matplotlib.pyplot as plt\n",
    "\n",
    "x = np.linspace(4, 15, 15)\n",
    "y = (8*mmax)/(x*x)\n",
    "plt.plot(x, y)\n",
    "plt.title(\"Abaque\")\n",
    "plt.xlabel(\"Portée [m]\")\n",
    "plt.ylabel(\"Charge [kN/m]\")\n",
    "\n",
    "plt.show() # affiche la figure a l'ecran"
   ]
  },
  {
   "cell_type": "code",
   "execution_count": null,
   "id": "d56a3c89",
   "metadata": {},
   "outputs": [],
   "source": []
  },
  {
   "cell_type": "code",
   "execution_count": null,
   "id": "1c982dc6",
   "metadata": {},
   "outputs": [],
   "source": []
  },
  {
   "cell_type": "code",
   "execution_count": null,
   "id": "25ce1b27",
   "metadata": {},
   "outputs": [],
   "source": []
  }
 ],
 "metadata": {
  "hide_input": true,
  "kernelspec": {
   "display_name": "Python 3 (ipykernel)",
   "language": "python",
   "name": "python3"
  },
  "language_info": {
   "codemirror_mode": {
    "name": "ipython",
    "version": 3
   },
   "file_extension": ".py",
   "mimetype": "text/x-python",
   "name": "python",
   "nbconvert_exporter": "python",
   "pygments_lexer": "ipython3",
   "version": "3.10.0"
  }
 },
 "nbformat": 4,
 "nbformat_minor": 5
}
