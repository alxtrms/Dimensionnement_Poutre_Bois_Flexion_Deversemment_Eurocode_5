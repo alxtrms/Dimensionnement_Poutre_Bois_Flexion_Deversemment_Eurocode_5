{
 "cells": [
  {
   "cell_type": "markdown",
   "id": "e45ad3b5",
   "metadata": {},
   "source": [
    "# Vérification poutre bois en flexion simple et au déversement"
   ]
  },
  {
   "cell_type": "markdown",
   "id": "564993cc",
   "metadata": {},
   "source": [
    "## 1. Données générales"
   ]
  },
  {
   "cell_type": "markdown",
   "id": "72b76a32",
   "metadata": {
    "ExecuteTime": {
     "end_time": "2022-04-21T08:37:26.772322Z",
     "start_time": "2022-04-21T08:37:26.734544Z"
    }
   },
   "source": [
    "### 1.1. Références normatives\n",
    "\n",
    "*- NF EN 1995 + AN : Conception et calcul des structures en bois*"
   ]
  },
  {
   "cell_type": "code",
   "execution_count": 28,
   "id": "de1cc1a1",
   "metadata": {
    "ExecuteTime": {
     "end_time": "2022-04-27T07:25:50.515887Z",
     "start_time": "2022-04-27T07:25:50.500225Z"
    }
   },
   "outputs": [
    {
     "data": {
      "text/html": [
       "<script>\n",
       "    // AUTORUN ALL CELLS ON NOTEBOOK-LOAD!\n",
       "    require(\n",
       "        ['base/js/namespace', 'jquery'], \n",
       "        function(jupyter, $) {\n",
       "            $(jupyter.events).on(\"kernel_ready.Kernel\", function () {\n",
       "                console.log(\"Auto-running all cells-below...\");\n",
       "                jupyter.actions.call('jupyter-notebook:run-all-cells-below');\n",
       "                jupyter.actions.call('jupyter-notebook:save-notebook');\n",
       "            });\n",
       "        }\n",
       "    );\n",
       "</script>\n"
      ],
      "text/plain": [
       "<IPython.core.display.HTML object>"
      ]
     },
     "metadata": {},
     "output_type": "display_data"
    }
   ],
   "source": [
    "%%html\n",
    "<script>\n",
    "    // AUTORUN ALL CELLS ON NOTEBOOK-LOAD!\n",
    "    require(\n",
    "        ['base/js/namespace', 'jquery'], \n",
    "        function(jupyter, $) {\n",
    "            $(jupyter.events).on(\"kernel_ready.Kernel\", function () {\n",
    "                console.log(\"Auto-running all cells-below...\");\n",
    "                jupyter.actions.call('jupyter-notebook:run-all-cells-below');\n",
    "                jupyter.actions.call('jupyter-notebook:save-notebook');\n",
    "            });\n",
    "        }\n",
    "    );\n",
    "</script>"
   ]
  },
  {
   "cell_type": "markdown",
   "id": "c8897ac6",
   "metadata": {},
   "source": [
    "### 1.2. Matériau"
   ]
  },
  {
   "cell_type": "code",
   "execution_count": 29,
   "id": "e916feba",
   "metadata": {
    "ExecuteTime": {
     "end_time": "2022-04-27T07:25:51.133861Z",
     "start_time": "2022-04-27T07:25:51.118237Z"
    }
   },
   "outputs": [],
   "source": [
    "from math import *\n",
    "import ipywidgets as widgets\n",
    "from tkinter import *\n",
    "import ipywidgets as widgets\n",
    "import matplotlib.pyplot as plt\n",
    "import numpy as np\n",
    "from IPython.display import Javascript, display\n",
    "from ipywidgets import widgets\n",
    "import pandas as pd\n",
    "from math import *\n",
    "import ipywidgets as widgets\n",
    "from tkinter import *"
   ]
  },
  {
   "cell_type": "code",
   "execution_count": 30,
   "id": "452cb5a7",
   "metadata": {
    "ExecuteTime": {
     "end_time": "2022-04-27T07:25:51.505965Z",
     "start_time": "2022-04-27T07:25:51.480149Z"
    }
   },
   "outputs": [
    {
     "data": {
      "application/vnd.jupyter.widget-view+json": {
       "model_id": "1ce93db95d3c47f59f391caa1d60f5aa",
       "version_major": 2,
       "version_minor": 0
      },
      "text/plain": [
       "Dropdown(description='Bois :', options=('Résineux', 'Feuillus', 'Lamellé collé'), value='Résineux')"
      ]
     },
     "metadata": {},
     "output_type": "display_data"
    }
   ],
   "source": [
    "bois=widgets.Dropdown(\n",
    "    options=['Résineux','Feuillus','Lamellé collé'],\n",
    "    value='Résineux',\n",
    "    description='Bois :',\n",
    "    disabled=False,\n",
    ")\n",
    "bois\n"
   ]
  },
  {
   "cell_type": "code",
   "execution_count": 31,
   "id": "6cf147e8",
   "metadata": {
    "ExecuteTime": {
     "end_time": "2022-04-27T07:25:51.874613Z",
     "start_time": "2022-04-27T07:25:51.858989Z"
    }
   },
   "outputs": [
    {
     "data": {
      "application/vnd.jupyter.widget-view+json": {
       "model_id": "de3f4c4469794511acbf01aa59d44557",
       "version_major": 2,
       "version_minor": 0
      },
      "text/plain": [
       "Button(description='Valider', style=ButtonStyle())"
      ]
     },
     "metadata": {},
     "output_type": "display_data"
    }
   ],
   "source": [
    "def run_all(ev):\n",
    "    display(Javascript('IPython.notebook.execute_cell_range(IPython.notebook.get_selected_index()+1, IPython.notebook.get_selected_index()+2)'))\n",
    "\n",
    "button = widgets.Button(description=\"Valider\")\n",
    "\n",
    "button.on_click(run_all)\n",
    "display(button)"
   ]
  },
  {
   "cell_type": "code",
   "execution_count": 32,
   "id": "4aeadfa6",
   "metadata": {
    "ExecuteTime": {
     "end_time": "2022-04-27T07:25:52.145212Z",
     "start_time": "2022-04-27T07:25:52.123334Z"
    }
   },
   "outputs": [
    {
     "data": {
      "application/vnd.jupyter.widget-view+json": {
       "model_id": "a3c0249059984d06af9620dae2f5c2d6",
       "version_major": 2,
       "version_minor": 0
      },
      "text/plain": [
       "Dropdown(description='Classe :', index=3, options=('C14', 'C16', 'C18', 'C20', 'C22', 'C24', 'C27', 'C30', 'C3…"
      ]
     },
     "metadata": {},
     "output_type": "display_data"
    }
   ],
   "source": [
    "if bois.value=='Résineux':\n",
    "    classe=widgets.Dropdown(\n",
    "        options=['C14','C16','C18','C20','C22','C24','C27','C30','C35','C40'],\n",
    "        value='C20',\n",
    "        description='Classe :',\n",
    "        disabled=False,\n",
    ")\n",
    "elif bois.value=='Feuillus':\n",
    "    classe=widgets.Dropdown(\n",
    "        options=['D30','D35','D40','D50','D60','D70'],\n",
    "        value='D30',\n",
    "        description='Classe :',\n",
    "        disabled=False,\n",
    ")\n",
    "else:\n",
    "    classe=widgets.Dropdown(\n",
    "        options=['GL24h','GL28h','GL32h','GL36h','GL24c','GL28c','GL32c','GL36c'],\n",
    "        value='GL24h',\n",
    "        description='Classe :',\n",
    "        disabled=False,\n",
    ")\n",
    "\n",
    "display(classe)"
   ]
  },
  {
   "cell_type": "code",
   "execution_count": 33,
   "id": "d2ab3765",
   "metadata": {
    "ExecuteTime": {
     "end_time": "2022-04-27T07:25:52.323978Z",
     "start_time": "2022-04-27T07:25:52.292562Z"
    }
   },
   "outputs": [
    {
     "data": {
      "application/vnd.jupyter.widget-view+json": {
       "model_id": "c833348096934e6c8f575338d59f10e8",
       "version_major": 2,
       "version_minor": 0
      },
      "text/plain": [
       "Button(description='Valider', style=ButtonStyle())"
      ]
     },
     "metadata": {},
     "output_type": "display_data"
    }
   ],
   "source": [
    "def run_all(ev):\n",
    "    display(Javascript('IPython.notebook.execute_cell_range(IPython.notebook.get_selected_index()+1, IPython.notebook.get_selected_index()+5)'))\n",
    "\n",
    "button = widgets.Button(description=\"Valider\")\n",
    "\n",
    "button.on_click(run_all)\n",
    "display(button)"
   ]
  },
  {
   "cell_type": "code",
   "execution_count": 34,
   "id": "4a9d52b8",
   "metadata": {
    "ExecuteTime": {
     "end_time": "2022-04-27T07:25:52.518130Z",
     "start_time": "2022-04-27T07:25:52.491470Z"
    }
   },
   "outputs": [],
   "source": [
    "import pandas as pd\n",
    "\n",
    "caracbois=pd.read_excel(\"caracB.xlsx\")"
   ]
  },
  {
   "cell_type": "code",
   "execution_count": 35,
   "id": "b9b11570",
   "metadata": {
    "ExecuteTime": {
     "end_time": "2022-04-27T07:25:52.663407Z",
     "start_time": "2022-04-27T07:25:52.647779Z"
    },
    "scrolled": true
   },
   "outputs": [],
   "source": [
    "fmk=caracbois.loc[0,classe.value]\n",
    "ft0k=caracbois.loc[1,classe.value]\n",
    "ft90k=caracbois.loc[2,classe.value]\n",
    "fc0k=caracbois.loc[3,classe.value]\n",
    "fc90k=caracbois.loc[4,classe.value]\n",
    "fvk=caracbois.loc[5,classe.value]\n",
    "e0m=caracbois.loc[6,classe.value]\n",
    "e05=caracbois.loc[7,classe.value]\n",
    "pm=caracbois.loc[8,classe.value]"
   ]
  },
  {
   "cell_type": "markdown",
   "id": "0adfb6af",
   "metadata": {
    "ExecuteTime": {
     "end_time": "2022-04-21T12:36:29.283474Z",
     "start_time": "2022-04-21T12:36:29.267853Z"
    },
    "variables": {
     "classe.value": "C20",
     "e05": "6.4",
     "e0m": "9.5",
     "fc0k": "19.0",
     "fc90k": "2.3",
     "fmk": "20.0",
     "ft0k": "11.5",
     "ft90k": "0.4",
     "fvk": "3.6",
     "pm": "400.0"
    }
   },
   "source": [
    "|Caractéristiques|Symbole|{{classe.value}}|Unité|\n",
    "|-|-|-|-|\n",
    "|Flexion|$$f_{m,k}$$|{{fmk}}|$$N/mm^{2}$$|\n",
    "|Traction axiale|$$f_{t,0,k}$$|{{ft0k}}|$$N/mm^{2}$$|\n",
    "|Traction transversalle|$$f_{m,k}$$|{{ft90k}}|$$N/mm^{2}$$|\n",
    "|Compression axiale|$$f_{m,k}$$|{{fc0k}}|$$N/mm^{2}$$|\n",
    "|Compression transversale|$$f_{m,k}$$|{{fc90k}}|$$N/mm^{2}$$|\n",
    "|Cisaillement|$$f_{v,k}$$|{{fvk}}|$$N/mm^{2}$$|\n",
    "|Module moyen d'élasticité axial|$$E_{0,moy}$$|{{e0m}}|$$N/mm^{2}$$|\n",
    "|Module caractéristique d'élasticité axial|$$E_{0,0,5}$$|{{e05}}|$$N/mm^{2}$$|\n",
    "|Masse volumique moyenne|$$\\rho_{moy}$$|{{pm}}|$$kg/m^{2}$$|"
   ]
  },
  {
   "cell_type": "markdown",
   "id": "51119f48",
   "metadata": {},
   "source": [
    "### 1.3. Valeurs de calcul des résistance du bois"
   ]
  },
  {
   "cell_type": "markdown",
   "id": "cf7fe5c8",
   "metadata": {},
   "source": [
    "#### Classe de service"
   ]
  },
  {
   "cell_type": "code",
   "execution_count": 36,
   "id": "1832581a",
   "metadata": {
    "ExecuteTime": {
     "end_time": "2022-04-27T07:25:54.014820Z",
     "start_time": "2022-04-27T07:25:53.983395Z"
    }
   },
   "outputs": [
    {
     "data": {
      "application/vnd.jupyter.widget-view+json": {
       "model_id": "6f0964facfe54b9eb5e86aae979eaf5d",
       "version_major": 2,
       "version_minor": 0
      },
      "text/plain": [
       "ToggleButtons(options=('Classe de service 1', 'Classe de service 2', 'Classe de service 3'), value='Classe de …"
      ]
     },
     "metadata": {},
     "output_type": "display_data"
    }
   ],
   "source": [
    "service=widgets.ToggleButtons(\n",
    "    options=['Classe de service 1', 'Classe de service 2', 'Classe de service 3'],\n",
    "    description='',\n",
    "    disabled=False,\n",
    "    button_style='', # 'success', 'info', 'warning', 'danger' or ''\n",
    "   \n",
    ")\n",
    "service"
   ]
  },
  {
   "cell_type": "markdown",
   "id": "c141cc70",
   "metadata": {},
   "source": [
    "#### Classe de durée de charge"
   ]
  },
  {
   "cell_type": "code",
   "execution_count": 37,
   "id": "a288f5d1",
   "metadata": {
    "ExecuteTime": {
     "end_time": "2022-04-27T07:25:54.699710Z",
     "start_time": "2022-04-27T07:25:54.668645Z"
    }
   },
   "outputs": [
    {
     "data": {
      "application/vnd.jupyter.widget-view+json": {
       "model_id": "0447b7962142403ebe60e422336dc322",
       "version_major": 2,
       "version_minor": 0
      },
      "text/plain": [
       "Image(value=b'\\x89PNG\\r\\n\\x1a\\n\\x00\\x00\\x00\\rIHDR\\x00\\x00\\x02\\x04\\x00\\x00\\x00\\xca\\x04\\x03\\x00\\x00\\x00(QEH\\x00\\…"
      ]
     },
     "metadata": {},
     "output_type": "display_data"
    }
   ],
   "source": [
    "file = open(\"duree_charge.png\", \"rb\")\n",
    "image = file.read()\n",
    "widgets.Image(\n",
    "    value=image,\n",
    "    format='png',\n",
    "    width=500,\n",
    "    height=500,\n",
    ")"
   ]
  },
  {
   "cell_type": "code",
   "execution_count": 38,
   "id": "afbd81ef",
   "metadata": {
    "ExecuteTime": {
     "end_time": "2022-04-27T07:25:54.861903Z",
     "start_time": "2022-04-27T07:25:54.849933Z"
    }
   },
   "outputs": [
    {
     "data": {
      "application/vnd.jupyter.widget-view+json": {
       "model_id": "3217cf8d14ed4cadb1b415f4474c9494",
       "version_major": 2,
       "version_minor": 0
      },
      "text/plain": [
       "ToggleButtons(options=('Permanente', 'Long terme', 'Moyen terme', 'Court terme', 'Instantanné'), value='Perman…"
      ]
     },
     "metadata": {},
     "output_type": "display_data"
    }
   ],
   "source": [
    "duree=widgets.ToggleButtons(\n",
    "    options=['Permanente', 'Long terme', 'Moyen terme','Court terme','Instantanné'],\n",
    "    description='',\n",
    "    disabled=False,\n",
    "    button_style='', # 'success', 'info', 'warning', 'danger' or ''\n",
    "   \n",
    ")\n",
    "duree"
   ]
  },
  {
   "cell_type": "code",
   "execution_count": 39,
   "id": "352d11d6",
   "metadata": {
    "ExecuteTime": {
     "end_time": "2022-04-27T07:25:55.068712Z",
     "start_time": "2022-04-27T07:25:55.053083Z"
    }
   },
   "outputs": [
    {
     "data": {
      "application/vnd.jupyter.widget-view+json": {
       "model_id": "6132d398d4ca43e49a27a868c99abc87",
       "version_major": 2,
       "version_minor": 0
      },
      "text/plain": [
       "Button(description='Valider', style=ButtonStyle())"
      ]
     },
     "metadata": {},
     "output_type": "display_data"
    }
   ],
   "source": [
    "def run_all(ev):\n",
    "    display(Javascript('IPython.notebook.execute_cell_range(IPython.notebook.get_selected_index()+1, IPython.notebook.get_selected_index()+4)'))\n",
    "\n",
    "button = widgets.Button(description=\"Valider\")\n",
    "\n",
    "button.on_click(run_all)\n",
    "display(button)"
   ]
  },
  {
   "cell_type": "markdown",
   "id": "5306bde6",
   "metadata": {},
   "source": [
    "#### Coefficients minorateurs"
   ]
  },
  {
   "cell_type": "code",
   "execution_count": 40,
   "id": "18898be6",
   "metadata": {
    "ExecuteTime": {
     "end_time": "2022-04-27T07:25:55.569423Z",
     "start_time": "2022-04-27T07:25:55.541547Z"
    }
   },
   "outputs": [],
   "source": [
    "if service.value=='Classe de service 3':\n",
    "    if duree.value=='Permanente':\n",
    "        kmod=0.5\n",
    "    elif duree.value=='Long terme':\n",
    "        kmod=0.55\n",
    "    elif duree.value=='Moyen terme':\n",
    "        kmod=0.65\n",
    "    elif duree.value=='Court terme':\n",
    "        kmod=0.7\n",
    "    else:\n",
    "        kmod=0.9\n",
    "else:\n",
    "    if duree.value=='Permanente':\n",
    "        kmod=0.6\n",
    "    elif duree.value=='Long terme':\n",
    "        kmod=0.7\n",
    "    elif duree.value=='Moyen terme':\n",
    "        kmod=0.8\n",
    "    elif duree.value=='Court terme':\n",
    "        kmod=0.9\n",
    "    else:\n",
    "        kmod=1.1\n",
    "        \n",
    "if bois.value=='Lamellé collé':\n",
    "    gm=1.25\n",
    "else:\n",
    "    gm=1.3"
   ]
  },
  {
   "cell_type": "markdown",
   "id": "7e932f54",
   "metadata": {
    "variables": {
     "gm": "1.3",
     "kmod": "0.6"
    }
   },
   "source": [
    "|Coefficeint|Valeur|\n",
    "|-----------|--|\n",
    "|$$k_{mod}=$$|{{kmod}}|\n",
    "|$$\\gamma_{m}=$$|{{gm}}|"
   ]
  },
  {
   "cell_type": "markdown",
   "id": "2aab150f",
   "metadata": {},
   "source": [
    "### 1.3. Section"
   ]
  },
  {
   "cell_type": "code",
   "execution_count": 41,
   "id": "80a730c3",
   "metadata": {
    "ExecuteTime": {
     "end_time": "2022-04-27T07:25:56.786808Z",
     "start_time": "2022-04-27T07:25:56.760873Z"
    }
   },
   "outputs": [
    {
     "data": {
      "application/vnd.jupyter.widget-view+json": {
       "model_id": "19107d9759f647239f5f0b70480ada16",
       "version_major": 2,
       "version_minor": 0
      },
      "text/plain": [
       "FloatSlider(value=100.0, continuous_update=False, description='Base [mm]', max=500.0, readout_format='.1f', st…"
      ]
     },
     "metadata": {},
     "output_type": "display_data"
    },
    {
     "data": {
      "application/vnd.jupyter.widget-view+json": {
       "model_id": "c13e2839665b4979b769365e50ea82de",
       "version_major": 2,
       "version_minor": 0
      },
      "text/plain": [
       "FloatSlider(value=200.0, continuous_update=False, description='Hauteur [mm]', max=1000.0, readout_format='.1f'…"
      ]
     },
     "metadata": {},
     "output_type": "display_data"
    }
   ],
   "source": [
    "b=widgets.FloatSlider(\n",
    "    value=100,\n",
    "    min=0,\n",
    "    max=500,\n",
    "    step=10,\n",
    "    description=('Base [mm]'),\n",
    "    disabled=False,\n",
    "    continuous_update=False,\n",
    "    orientation='horizontal',\n",
    "    readout=True,\n",
    "    readout_format='.1f',\n",
    ")\n",
    "h=widgets.FloatSlider(\n",
    "    value=200,\n",
    "    min=0,\n",
    "    max=1000,\n",
    "    step=20,\n",
    "    description=('Hauteur [mm]'),\n",
    "    disabled=False,\n",
    "    continuous_update=False,\n",
    "    orientation='horizontal',\n",
    "    readout=True,\n",
    "    readout_format='.1f',\n",
    ")\n",
    "display(b)\n",
    "display(h)"
   ]
  },
  {
   "cell_type": "code",
   "execution_count": 42,
   "id": "8f7f7e28",
   "metadata": {
    "ExecuteTime": {
     "end_time": "2022-04-27T07:25:57.271749Z",
     "start_time": "2022-04-27T07:25:57.260440Z"
    }
   },
   "outputs": [
    {
     "data": {
      "application/vnd.jupyter.widget-view+json": {
       "model_id": "34e70226006a42e1be753e7942571b2d",
       "version_major": 2,
       "version_minor": 0
      },
      "text/plain": [
       "Button(description='Valider', style=ButtonStyle())"
      ]
     },
     "metadata": {},
     "output_type": "display_data"
    }
   ],
   "source": [
    "def run_all(ev):\n",
    "    display(Javascript('IPython.notebook.execute_cell_range(IPython.notebook.get_selected_index()+1, IPython.notebook.get_selected_index()+9)'))\n",
    "\n",
    "button = widgets.Button(description=\"Valider\")\n",
    "\n",
    "button.on_click(run_all)\n",
    "display(button)"
   ]
  },
  {
   "cell_type": "markdown",
   "id": "783647d8",
   "metadata": {},
   "source": [
    "### 1.4 Vérification de la poutre à l'ELU"
   ]
  },
  {
   "cell_type": "markdown",
   "id": "9da65fa9",
   "metadata": {},
   "source": [
    "$$\\sigma_{m,d}\\leq f_{m,k}.\\frac{k_{mod}}{\\gamma_{m}}.k_{h}.k_{crit}$$"
   ]
  },
  {
   "cell_type": "code",
   "execution_count": 43,
   "id": "c5b2516b",
   "metadata": {
    "ExecuteTime": {
     "end_time": "2022-04-27T07:25:58.895656Z",
     "start_time": "2022-04-27T07:25:58.880361Z"
    }
   },
   "outputs": [],
   "source": [
    "if bois.value=='Lamellé collé':\n",
    "    if h.value>600:\n",
    "        kh=1\n",
    "    else:\n",
    "        kh=min(1.1,pow((600/h.value),0.1))\n",
    "else:\n",
    "    if h.value>150:\n",
    "        kh=1\n",
    "    else:\n",
    "        kh=min(1.3,pow((150/h.value),0.2))\n",
    "        \n",
    "kh=round(kh,3)\n",
    "\n",
    "sigcrit=(0.78*e05*b.value*b.value)/(h.value*0.9)\n",
    "\n",
    "lrel=sqrt(fmk/sigcrit)\n",
    "\n",
    "if lrel<=0.75:\n",
    "    kcrit=1\n",
    "elif lrel<=1.4:\n",
    "    kcrit=1.56-0.75*lrel\n",
    "else:\n",
    "    kcrit=1/pow(lrel,2)\n",
    "\n",
    "kcrit=round(kcrit,2)\n",
    "\n",
    "sigcrit=round(sigcrit,0)\n",
    "\n",
    "lrel=round(lrel,2)\n"
   ]
  },
  {
   "cell_type": "markdown",
   "id": "d30be043",
   "metadata": {
    "variables": {
     "kcrit": "1",
     "kh": "1",
     "lrel": "0.27",
     "sigcrit": "277.0"
    }
   },
   "source": [
    "Avec : \n",
    "\n",
    "||Symbole|Valeur|\n",
    "|-|-|-|\n",
    "|Coeff. de hauteur|$$k_{h}$$|{{kh}}|\n",
    "|Contrainte critique déversement [MPa]|$$\\sigma_{m,crit}$$|{{sigcrit}}|\n",
    "|Elancement relatif en flexion|$$\\lambda_{rel,m}$$|{{lrel}}|\n",
    "|Coeff. d'instabilité (déversement)|$$k_{crit}$$|{{kcrit}}|\n"
   ]
  },
  {
   "cell_type": "code",
   "execution_count": 56,
   "id": "1a76b6e9",
   "metadata": {
    "ExecuteTime": {
     "end_time": "2022-04-27T07:27:32.555749Z",
     "start_time": "2022-04-27T07:27:32.533564Z"
    }
   },
   "outputs": [
    {
     "name": "stdout",
     "output_type": "stream",
     "text": [
      "100.0\n",
      "200.0\n"
     ]
    }
   ],
   "source": [
    "fmd=fmk*(kmod/gm)*kh*kcrit\n",
    "fmd=round(fmd,2)\n",
    "\n",
    "ig=(b.value*pow(h.value,3))/12\n",
    "\n",
    "mmax=fmd*(ig/(h.value/12))\n",
    "\n",
    "mmax=round(mmax*pow(10,-5),0)\n",
    "\n",
    "print(b.value)\n",
    "print(h.value)"
   ]
  },
  {
   "cell_type": "markdown",
   "id": "f1dd302a",
   "metadata": {
    "variables": {
     "fmd": "9.23",
     "mmax": "369.0"
    }
   },
   "source": [
    "#### Moment max admissible \n",
    "\n",
    "||Symbole|Valeur|\n",
    "|-----------------------------|-----------|-------|\n",
    "|Résistance à la flexion [MPa]|$$f_{m,d}$$|{{fmd}}|\n",
    "|Moment max adimissible [kN.m]|$$M_{m,d}$$|{{mmax}}|\n"
   ]
  },
  {
   "cell_type": "markdown",
   "id": "6d771a52",
   "metadata": {
    "variables": {
     "b.value": "100.0",
     "classe.value": "C20",
     "h.value": "200.0"
    }
   },
   "source": [
    "#### Abaque de dimensionnement à l'ELU pour poutre {{classe.value}} {{b.value}}x{{h.value}}mm ht.\n",
    " "
   ]
  },
  {
   "cell_type": "code",
   "execution_count": 53,
   "id": "2dfc38ad",
   "metadata": {
    "ExecuteTime": {
     "end_time": "2022-04-27T07:27:00.077619Z",
     "start_time": "2022-04-27T07:27:00.066649Z"
    }
   },
   "outputs": [],
   "source": [
    "import numpy as np\n",
    "import matplotlib.pyplot as plt\n",
    "\n",
    "x = np.linspace(4, 15, 15)\n",
    "y = (8*mmax)/(x*x)\n",
    "plt.plot(x, y)\n",
    "plt.title(\"Charge admissible en fonction de la portée\")\n",
    "plt.xlabel(\"Portée [m]\")\n",
    "plt.ylabel(\"Charge ELU [kN/m]\")\n",
    "\n",
    "plt.show()"
   ]
  },
  {
   "cell_type": "markdown",
   "id": "66215ef8",
   "metadata": {
    "ExecuteTime": {
     "end_time": "2022-04-25T07:52:06.694007Z",
     "start_time": "2022-04-25T07:52:06.678388Z"
    }
   },
   "source": [
    "### 1.5 Vérification de la poutre à l'ELS"
   ]
  },
  {
   "cell_type": "code",
   "execution_count": 54,
   "id": "ca505b01",
   "metadata": {
    "ExecuteTime": {
     "end_time": "2022-04-27T07:27:00.959431Z",
     "start_time": "2022-04-27T07:27:00.947463Z"
    }
   },
   "outputs": [],
   "source": [
    "import numpy as np\n",
    "import matplotlib.pyplot as plt\n",
    "import mpl_toolkits\n",
    "from mpl_toolkits.mplot3d import Axes3D"
   ]
  },
  {
   "cell_type": "code",
   "execution_count": 55,
   "id": "d56a3c89",
   "metadata": {
    "ExecuteTime": {
     "end_time": "2022-04-27T07:27:03.001831Z",
     "start_time": "2022-04-27T07:27:02.946913Z"
    }
   },
   "outputs": [
    {
     "data": {
      "application/javascript": [
       "/* Put everything inside the global mpl namespace */\n",
       "/* global mpl */\n",
       "window.mpl = {};\n",
       "\n",
       "mpl.get_websocket_type = function () {\n",
       "    if (typeof WebSocket !== 'undefined') {\n",
       "        return WebSocket;\n",
       "    } else if (typeof MozWebSocket !== 'undefined') {\n",
       "        return MozWebSocket;\n",
       "    } else {\n",
       "        alert(\n",
       "            'Your browser does not have WebSocket support. ' +\n",
       "                'Please try Chrome, Safari or Firefox ≥ 6. ' +\n",
       "                'Firefox 4 and 5 are also supported but you ' +\n",
       "                'have to enable WebSockets in about:config.'\n",
       "        );\n",
       "    }\n",
       "};\n",
       "\n",
       "mpl.figure = function (figure_id, websocket, ondownload, parent_element) {\n",
       "    this.id = figure_id;\n",
       "\n",
       "    this.ws = websocket;\n",
       "\n",
       "    this.supports_binary = this.ws.binaryType !== undefined;\n",
       "\n",
       "    if (!this.supports_binary) {\n",
       "        var warnings = document.getElementById('mpl-warnings');\n",
       "        if (warnings) {\n",
       "            warnings.style.display = 'block';\n",
       "            warnings.textContent =\n",
       "                'This browser does not support binary websocket messages. ' +\n",
       "                'Performance may be slow.';\n",
       "        }\n",
       "    }\n",
       "\n",
       "    this.imageObj = new Image();\n",
       "\n",
       "    this.context = undefined;\n",
       "    this.message = undefined;\n",
       "    this.canvas = undefined;\n",
       "    this.rubberband_canvas = undefined;\n",
       "    this.rubberband_context = undefined;\n",
       "    this.format_dropdown = undefined;\n",
       "\n",
       "    this.image_mode = 'full';\n",
       "\n",
       "    this.root = document.createElement('div');\n",
       "    this.root.setAttribute('style', 'display: inline-block');\n",
       "    this._root_extra_style(this.root);\n",
       "\n",
       "    parent_element.appendChild(this.root);\n",
       "\n",
       "    this._init_header(this);\n",
       "    this._init_canvas(this);\n",
       "    this._init_toolbar(this);\n",
       "\n",
       "    var fig = this;\n",
       "\n",
       "    this.waiting = false;\n",
       "\n",
       "    this.ws.onopen = function () {\n",
       "        fig.send_message('supports_binary', { value: fig.supports_binary });\n",
       "        fig.send_message('send_image_mode', {});\n",
       "        if (fig.ratio !== 1) {\n",
       "            fig.send_message('set_dpi_ratio', { dpi_ratio: fig.ratio });\n",
       "        }\n",
       "        fig.send_message('refresh', {});\n",
       "    };\n",
       "\n",
       "    this.imageObj.onload = function () {\n",
       "        if (fig.image_mode === 'full') {\n",
       "            // Full images could contain transparency (where diff images\n",
       "            // almost always do), so we need to clear the canvas so that\n",
       "            // there is no ghosting.\n",
       "            fig.context.clearRect(0, 0, fig.canvas.width, fig.canvas.height);\n",
       "        }\n",
       "        fig.context.drawImage(fig.imageObj, 0, 0);\n",
       "    };\n",
       "\n",
       "    this.imageObj.onunload = function () {\n",
       "        fig.ws.close();\n",
       "    };\n",
       "\n",
       "    this.ws.onmessage = this._make_on_message_function(this);\n",
       "\n",
       "    this.ondownload = ondownload;\n",
       "};\n",
       "\n",
       "mpl.figure.prototype._init_header = function () {\n",
       "    var titlebar = document.createElement('div');\n",
       "    titlebar.classList =\n",
       "        'ui-dialog-titlebar ui-widget-header ui-corner-all ui-helper-clearfix';\n",
       "    var titletext = document.createElement('div');\n",
       "    titletext.classList = 'ui-dialog-title';\n",
       "    titletext.setAttribute(\n",
       "        'style',\n",
       "        'width: 100%; text-align: center; padding: 3px;'\n",
       "    );\n",
       "    titlebar.appendChild(titletext);\n",
       "    this.root.appendChild(titlebar);\n",
       "    this.header = titletext;\n",
       "};\n",
       "\n",
       "mpl.figure.prototype._canvas_extra_style = function (_canvas_div) {};\n",
       "\n",
       "mpl.figure.prototype._root_extra_style = function (_canvas_div) {};\n",
       "\n",
       "mpl.figure.prototype._init_canvas = function () {\n",
       "    var fig = this;\n",
       "\n",
       "    var canvas_div = (this.canvas_div = document.createElement('div'));\n",
       "    canvas_div.setAttribute(\n",
       "        'style',\n",
       "        'border: 1px solid #ddd;' +\n",
       "            'box-sizing: content-box;' +\n",
       "            'clear: both;' +\n",
       "            'min-height: 1px;' +\n",
       "            'min-width: 1px;' +\n",
       "            'outline: 0;' +\n",
       "            'overflow: hidden;' +\n",
       "            'position: relative;' +\n",
       "            'resize: both;'\n",
       "    );\n",
       "\n",
       "    function on_keyboard_event_closure(name) {\n",
       "        return function (event) {\n",
       "            return fig.key_event(event, name);\n",
       "        };\n",
       "    }\n",
       "\n",
       "    canvas_div.addEventListener(\n",
       "        'keydown',\n",
       "        on_keyboard_event_closure('key_press')\n",
       "    );\n",
       "    canvas_div.addEventListener(\n",
       "        'keyup',\n",
       "        on_keyboard_event_closure('key_release')\n",
       "    );\n",
       "\n",
       "    this._canvas_extra_style(canvas_div);\n",
       "    this.root.appendChild(canvas_div);\n",
       "\n",
       "    var canvas = (this.canvas = document.createElement('canvas'));\n",
       "    canvas.classList.add('mpl-canvas');\n",
       "    canvas.setAttribute('style', 'box-sizing: content-box;');\n",
       "\n",
       "    this.context = canvas.getContext('2d');\n",
       "\n",
       "    var backingStore =\n",
       "        this.context.backingStorePixelRatio ||\n",
       "        this.context.webkitBackingStorePixelRatio ||\n",
       "        this.context.mozBackingStorePixelRatio ||\n",
       "        this.context.msBackingStorePixelRatio ||\n",
       "        this.context.oBackingStorePixelRatio ||\n",
       "        this.context.backingStorePixelRatio ||\n",
       "        1;\n",
       "\n",
       "    this.ratio = (window.devicePixelRatio || 1) / backingStore;\n",
       "\n",
       "    var rubberband_canvas = (this.rubberband_canvas = document.createElement(\n",
       "        'canvas'\n",
       "    ));\n",
       "    rubberband_canvas.setAttribute(\n",
       "        'style',\n",
       "        'box-sizing: content-box; position: absolute; left: 0; top: 0; z-index: 1;'\n",
       "    );\n",
       "\n",
       "    // Apply a ponyfill if ResizeObserver is not implemented by browser.\n",
       "    if (this.ResizeObserver === undefined) {\n",
       "        if (window.ResizeObserver !== undefined) {\n",
       "            this.ResizeObserver = window.ResizeObserver;\n",
       "        } else {\n",
       "            var obs = _JSXTOOLS_RESIZE_OBSERVER({});\n",
       "            this.ResizeObserver = obs.ResizeObserver;\n",
       "        }\n",
       "    }\n",
       "\n",
       "    this.resizeObserverInstance = new this.ResizeObserver(function (entries) {\n",
       "        var nentries = entries.length;\n",
       "        for (var i = 0; i < nentries; i++) {\n",
       "            var entry = entries[i];\n",
       "            var width, height;\n",
       "            if (entry.contentBoxSize) {\n",
       "                if (entry.contentBoxSize instanceof Array) {\n",
       "                    // Chrome 84 implements new version of spec.\n",
       "                    width = entry.contentBoxSize[0].inlineSize;\n",
       "                    height = entry.contentBoxSize[0].blockSize;\n",
       "                } else {\n",
       "                    // Firefox implements old version of spec.\n",
       "                    width = entry.contentBoxSize.inlineSize;\n",
       "                    height = entry.contentBoxSize.blockSize;\n",
       "                }\n",
       "            } else {\n",
       "                // Chrome <84 implements even older version of spec.\n",
       "                width = entry.contentRect.width;\n",
       "                height = entry.contentRect.height;\n",
       "            }\n",
       "\n",
       "            // Keep the size of the canvas and rubber band canvas in sync with\n",
       "            // the canvas container.\n",
       "            if (entry.devicePixelContentBoxSize) {\n",
       "                // Chrome 84 implements new version of spec.\n",
       "                canvas.setAttribute(\n",
       "                    'width',\n",
       "                    entry.devicePixelContentBoxSize[0].inlineSize\n",
       "                );\n",
       "                canvas.setAttribute(\n",
       "                    'height',\n",
       "                    entry.devicePixelContentBoxSize[0].blockSize\n",
       "                );\n",
       "            } else {\n",
       "                canvas.setAttribute('width', width * fig.ratio);\n",
       "                canvas.setAttribute('height', height * fig.ratio);\n",
       "            }\n",
       "            canvas.setAttribute(\n",
       "                'style',\n",
       "                'width: ' + width + 'px; height: ' + height + 'px;'\n",
       "            );\n",
       "\n",
       "            rubberband_canvas.setAttribute('width', width);\n",
       "            rubberband_canvas.setAttribute('height', height);\n",
       "\n",
       "            // And update the size in Python. We ignore the initial 0/0 size\n",
       "            // that occurs as the element is placed into the DOM, which should\n",
       "            // otherwise not happen due to the minimum size styling.\n",
       "            if (fig.ws.readyState == 1 && width != 0 && height != 0) {\n",
       "                fig.request_resize(width, height);\n",
       "            }\n",
       "        }\n",
       "    });\n",
       "    this.resizeObserverInstance.observe(canvas_div);\n",
       "\n",
       "    function on_mouse_event_closure(name) {\n",
       "        return function (event) {\n",
       "            return fig.mouse_event(event, name);\n",
       "        };\n",
       "    }\n",
       "\n",
       "    rubberband_canvas.addEventListener(\n",
       "        'mousedown',\n",
       "        on_mouse_event_closure('button_press')\n",
       "    );\n",
       "    rubberband_canvas.addEventListener(\n",
       "        'mouseup',\n",
       "        on_mouse_event_closure('button_release')\n",
       "    );\n",
       "    rubberband_canvas.addEventListener(\n",
       "        'dblclick',\n",
       "        on_mouse_event_closure('dblclick')\n",
       "    );\n",
       "    // Throttle sequential mouse events to 1 every 20ms.\n",
       "    rubberband_canvas.addEventListener(\n",
       "        'mousemove',\n",
       "        on_mouse_event_closure('motion_notify')\n",
       "    );\n",
       "\n",
       "    rubberband_canvas.addEventListener(\n",
       "        'mouseenter',\n",
       "        on_mouse_event_closure('figure_enter')\n",
       "    );\n",
       "    rubberband_canvas.addEventListener(\n",
       "        'mouseleave',\n",
       "        on_mouse_event_closure('figure_leave')\n",
       "    );\n",
       "\n",
       "    canvas_div.addEventListener('wheel', function (event) {\n",
       "        if (event.deltaY < 0) {\n",
       "            event.step = 1;\n",
       "        } else {\n",
       "            event.step = -1;\n",
       "        }\n",
       "        on_mouse_event_closure('scroll')(event);\n",
       "    });\n",
       "\n",
       "    canvas_div.appendChild(canvas);\n",
       "    canvas_div.appendChild(rubberband_canvas);\n",
       "\n",
       "    this.rubberband_context = rubberband_canvas.getContext('2d');\n",
       "    this.rubberband_context.strokeStyle = '#000000';\n",
       "\n",
       "    this._resize_canvas = function (width, height, forward) {\n",
       "        if (forward) {\n",
       "            canvas_div.style.width = width + 'px';\n",
       "            canvas_div.style.height = height + 'px';\n",
       "        }\n",
       "    };\n",
       "\n",
       "    // Disable right mouse context menu.\n",
       "    this.rubberband_canvas.addEventListener('contextmenu', function (_e) {\n",
       "        event.preventDefault();\n",
       "        return false;\n",
       "    });\n",
       "\n",
       "    function set_focus() {\n",
       "        canvas.focus();\n",
       "        canvas_div.focus();\n",
       "    }\n",
       "\n",
       "    window.setTimeout(set_focus, 100);\n",
       "};\n",
       "\n",
       "mpl.figure.prototype._init_toolbar = function () {\n",
       "    var fig = this;\n",
       "\n",
       "    var toolbar = document.createElement('div');\n",
       "    toolbar.classList = 'mpl-toolbar';\n",
       "    this.root.appendChild(toolbar);\n",
       "\n",
       "    function on_click_closure(name) {\n",
       "        return function (_event) {\n",
       "            return fig.toolbar_button_onclick(name);\n",
       "        };\n",
       "    }\n",
       "\n",
       "    function on_mouseover_closure(tooltip) {\n",
       "        return function (event) {\n",
       "            if (!event.currentTarget.disabled) {\n",
       "                return fig.toolbar_button_onmouseover(tooltip);\n",
       "            }\n",
       "        };\n",
       "    }\n",
       "\n",
       "    fig.buttons = {};\n",
       "    var buttonGroup = document.createElement('div');\n",
       "    buttonGroup.classList = 'mpl-button-group';\n",
       "    for (var toolbar_ind in mpl.toolbar_items) {\n",
       "        var name = mpl.toolbar_items[toolbar_ind][0];\n",
       "        var tooltip = mpl.toolbar_items[toolbar_ind][1];\n",
       "        var image = mpl.toolbar_items[toolbar_ind][2];\n",
       "        var method_name = mpl.toolbar_items[toolbar_ind][3];\n",
       "\n",
       "        if (!name) {\n",
       "            /* Instead of a spacer, we start a new button group. */\n",
       "            if (buttonGroup.hasChildNodes()) {\n",
       "                toolbar.appendChild(buttonGroup);\n",
       "            }\n",
       "            buttonGroup = document.createElement('div');\n",
       "            buttonGroup.classList = 'mpl-button-group';\n",
       "            continue;\n",
       "        }\n",
       "\n",
       "        var button = (fig.buttons[name] = document.createElement('button'));\n",
       "        button.classList = 'mpl-widget';\n",
       "        button.setAttribute('role', 'button');\n",
       "        button.setAttribute('aria-disabled', 'false');\n",
       "        button.addEventListener('click', on_click_closure(method_name));\n",
       "        button.addEventListener('mouseover', on_mouseover_closure(tooltip));\n",
       "\n",
       "        var icon_img = document.createElement('img');\n",
       "        icon_img.src = '_images/' + image + '.png';\n",
       "        icon_img.srcset = '_images/' + image + '_large.png 2x';\n",
       "        icon_img.alt = tooltip;\n",
       "        button.appendChild(icon_img);\n",
       "\n",
       "        buttonGroup.appendChild(button);\n",
       "    }\n",
       "\n",
       "    if (buttonGroup.hasChildNodes()) {\n",
       "        toolbar.appendChild(buttonGroup);\n",
       "    }\n",
       "\n",
       "    var fmt_picker = document.createElement('select');\n",
       "    fmt_picker.classList = 'mpl-widget';\n",
       "    toolbar.appendChild(fmt_picker);\n",
       "    this.format_dropdown = fmt_picker;\n",
       "\n",
       "    for (var ind in mpl.extensions) {\n",
       "        var fmt = mpl.extensions[ind];\n",
       "        var option = document.createElement('option');\n",
       "        option.selected = fmt === mpl.default_extension;\n",
       "        option.innerHTML = fmt;\n",
       "        fmt_picker.appendChild(option);\n",
       "    }\n",
       "\n",
       "    var status_bar = document.createElement('span');\n",
       "    status_bar.classList = 'mpl-message';\n",
       "    toolbar.appendChild(status_bar);\n",
       "    this.message = status_bar;\n",
       "};\n",
       "\n",
       "mpl.figure.prototype.request_resize = function (x_pixels, y_pixels) {\n",
       "    // Request matplotlib to resize the figure. Matplotlib will then trigger a resize in the client,\n",
       "    // which will in turn request a refresh of the image.\n",
       "    this.send_message('resize', { width: x_pixels, height: y_pixels });\n",
       "};\n",
       "\n",
       "mpl.figure.prototype.send_message = function (type, properties) {\n",
       "    properties['type'] = type;\n",
       "    properties['figure_id'] = this.id;\n",
       "    this.ws.send(JSON.stringify(properties));\n",
       "};\n",
       "\n",
       "mpl.figure.prototype.send_draw_message = function () {\n",
       "    if (!this.waiting) {\n",
       "        this.waiting = true;\n",
       "        this.ws.send(JSON.stringify({ type: 'draw', figure_id: this.id }));\n",
       "    }\n",
       "};\n",
       "\n",
       "mpl.figure.prototype.handle_save = function (fig, _msg) {\n",
       "    var format_dropdown = fig.format_dropdown;\n",
       "    var format = format_dropdown.options[format_dropdown.selectedIndex].value;\n",
       "    fig.ondownload(fig, format);\n",
       "};\n",
       "\n",
       "mpl.figure.prototype.handle_resize = function (fig, msg) {\n",
       "    var size = msg['size'];\n",
       "    if (size[0] !== fig.canvas.width || size[1] !== fig.canvas.height) {\n",
       "        fig._resize_canvas(size[0], size[1], msg['forward']);\n",
       "        fig.send_message('refresh', {});\n",
       "    }\n",
       "};\n",
       "\n",
       "mpl.figure.prototype.handle_rubberband = function (fig, msg) {\n",
       "    var x0 = msg['x0'] / fig.ratio;\n",
       "    var y0 = (fig.canvas.height - msg['y0']) / fig.ratio;\n",
       "    var x1 = msg['x1'] / fig.ratio;\n",
       "    var y1 = (fig.canvas.height - msg['y1']) / fig.ratio;\n",
       "    x0 = Math.floor(x0) + 0.5;\n",
       "    y0 = Math.floor(y0) + 0.5;\n",
       "    x1 = Math.floor(x1) + 0.5;\n",
       "    y1 = Math.floor(y1) + 0.5;\n",
       "    var min_x = Math.min(x0, x1);\n",
       "    var min_y = Math.min(y0, y1);\n",
       "    var width = Math.abs(x1 - x0);\n",
       "    var height = Math.abs(y1 - y0);\n",
       "\n",
       "    fig.rubberband_context.clearRect(\n",
       "        0,\n",
       "        0,\n",
       "        fig.canvas.width / fig.ratio,\n",
       "        fig.canvas.height / fig.ratio\n",
       "    );\n",
       "\n",
       "    fig.rubberband_context.strokeRect(min_x, min_y, width, height);\n",
       "};\n",
       "\n",
       "mpl.figure.prototype.handle_figure_label = function (fig, msg) {\n",
       "    // Updates the figure title.\n",
       "    fig.header.textContent = msg['label'];\n",
       "};\n",
       "\n",
       "mpl.figure.prototype.handle_cursor = function (fig, msg) {\n",
       "    var cursor = msg['cursor'];\n",
       "    switch (cursor) {\n",
       "        case 0:\n",
       "            cursor = 'pointer';\n",
       "            break;\n",
       "        case 1:\n",
       "            cursor = 'default';\n",
       "            break;\n",
       "        case 2:\n",
       "            cursor = 'crosshair';\n",
       "            break;\n",
       "        case 3:\n",
       "            cursor = 'move';\n",
       "            break;\n",
       "    }\n",
       "    fig.rubberband_canvas.style.cursor = cursor;\n",
       "};\n",
       "\n",
       "mpl.figure.prototype.handle_message = function (fig, msg) {\n",
       "    fig.message.textContent = msg['message'];\n",
       "};\n",
       "\n",
       "mpl.figure.prototype.handle_draw = function (fig, _msg) {\n",
       "    // Request the server to send over a new figure.\n",
       "    fig.send_draw_message();\n",
       "};\n",
       "\n",
       "mpl.figure.prototype.handle_image_mode = function (fig, msg) {\n",
       "    fig.image_mode = msg['mode'];\n",
       "};\n",
       "\n",
       "mpl.figure.prototype.handle_history_buttons = function (fig, msg) {\n",
       "    for (var key in msg) {\n",
       "        if (!(key in fig.buttons)) {\n",
       "            continue;\n",
       "        }\n",
       "        fig.buttons[key].disabled = !msg[key];\n",
       "        fig.buttons[key].setAttribute('aria-disabled', !msg[key]);\n",
       "    }\n",
       "};\n",
       "\n",
       "mpl.figure.prototype.handle_navigate_mode = function (fig, msg) {\n",
       "    if (msg['mode'] === 'PAN') {\n",
       "        fig.buttons['Pan'].classList.add('active');\n",
       "        fig.buttons['Zoom'].classList.remove('active');\n",
       "    } else if (msg['mode'] === 'ZOOM') {\n",
       "        fig.buttons['Pan'].classList.remove('active');\n",
       "        fig.buttons['Zoom'].classList.add('active');\n",
       "    } else {\n",
       "        fig.buttons['Pan'].classList.remove('active');\n",
       "        fig.buttons['Zoom'].classList.remove('active');\n",
       "    }\n",
       "};\n",
       "\n",
       "mpl.figure.prototype.updated_canvas_event = function () {\n",
       "    // Called whenever the canvas gets updated.\n",
       "    this.send_message('ack', {});\n",
       "};\n",
       "\n",
       "// A function to construct a web socket function for onmessage handling.\n",
       "// Called in the figure constructor.\n",
       "mpl.figure.prototype._make_on_message_function = function (fig) {\n",
       "    return function socket_on_message(evt) {\n",
       "        if (evt.data instanceof Blob) {\n",
       "            var img = evt.data;\n",
       "            if (img.type !== 'image/png') {\n",
       "                /* FIXME: We get \"Resource interpreted as Image but\n",
       "                 * transferred with MIME type text/plain:\" errors on\n",
       "                 * Chrome.  But how to set the MIME type?  It doesn't seem\n",
       "                 * to be part of the websocket stream */\n",
       "                img.type = 'image/png';\n",
       "            }\n",
       "\n",
       "            /* Free the memory for the previous frames */\n",
       "            if (fig.imageObj.src) {\n",
       "                (window.URL || window.webkitURL).revokeObjectURL(\n",
       "                    fig.imageObj.src\n",
       "                );\n",
       "            }\n",
       "\n",
       "            fig.imageObj.src = (window.URL || window.webkitURL).createObjectURL(\n",
       "                img\n",
       "            );\n",
       "            fig.updated_canvas_event();\n",
       "            fig.waiting = false;\n",
       "            return;\n",
       "        } else if (\n",
       "            typeof evt.data === 'string' &&\n",
       "            evt.data.slice(0, 21) === 'data:image/png;base64'\n",
       "        ) {\n",
       "            fig.imageObj.src = evt.data;\n",
       "            fig.updated_canvas_event();\n",
       "            fig.waiting = false;\n",
       "            return;\n",
       "        }\n",
       "\n",
       "        var msg = JSON.parse(evt.data);\n",
       "        var msg_type = msg['type'];\n",
       "\n",
       "        // Call the  \"handle_{type}\" callback, which takes\n",
       "        // the figure and JSON message as its only arguments.\n",
       "        try {\n",
       "            var callback = fig['handle_' + msg_type];\n",
       "        } catch (e) {\n",
       "            console.log(\n",
       "                \"No handler for the '\" + msg_type + \"' message type: \",\n",
       "                msg\n",
       "            );\n",
       "            return;\n",
       "        }\n",
       "\n",
       "        if (callback) {\n",
       "            try {\n",
       "                // console.log(\"Handling '\" + msg_type + \"' message: \", msg);\n",
       "                callback(fig, msg);\n",
       "            } catch (e) {\n",
       "                console.log(\n",
       "                    \"Exception inside the 'handler_\" + msg_type + \"' callback:\",\n",
       "                    e,\n",
       "                    e.stack,\n",
       "                    msg\n",
       "                );\n",
       "            }\n",
       "        }\n",
       "    };\n",
       "};\n",
       "\n",
       "// from http://stackoverflow.com/questions/1114465/getting-mouse-location-in-canvas\n",
       "mpl.findpos = function (e) {\n",
       "    //this section is from http://www.quirksmode.org/js/events_properties.html\n",
       "    var targ;\n",
       "    if (!e) {\n",
       "        e = window.event;\n",
       "    }\n",
       "    if (e.target) {\n",
       "        targ = e.target;\n",
       "    } else if (e.srcElement) {\n",
       "        targ = e.srcElement;\n",
       "    }\n",
       "    if (targ.nodeType === 3) {\n",
       "        // defeat Safari bug\n",
       "        targ = targ.parentNode;\n",
       "    }\n",
       "\n",
       "    // pageX,Y are the mouse positions relative to the document\n",
       "    var boundingRect = targ.getBoundingClientRect();\n",
       "    var x = e.pageX - (boundingRect.left + document.body.scrollLeft);\n",
       "    var y = e.pageY - (boundingRect.top + document.body.scrollTop);\n",
       "\n",
       "    return { x: x, y: y };\n",
       "};\n",
       "\n",
       "/*\n",
       " * return a copy of an object with only non-object keys\n",
       " * we need this to avoid circular references\n",
       " * http://stackoverflow.com/a/24161582/3208463\n",
       " */\n",
       "function simpleKeys(original) {\n",
       "    return Object.keys(original).reduce(function (obj, key) {\n",
       "        if (typeof original[key] !== 'object') {\n",
       "            obj[key] = original[key];\n",
       "        }\n",
       "        return obj;\n",
       "    }, {});\n",
       "}\n",
       "\n",
       "mpl.figure.prototype.mouse_event = function (event, name) {\n",
       "    var canvas_pos = mpl.findpos(event);\n",
       "\n",
       "    if (name === 'button_press') {\n",
       "        this.canvas.focus();\n",
       "        this.canvas_div.focus();\n",
       "    }\n",
       "\n",
       "    var x = canvas_pos.x * this.ratio;\n",
       "    var y = canvas_pos.y * this.ratio;\n",
       "\n",
       "    this.send_message(name, {\n",
       "        x: x,\n",
       "        y: y,\n",
       "        button: event.button,\n",
       "        step: event.step,\n",
       "        guiEvent: simpleKeys(event),\n",
       "    });\n",
       "\n",
       "    /* This prevents the web browser from automatically changing to\n",
       "     * the text insertion cursor when the button is pressed.  We want\n",
       "     * to control all of the cursor setting manually through the\n",
       "     * 'cursor' event from matplotlib */\n",
       "    event.preventDefault();\n",
       "    return false;\n",
       "};\n",
       "\n",
       "mpl.figure.prototype._key_event_extra = function (_event, _name) {\n",
       "    // Handle any extra behaviour associated with a key event\n",
       "};\n",
       "\n",
       "mpl.figure.prototype.key_event = function (event, name) {\n",
       "    // Prevent repeat events\n",
       "    if (name === 'key_press') {\n",
       "        if (event.key === this._key) {\n",
       "            return;\n",
       "        } else {\n",
       "            this._key = event.key;\n",
       "        }\n",
       "    }\n",
       "    if (name === 'key_release') {\n",
       "        this._key = null;\n",
       "    }\n",
       "\n",
       "    var value = '';\n",
       "    if (event.ctrlKey && event.key !== 'Control') {\n",
       "        value += 'ctrl+';\n",
       "    }\n",
       "    else if (event.altKey && event.key !== 'Alt') {\n",
       "        value += 'alt+';\n",
       "    }\n",
       "    else if (event.shiftKey && event.key !== 'Shift') {\n",
       "        value += 'shift+';\n",
       "    }\n",
       "\n",
       "    value += 'k' + event.key;\n",
       "\n",
       "    this._key_event_extra(event, name);\n",
       "\n",
       "    this.send_message(name, { key: value, guiEvent: simpleKeys(event) });\n",
       "    return false;\n",
       "};\n",
       "\n",
       "mpl.figure.prototype.toolbar_button_onclick = function (name) {\n",
       "    if (name === 'download') {\n",
       "        this.handle_save(this, null);\n",
       "    } else {\n",
       "        this.send_message('toolbar_button', { name: name });\n",
       "    }\n",
       "};\n",
       "\n",
       "mpl.figure.prototype.toolbar_button_onmouseover = function (tooltip) {\n",
       "    this.message.textContent = tooltip;\n",
       "};\n",
       "\n",
       "///////////////// REMAINING CONTENT GENERATED BY embed_js.py /////////////////\n",
       "// prettier-ignore\n",
       "var _JSXTOOLS_RESIZE_OBSERVER=function(A){var t,i=new WeakMap,n=new WeakMap,a=new WeakMap,r=new WeakMap,o=new Set;function s(e){if(!(this instanceof s))throw new TypeError(\"Constructor requires 'new' operator\");i.set(this,e)}function h(){throw new TypeError(\"Function is not a constructor\")}function c(e,t,i,n){e=0 in arguments?Number(arguments[0]):0,t=1 in arguments?Number(arguments[1]):0,i=2 in arguments?Number(arguments[2]):0,n=3 in arguments?Number(arguments[3]):0,this.right=(this.x=this.left=e)+(this.width=i),this.bottom=(this.y=this.top=t)+(this.height=n),Object.freeze(this)}function d(){t=requestAnimationFrame(d);var s=new WeakMap,p=new Set;o.forEach((function(t){r.get(t).forEach((function(i){var r=t instanceof window.SVGElement,o=a.get(t),d=r?0:parseFloat(o.paddingTop),f=r?0:parseFloat(o.paddingRight),l=r?0:parseFloat(o.paddingBottom),u=r?0:parseFloat(o.paddingLeft),g=r?0:parseFloat(o.borderTopWidth),m=r?0:parseFloat(o.borderRightWidth),w=r?0:parseFloat(o.borderBottomWidth),b=u+f,F=d+l,v=(r?0:parseFloat(o.borderLeftWidth))+m,W=g+w,y=r?0:t.offsetHeight-W-t.clientHeight,E=r?0:t.offsetWidth-v-t.clientWidth,R=b+v,z=F+W,M=r?t.width:parseFloat(o.width)-R-E,O=r?t.height:parseFloat(o.height)-z-y;if(n.has(t)){var k=n.get(t);if(k[0]===M&&k[1]===O)return}n.set(t,[M,O]);var S=Object.create(h.prototype);S.target=t,S.contentRect=new c(u,d,M,O),s.has(i)||(s.set(i,[]),p.add(i)),s.get(i).push(S)}))})),p.forEach((function(e){i.get(e).call(e,s.get(e),e)}))}return s.prototype.observe=function(i){if(i instanceof window.Element){r.has(i)||(r.set(i,new Set),o.add(i),a.set(i,window.getComputedStyle(i)));var n=r.get(i);n.has(this)||n.add(this),cancelAnimationFrame(t),t=requestAnimationFrame(d)}},s.prototype.unobserve=function(i){if(i instanceof window.Element&&r.has(i)){var n=r.get(i);n.has(this)&&(n.delete(this),n.size||(r.delete(i),o.delete(i))),n.size||r.delete(i),o.size||cancelAnimationFrame(t)}},A.DOMRectReadOnly=c,A.ResizeObserver=s,A.ResizeObserverEntry=h,A}; // eslint-disable-line\n",
       "mpl.toolbar_items = [[\"Home\", \"Reset original view\", \"fa fa-home icon-home\", \"home\"], [\"Back\", \"Back to previous view\", \"fa fa-arrow-left icon-arrow-left\", \"back\"], [\"Forward\", \"Forward to next view\", \"fa fa-arrow-right icon-arrow-right\", \"forward\"], [\"\", \"\", \"\", \"\"], [\"Pan\", \"Left button pans, Right button zooms\\nx/y fixes axis, CTRL fixes aspect\", \"fa fa-arrows icon-move\", \"pan\"], [\"Zoom\", \"Zoom to rectangle\\nx/y fixes axis, CTRL fixes aspect\", \"fa fa-square-o icon-check-empty\", \"zoom\"], [\"\", \"\", \"\", \"\"], [\"Download\", \"Download plot\", \"fa fa-floppy-o icon-save\", \"download\"]];\n",
       "\n",
       "mpl.extensions = [\"eps\", \"jpeg\", \"pgf\", \"pdf\", \"png\", \"ps\", \"raw\", \"svg\", \"tif\"];\n",
       "\n",
       "mpl.default_extension = \"png\";/* global mpl */\n",
       "\n",
       "var comm_websocket_adapter = function (comm) {\n",
       "    // Create a \"websocket\"-like object which calls the given IPython comm\n",
       "    // object with the appropriate methods. Currently this is a non binary\n",
       "    // socket, so there is still some room for performance tuning.\n",
       "    var ws = {};\n",
       "\n",
       "    ws.binaryType = comm.kernel.ws.binaryType;\n",
       "    ws.readyState = comm.kernel.ws.readyState;\n",
       "    function updateReadyState(_event) {\n",
       "        if (comm.kernel.ws) {\n",
       "            ws.readyState = comm.kernel.ws.readyState;\n",
       "        } else {\n",
       "            ws.readyState = 3; // Closed state.\n",
       "        }\n",
       "    }\n",
       "    comm.kernel.ws.addEventListener('open', updateReadyState);\n",
       "    comm.kernel.ws.addEventListener('close', updateReadyState);\n",
       "    comm.kernel.ws.addEventListener('error', updateReadyState);\n",
       "\n",
       "    ws.close = function () {\n",
       "        comm.close();\n",
       "    };\n",
       "    ws.send = function (m) {\n",
       "        //console.log('sending', m);\n",
       "        comm.send(m);\n",
       "    };\n",
       "    // Register the callback with on_msg.\n",
       "    comm.on_msg(function (msg) {\n",
       "        //console.log('receiving', msg['content']['data'], msg);\n",
       "        var data = msg['content']['data'];\n",
       "        if (data['blob'] !== undefined) {\n",
       "            data = {\n",
       "                data: new Blob(msg['buffers'], { type: data['blob'] }),\n",
       "            };\n",
       "        }\n",
       "        // Pass the mpl event to the overridden (by mpl) onmessage function.\n",
       "        ws.onmessage(data);\n",
       "    });\n",
       "    return ws;\n",
       "};\n",
       "\n",
       "mpl.mpl_figure_comm = function (comm, msg) {\n",
       "    // This is the function which gets called when the mpl process\n",
       "    // starts-up an IPython Comm through the \"matplotlib\" channel.\n",
       "\n",
       "    var id = msg.content.data.id;\n",
       "    // Get hold of the div created by the display call when the Comm\n",
       "    // socket was opened in Python.\n",
       "    var element = document.getElementById(id);\n",
       "    var ws_proxy = comm_websocket_adapter(comm);\n",
       "\n",
       "    function ondownload(figure, _format) {\n",
       "        window.open(figure.canvas.toDataURL());\n",
       "    }\n",
       "\n",
       "    var fig = new mpl.figure(id, ws_proxy, ondownload, element);\n",
       "\n",
       "    // Call onopen now - mpl needs it, as it is assuming we've passed it a real\n",
       "    // web socket which is closed, not our websocket->open comm proxy.\n",
       "    ws_proxy.onopen();\n",
       "\n",
       "    fig.parent_element = element;\n",
       "    fig.cell_info = mpl.find_output_cell(\"<div id='\" + id + \"'></div>\");\n",
       "    if (!fig.cell_info) {\n",
       "        console.error('Failed to find cell for figure', id, fig);\n",
       "        return;\n",
       "    }\n",
       "    fig.cell_info[0].output_area.element.on(\n",
       "        'cleared',\n",
       "        { fig: fig },\n",
       "        fig._remove_fig_handler\n",
       "    );\n",
       "};\n",
       "\n",
       "mpl.figure.prototype.handle_close = function (fig, msg) {\n",
       "    var width = fig.canvas.width / fig.ratio;\n",
       "    fig.cell_info[0].output_area.element.off(\n",
       "        'cleared',\n",
       "        fig._remove_fig_handler\n",
       "    );\n",
       "    fig.resizeObserverInstance.unobserve(fig.canvas_div);\n",
       "\n",
       "    // Update the output cell to use the data from the current canvas.\n",
       "    fig.push_to_output();\n",
       "    var dataURL = fig.canvas.toDataURL();\n",
       "    // Re-enable the keyboard manager in IPython - without this line, in FF,\n",
       "    // the notebook keyboard shortcuts fail.\n",
       "    IPython.keyboard_manager.enable();\n",
       "    fig.parent_element.innerHTML =\n",
       "        '<img src=\"' + dataURL + '\" width=\"' + width + '\">';\n",
       "    fig.close_ws(fig, msg);\n",
       "};\n",
       "\n",
       "mpl.figure.prototype.close_ws = function (fig, msg) {\n",
       "    fig.send_message('closing', msg);\n",
       "    // fig.ws.close()\n",
       "};\n",
       "\n",
       "mpl.figure.prototype.push_to_output = function (_remove_interactive) {\n",
       "    // Turn the data on the canvas into data in the output cell.\n",
       "    var width = this.canvas.width / this.ratio;\n",
       "    var dataURL = this.canvas.toDataURL();\n",
       "    this.cell_info[1]['text/html'] =\n",
       "        '<img src=\"' + dataURL + '\" width=\"' + width + '\">';\n",
       "};\n",
       "\n",
       "mpl.figure.prototype.updated_canvas_event = function () {\n",
       "    // Tell IPython that the notebook contents must change.\n",
       "    IPython.notebook.set_dirty(true);\n",
       "    this.send_message('ack', {});\n",
       "    var fig = this;\n",
       "    // Wait a second, then push the new image to the DOM so\n",
       "    // that it is saved nicely (might be nice to debounce this).\n",
       "    setTimeout(function () {\n",
       "        fig.push_to_output();\n",
       "    }, 1000);\n",
       "};\n",
       "\n",
       "mpl.figure.prototype._init_toolbar = function () {\n",
       "    var fig = this;\n",
       "\n",
       "    var toolbar = document.createElement('div');\n",
       "    toolbar.classList = 'btn-toolbar';\n",
       "    this.root.appendChild(toolbar);\n",
       "\n",
       "    function on_click_closure(name) {\n",
       "        return function (_event) {\n",
       "            return fig.toolbar_button_onclick(name);\n",
       "        };\n",
       "    }\n",
       "\n",
       "    function on_mouseover_closure(tooltip) {\n",
       "        return function (event) {\n",
       "            if (!event.currentTarget.disabled) {\n",
       "                return fig.toolbar_button_onmouseover(tooltip);\n",
       "            }\n",
       "        };\n",
       "    }\n",
       "\n",
       "    fig.buttons = {};\n",
       "    var buttonGroup = document.createElement('div');\n",
       "    buttonGroup.classList = 'btn-group';\n",
       "    var button;\n",
       "    for (var toolbar_ind in mpl.toolbar_items) {\n",
       "        var name = mpl.toolbar_items[toolbar_ind][0];\n",
       "        var tooltip = mpl.toolbar_items[toolbar_ind][1];\n",
       "        var image = mpl.toolbar_items[toolbar_ind][2];\n",
       "        var method_name = mpl.toolbar_items[toolbar_ind][3];\n",
       "\n",
       "        if (!name) {\n",
       "            /* Instead of a spacer, we start a new button group. */\n",
       "            if (buttonGroup.hasChildNodes()) {\n",
       "                toolbar.appendChild(buttonGroup);\n",
       "            }\n",
       "            buttonGroup = document.createElement('div');\n",
       "            buttonGroup.classList = 'btn-group';\n",
       "            continue;\n",
       "        }\n",
       "\n",
       "        button = fig.buttons[name] = document.createElement('button');\n",
       "        button.classList = 'btn btn-default';\n",
       "        button.href = '#';\n",
       "        button.title = name;\n",
       "        button.innerHTML = '<i class=\"fa ' + image + ' fa-lg\"></i>';\n",
       "        button.addEventListener('click', on_click_closure(method_name));\n",
       "        button.addEventListener('mouseover', on_mouseover_closure(tooltip));\n",
       "        buttonGroup.appendChild(button);\n",
       "    }\n",
       "\n",
       "    if (buttonGroup.hasChildNodes()) {\n",
       "        toolbar.appendChild(buttonGroup);\n",
       "    }\n",
       "\n",
       "    // Add the status bar.\n",
       "    var status_bar = document.createElement('span');\n",
       "    status_bar.classList = 'mpl-message pull-right';\n",
       "    toolbar.appendChild(status_bar);\n",
       "    this.message = status_bar;\n",
       "\n",
       "    // Add the close button to the window.\n",
       "    var buttongrp = document.createElement('div');\n",
       "    buttongrp.classList = 'btn-group inline pull-right';\n",
       "    button = document.createElement('button');\n",
       "    button.classList = 'btn btn-mini btn-primary';\n",
       "    button.href = '#';\n",
       "    button.title = 'Stop Interaction';\n",
       "    button.innerHTML = '<i class=\"fa fa-power-off icon-remove icon-large\"></i>';\n",
       "    button.addEventListener('click', function (_evt) {\n",
       "        fig.handle_close(fig, {});\n",
       "    });\n",
       "    button.addEventListener(\n",
       "        'mouseover',\n",
       "        on_mouseover_closure('Stop Interaction')\n",
       "    );\n",
       "    buttongrp.appendChild(button);\n",
       "    var titlebar = this.root.querySelector('.ui-dialog-titlebar');\n",
       "    titlebar.insertBefore(buttongrp, titlebar.firstChild);\n",
       "};\n",
       "\n",
       "mpl.figure.prototype._remove_fig_handler = function (event) {\n",
       "    var fig = event.data.fig;\n",
       "    if (event.target !== this) {\n",
       "        // Ignore bubbled events from children.\n",
       "        return;\n",
       "    }\n",
       "    fig.close_ws(fig, {});\n",
       "};\n",
       "\n",
       "mpl.figure.prototype._root_extra_style = function (el) {\n",
       "    el.style.boxSizing = 'content-box'; // override notebook setting of border-box.\n",
       "};\n",
       "\n",
       "mpl.figure.prototype._canvas_extra_style = function (el) {\n",
       "    // this is important to make the div 'focusable\n",
       "    el.setAttribute('tabindex', 0);\n",
       "    // reach out to IPython and tell the keyboard manager to turn it's self\n",
       "    // off when our div gets focus\n",
       "\n",
       "    // location in version 3\n",
       "    if (IPython.notebook.keyboard_manager) {\n",
       "        IPython.notebook.keyboard_manager.register_events(el);\n",
       "    } else {\n",
       "        // location in version 2\n",
       "        IPython.keyboard_manager.register_events(el);\n",
       "    }\n",
       "};\n",
       "\n",
       "mpl.figure.prototype._key_event_extra = function (event, _name) {\n",
       "    var manager = IPython.notebook.keyboard_manager;\n",
       "    if (!manager) {\n",
       "        manager = IPython.keyboard_manager;\n",
       "    }\n",
       "\n",
       "    // Check for shift+enter\n",
       "    if (event.shiftKey && event.which === 13) {\n",
       "        this.canvas_div.blur();\n",
       "        // select the cell after this one\n",
       "        var index = IPython.notebook.find_cell_index(this.cell_info[0]);\n",
       "        IPython.notebook.select(index + 1);\n",
       "    }\n",
       "};\n",
       "\n",
       "mpl.figure.prototype.handle_save = function (fig, _msg) {\n",
       "    fig.ondownload(fig, null);\n",
       "};\n",
       "\n",
       "mpl.find_output_cell = function (html_output) {\n",
       "    // Return the cell and output element which can be found *uniquely* in the notebook.\n",
       "    // Note - this is a bit hacky, but it is done because the \"notebook_saving.Notebook\"\n",
       "    // IPython event is triggered only after the cells have been serialised, which for\n",
       "    // our purposes (turning an active figure into a static one), is too late.\n",
       "    var cells = IPython.notebook.get_cells();\n",
       "    var ncells = cells.length;\n",
       "    for (var i = 0; i < ncells; i++) {\n",
       "        var cell = cells[i];\n",
       "        if (cell.cell_type === 'code') {\n",
       "            for (var j = 0; j < cell.output_area.outputs.length; j++) {\n",
       "                var data = cell.output_area.outputs[j];\n",
       "                if (data.data) {\n",
       "                    // IPython >= 3 moved mimebundle to data attribute of output\n",
       "                    data = data.data;\n",
       "                }\n",
       "                if (data['text/html'] === html_output) {\n",
       "                    return [cell, data, j];\n",
       "                }\n",
       "            }\n",
       "        }\n",
       "    }\n",
       "};\n",
       "\n",
       "// Register the function which deals with the matplotlib target/channel.\n",
       "// The kernel may be null if the page has been refreshed.\n",
       "if (IPython.notebook.kernel !== null) {\n",
       "    IPython.notebook.kernel.comm_manager.register_target(\n",
       "        'matplotlib',\n",
       "        mpl.mpl_figure_comm\n",
       "    );\n",
       "}\n"
      ],
      "text/plain": [
       "<IPython.core.display.Javascript object>"
      ]
     },
     "metadata": {},
     "output_type": "display_data"
    },
    {
     "data": {
      "text/html": [
       "<img src=\"data:image/png;base64,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\" width=\"572.85\">"
      ],
      "text/plain": [
       "<IPython.core.display.HTML object>"
      ]
     },
     "metadata": {},
     "output_type": "display_data"
    },
    {
     "data": {
      "text/plain": [
       "Text(0.5, 0, 'Portée [m]')"
      ]
     },
     "execution_count": 55,
     "metadata": {},
     "output_type": "execute_result"
    }
   ],
   "source": [
    "def f(x, y):\n",
    "    return (5*x*y**4)/(384*e0m*ig)\n",
    "x = np.linspace(0, 500, 500)\n",
    "y = np.linspace(0, 15, 15)\n",
    "X, Y = np.meshgrid(x, y)\n",
    "Z = f(X,Y)\n",
    "\n",
    "%matplotlib notebook\n",
    "\n",
    "fig = plt.figure()\n",
    "ax = plt.axes(projection='3d')\n",
    "ax.plot_surface(X, Y, Z, rstride=1, cstride=1,\n",
    "cmap='jet', edgecolor='none')\n",
    "\n",
    "plt.title(\"Déformation en fonction de la portée et de la charge à l'ELS [m]\")\n",
    "plt.xlabel(\"Charge ELS [kN/m]\")\n",
    "plt.ylabel(\"Portée [m]\")"
   ]
  }
 ],
 "metadata": {
  "hide_input": false,
  "kernelspec": {
   "display_name": "Python 3 (ipykernel)",
   "language": "python",
   "name": "python3"
  },
  "language_info": {
   "codemirror_mode": {
    "name": "ipython",
    "version": 3
   },
   "file_extension": ".py",
   "mimetype": "text/x-python",
   "name": "python",
   "nbconvert_exporter": "python",
   "pygments_lexer": "ipython3",
   "version": "3.10.0"
  }
 },
 "nbformat": 4,
 "nbformat_minor": 5
}
