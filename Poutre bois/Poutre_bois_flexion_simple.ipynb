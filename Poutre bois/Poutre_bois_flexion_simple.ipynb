{
 "cells": [
  {
   "cell_type": "markdown",
   "id": "cd69c23e",
   "metadata": {},
   "source": [
    "# Vérification poutre bois en flexion simple avec prise en compte du déversement"
   ]
  },
  {
   "cell_type": "code",
   "execution_count": 1,
   "id": "5c07b685",
   "metadata": {
    "ExecuteTime": {
     "end_time": "2022-04-27T10:28:30.809675Z",
     "start_time": "2022-04-27T10:28:30.260510Z"
    }
   },
   "outputs": [],
   "source": [
    "## Importation des différentes bibliothèques nécéssaires\n",
    "\n",
    "from math import *\n",
    "import ipywidgets as widgets\n",
    "from tkinter import *\n",
    "import ipywidgets as widgets\n",
    "import matplotlib.pyplot as plt\n",
    "import numpy as np\n",
    "from IPython.display import Javascript, display\n",
    "from ipywidgets import widgets\n",
    "import pandas as pd\n",
    "from math import *\n",
    "import matplotlib.pyplot as plt"
   ]
  },
  {
   "cell_type": "markdown",
   "id": "234a9eb6",
   "metadata": {},
   "source": [
    "## 1. Données d'entrée"
   ]
  },
  {
   "cell_type": "markdown",
   "id": "aef20aed",
   "metadata": {},
   "source": [
    "### 1.1. Références normatives\n",
    "\n",
    "*- NF EN 1995 + AN : Conception et calcul des structures en bois*"
   ]
  },
  {
   "cell_type": "markdown",
   "id": "2664dfe8",
   "metadata": {},
   "source": [
    "### 1.2. Matériau"
   ]
  },
  {
   "cell_type": "code",
   "execution_count": 2,
   "id": "8e1b892f",
   "metadata": {
    "ExecuteTime": {
     "end_time": "2022-04-27T10:28:30.825634Z",
     "start_time": "2022-04-27T10:28:30.810731Z"
    }
   },
   "outputs": [
    {
     "data": {
      "application/vnd.jupyter.widget-view+json": {
       "model_id": "8497fc60486d4cdeb63f8c2c8a29590f",
       "version_major": 2,
       "version_minor": 0
      },
      "text/plain": [
       "Dropdown(description='Bois :', options=('Résineux', 'Feuillus', 'Lamellé collé'), value='Résineux')"
      ]
     },
     "metadata": {},
     "output_type": "display_data"
    }
   ],
   "source": [
    "## Création d'une liste déroulante \n",
    "\n",
    "bois=widgets.Dropdown(\n",
    "    options=['Résineux','Feuillus','Lamellé collé'],\n",
    "    value='Résineux',\n",
    "    description='Bois :',\n",
    "    disabled=False,\n",
    ")\n",
    "bois"
   ]
  },
  {
   "cell_type": "code",
   "execution_count": 3,
   "id": "d342e097",
   "metadata": {
    "ExecuteTime": {
     "end_time": "2022-04-27T10:28:30.840593Z",
     "start_time": "2022-04-27T10:28:30.826650Z"
    }
   },
   "outputs": [
    {
     "data": {
      "application/vnd.jupyter.widget-view+json": {
       "model_id": "dde8f104ecf84d96baa634b226a0d2db",
       "version_major": 2,
       "version_minor": 0
      },
      "text/plain": [
       "Button(description='Valider', style=ButtonStyle())"
      ]
     },
     "metadata": {},
     "output_type": "display_data"
    }
   ],
   "source": [
    "## Création d'un bouton qui permet d'actualiser les cellules suivantes grace à JavaScript\n",
    "\n",
    "## Dans display(Javascript(....index()+1,.....index()+2), index+1=première cellule à actualiser, index+2=dernière cellule à actualiser \n",
    "\n",
    "def run_all(ev):\n",
    "    display(Javascript('IPython.notebook.execute_cell_range(IPython.notebook.get_selected_index()+1, IPython.notebook.get_selected_index()+2)'))\n",
    "\n",
    "button = widgets.Button(description=\"Valider\")\n",
    "\n",
    "button.on_click(run_all)\n",
    "display(button)"
   ]
  },
  {
   "cell_type": "code",
   "execution_count": 4,
   "id": "9c40a398",
   "metadata": {
    "ExecuteTime": {
     "end_time": "2022-04-27T10:28:30.856551Z",
     "start_time": "2022-04-27T10:28:30.841624Z"
    }
   },
   "outputs": [
    {
     "data": {
      "application/vnd.jupyter.widget-view+json": {
       "model_id": "00c3f9e261424d5db144f2e4d1f603aa",
       "version_major": 2,
       "version_minor": 0
      },
      "text/plain": [
       "Dropdown(description='Classe :', index=3, options=('C14', 'C16', 'C18', 'C20', 'C22', 'C24', 'C27', 'C30', 'C3…"
      ]
     },
     "metadata": {},
     "output_type": "display_data"
    }
   ],
   "source": [
    "## Création d'une liste déroulante dont les valeurs sont conditionnées par une liste déroulante précendente avec la fonction if \n",
    "\n",
    "if bois.value=='Résineux':\n",
    "    classe=widgets.Dropdown(\n",
    "        options=['C14','C16','C18','C20','C22','C24','C27','C30','C35','C40'],\n",
    "        value='C20',\n",
    "        description='Classe :',\n",
    "        disabled=False,\n",
    ")\n",
    "elif bois.value=='Feuillus':\n",
    "    classe=widgets.Dropdown(\n",
    "        options=['D30','D35','D40','D50','D60','D70'],\n",
    "        value='D30',\n",
    "        description='Classe :',\n",
    "        disabled=False,\n",
    ")\n",
    "else:\n",
    "    classe=widgets.Dropdown(\n",
    "        options=['GL24h','GL28h','GL32h','GL36h','GL24c','GL28c','GL32c','GL36c'],\n",
    "        value='GL24h',\n",
    "        description='Classe :',\n",
    "        disabled=False,\n",
    ")\n",
    "\n",
    "display(classe)"
   ]
  },
  {
   "cell_type": "code",
   "execution_count": 5,
   "id": "6b951e50",
   "metadata": {
    "ExecuteTime": {
     "end_time": "2022-04-27T10:28:30.871548Z",
     "start_time": "2022-04-27T10:28:30.857582Z"
    }
   },
   "outputs": [
    {
     "data": {
      "application/vnd.jupyter.widget-view+json": {
       "model_id": "3b6c4d6f31854a6f80b5af81fa076c6d",
       "version_major": 2,
       "version_minor": 0
      },
      "text/plain": [
       "Button(description='Valider', style=ButtonStyle())"
      ]
     },
     "metadata": {},
     "output_type": "display_data"
    }
   ],
   "source": [
    "## Création d'un bouton qui permet d'actualiser les cellules suivantes grace à JavaScript\n",
    "\n",
    "def run_all(ev):\n",
    "    display(Javascript('IPython.notebook.execute_cell_range(IPython.notebook.get_selected_index()+1, IPython.notebook.get_selected_index()+3)'))\n",
    "\n",
    "button = widgets.Button(description=\"Valider\")\n",
    "\n",
    "button.on_click(run_all)\n",
    "display(button)"
   ]
  },
  {
   "cell_type": "code",
   "execution_count": 6,
   "id": "1fa392b2",
   "metadata": {
    "ExecuteTime": {
     "end_time": "2022-04-27T10:28:31.109815Z",
     "start_time": "2022-04-27T10:28:30.872536Z"
    }
   },
   "outputs": [],
   "source": [
    "## Importation de différentes valeur d'un fichier excel grace à panda\n",
    "\n",
    "caracbois=pd.read_excel(\"caracB.xlsx\")\n",
    "\n",
    "fmk=caracbois.loc[0,classe.value]\n",
    "ft0k=caracbois.loc[1,classe.value]\n",
    "ft90k=caracbois.loc[2,classe.value]\n",
    "fc0k=caracbois.loc[3,classe.value]\n",
    "fc90k=caracbois.loc[4,classe.value]\n",
    "fvk=caracbois.loc[5,classe.value]\n",
    "e0m=caracbois.loc[6,classe.value]\n",
    "e05=caracbois.loc[7,classe.value]\n",
    "pm=caracbois.loc[8,classe.value]"
   ]
  },
  {
   "cell_type": "markdown",
   "id": "7b648fea",
   "metadata": {},
   "source": [
    "### 1.3. Exposition"
   ]
  },
  {
   "cell_type": "code",
   "execution_count": 7,
   "id": "6054cca7",
   "metadata": {
    "ExecuteTime": {
     "end_time": "2022-04-27T10:28:31.140821Z",
     "start_time": "2022-04-27T10:28:31.112851Z"
    }
   },
   "outputs": [
    {
     "data": {
      "application/vnd.jupyter.widget-view+json": {
       "model_id": "ea912a82f3894dd1a78089c75899ddf0",
       "version_major": 2,
       "version_minor": 0
      },
      "text/plain": [
       "ToggleButtons(options=('Classe de service 1', 'Classe de service 2', 'Classe de service 3'), value='Classe de …"
      ]
     },
     "metadata": {},
     "output_type": "display_data"
    }
   ],
   "source": [
    "## Création d'un ToggelButton\n",
    "\n",
    "service=widgets.ToggleButtons(\n",
    "    options=['Classe de service 1', 'Classe de service 2', 'Classe de service 3'],\n",
    "    description='',\n",
    "    disabled=False,\n",
    "    button_style='', # 'success', 'info', 'warning', 'danger' or ''\n",
    "   \n",
    ")\n",
    "service"
   ]
  },
  {
   "cell_type": "markdown",
   "id": "ad5f192f",
   "metadata": {
    "hide_input": true
   },
   "source": [
    "### 1.4. Géométrie"
   ]
  },
  {
   "cell_type": "code",
   "execution_count": 8,
   "id": "7dabacbf",
   "metadata": {
    "ExecuteTime": {
     "end_time": "2022-04-27T10:28:31.156746Z",
     "start_time": "2022-04-27T10:28:31.141790Z"
    }
   },
   "outputs": [
    {
     "data": {
      "application/vnd.jupyter.widget-view+json": {
       "model_id": "60a4c70bb86a43b29f40e23974eca093",
       "version_major": 2,
       "version_minor": 0
      },
      "text/plain": [
       "FloatSlider(value=4.0, continuous_update=False, description='Portée [m]', max=15.0, readout_format='.1f', step…"
      ]
     },
     "metadata": {},
     "output_type": "display_data"
    }
   ],
   "source": [
    "## Création d'un slider\n",
    "\n",
    "l=widgets.FloatSlider(\n",
    "    value=4,\n",
    "    min=0,\n",
    "    max=15,\n",
    "    step=0.5,\n",
    "    description=('Portée [m]'),\n",
    "    disabled=False,\n",
    "    continuous_update=False,\n",
    "    orientation='horizontal',\n",
    "    readout=True,\n",
    "    readout_format='.1f',)\n",
    "l"
   ]
  },
  {
   "cell_type": "markdown",
   "id": "6db8dcaa",
   "metadata": {},
   "source": [
    "### 1.5. Chargement"
   ]
  },
  {
   "cell_type": "code",
   "execution_count": 9,
   "id": "918dc8f0",
   "metadata": {
    "ExecuteTime": {
     "end_time": "2022-04-27T10:28:31.203621Z",
     "start_time": "2022-04-27T10:28:31.157744Z"
    }
   },
   "outputs": [
    {
     "data": {
      "application/vnd.jupyter.widget-view+json": {
       "model_id": "7cb027ed114d4302abd26d9e8c7137ca",
       "version_major": 2,
       "version_minor": 0
      },
      "text/plain": [
       "BoundedFloatText(value=0.0, description='G [kN/m]:', step=0.1)"
      ]
     },
     "metadata": {},
     "output_type": "display_data"
    },
    {
     "data": {
      "application/vnd.jupyter.widget-view+json": {
       "model_id": "b633a14c4e9d4dc1baafffe4eba730cf",
       "version_major": 2,
       "version_minor": 0
      },
      "text/plain": [
       "BoundedFloatText(value=0.0, description='Q [kN/m]:', step=0.1)"
      ]
     },
     "metadata": {},
     "output_type": "display_data"
    },
    {
     "data": {
      "application/vnd.jupyter.widget-view+json": {
       "model_id": "d4372c09a16c43e29180038321ddbf66",
       "version_major": 2,
       "version_minor": 0
      },
      "text/plain": [
       "BoundedFloatText(value=0.0, description='S [kN/m]:', step=0.1)"
      ]
     },
     "metadata": {},
     "output_type": "display_data"
    },
    {
     "data": {
      "application/vnd.jupyter.widget-view+json": {
       "model_id": "e10055ebfa9c48d68edfa3d124c59098",
       "version_major": 2,
       "version_minor": 0
      },
      "text/plain": [
       "BoundedFloatText(value=0.0, description='W [kN/m]:', step=0.1)"
      ]
     },
     "metadata": {},
     "output_type": "display_data"
    },
    {
     "data": {
      "application/vnd.jupyter.widget-view+json": {
       "model_id": "69403ae218d64c14baac340f7121e194",
       "version_major": 2,
       "version_minor": 0
      },
      "text/plain": [
       "Dropdown(description='Cat. Q :', options=('A', 'B', 'C', 'D', 'E', 'F', 'G', 'H'), value='A')"
      ]
     },
     "metadata": {},
     "output_type": "display_data"
    },
    {
     "data": {
      "application/vnd.jupyter.widget-view+json": {
       "model_id": "658d221c838b4b55b56bb3d73b5c49f0",
       "version_major": 2,
       "version_minor": 0
      },
      "text/plain": [
       "Dropdown(description='Cat. S :', index=2, options=('Finlande,etc', '1000+', '1000-'), value='1000-')"
      ]
     },
     "metadata": {},
     "output_type": "display_data"
    },
    {
     "data": {
      "application/vnd.jupyter.widget-view+json": {
       "model_id": "52e04f22f8e34daca2bd9a369f8e1762",
       "version_major": 2,
       "version_minor": 0
      },
      "text/plain": [
       "FloatSlider(value=90.0, continuous_update=False, description='Taux de travail [%]', min=70.0, readout_format='…"
      ]
     },
     "metadata": {},
     "output_type": "display_data"
    }
   ],
   "source": [
    "## Création de plusieurs interfaces de saisie\n",
    "\n",
    "g=widgets.BoundedFloatText(\n",
    "    value=0,\n",
    "    min=0,\n",
    "    max=100,\n",
    "    step=0.1,\n",
    "    description='G [kN/m]:',\n",
    "    disabled=False)\n",
    "\n",
    "q=widgets.BoundedFloatText(\n",
    "    value=0,\n",
    "    min=0,\n",
    "    max=100,\n",
    "    step=0.1,\n",
    "    description='Q [kN/m]:',\n",
    "    disabled=False)\n",
    "\n",
    "s=widgets.BoundedFloatText(\n",
    "    value=0,\n",
    "    min=0,\n",
    "    max=100,\n",
    "    step=0.1,\n",
    "    description='S [kN/m]:',\n",
    "    disabled=False\n",
    ")\n",
    "\n",
    "w=widgets.BoundedFloatText(\n",
    "    value=0,\n",
    "    min=0,\n",
    "    max=100,\n",
    "    step=0.1,\n",
    "    description='W [kN/m]:',\n",
    "    disabled=False)\n",
    "\n",
    "catq=widgets.Dropdown(\n",
    "        options=['A','B','C','D','E','F','G','H'],\n",
    "        value='A',\n",
    "        description='Cat. Q :',\n",
    "        disabled=False,)\n",
    "\n",
    "cats=widgets.Dropdown(\n",
    "        options=['Finlande,etc','1000+','1000-'],\n",
    "        value='1000-',\n",
    "        description='Cat. S :',\n",
    "        disabled=False,)\n",
    "\n",
    "## Création d'un slider\n",
    "\n",
    "trav=widgets.FloatSlider(\n",
    "    value=90,\n",
    "    min=70,\n",
    "    max=100,\n",
    "    step=5,\n",
    "    description=('Taux de travail [%]'),\n",
    "    disabled=False,\n",
    "    continuous_update=False,\n",
    "    orientation='horizontal',\n",
    "    readout=True,\n",
    "    readout_format='.1f',)\n",
    "\n",
    "\n",
    "display(g,q,s,w,catq,cats,trav)"
   ]
  },
  {
   "cell_type": "code",
   "execution_count": 10,
   "id": "f3ccb556",
   "metadata": {
    "ExecuteTime": {
     "end_time": "2022-04-27T10:28:31.219578Z",
     "start_time": "2022-04-27T10:28:31.205648Z"
    }
   },
   "outputs": [
    {
     "data": {
      "application/vnd.jupyter.widget-view+json": {
       "model_id": "0019c4d63da84c369596ebd3096d9d13",
       "version_major": 2,
       "version_minor": 0
      },
      "text/plain": [
       "Button(description='Valider', style=ButtonStyle())"
      ]
     },
     "metadata": {},
     "output_type": "display_data"
    },
    {
     "data": {
      "application/javascript": [
       "IPython.notebook.execute_cell_range(IPython.notebook.get_selected_index()+1, IPython.notebook.get_selected_index()+7)"
      ],
      "text/plain": [
       "<IPython.core.display.Javascript object>"
      ]
     },
     "metadata": {},
     "output_type": "display_data"
    },
    {
     "data": {
      "application/javascript": [
       "IPython.notebook.execute_cell_range(IPython.notebook.get_selected_index()+1, IPython.notebook.get_selected_index()+7)"
      ],
      "text/plain": [
       "<IPython.core.display.Javascript object>"
      ]
     },
     "metadata": {},
     "output_type": "display_data"
    }
   ],
   "source": [
    "## Création d'un bouton qui permet d'actualiser les cellules suivantes grace à JavaScript\n",
    "\n",
    "def run_all(ev):\n",
    "    display(Javascript('IPython.notebook.execute_cell_range(IPython.notebook.get_selected_index()+1, IPython.notebook.get_selected_index()+7)'))\n",
    "\n",
    "button = widgets.Button(description=\"Valider\")\n",
    "\n",
    "button.on_click(run_all)\n",
    "display(button)"
   ]
  },
  {
   "cell_type": "code",
   "execution_count": 42,
   "id": "9add7ca0",
   "metadata": {
    "ExecuteTime": {
     "end_time": "2022-04-27T12:40:37.122598Z",
     "start_time": "2022-04-27T12:40:37.087115Z"
    }
   },
   "outputs": [],
   "source": [
    "## Déclaration des variables kmod\n",
    "\n",
    "kmod0=kmod1=kmod2=kmod3=kmod4=kmod5=kmod6=kmod7=kmod8=kmod9=kmod10=kmod12=kmod12=0\n",
    "\n",
    "## Définition de la valeur de gamma en fonction de la nature du bois \n",
    "\n",
    "if bois.value=='Lamellé collé':\n",
    "    gm=1.25\n",
    "else:\n",
    "    gm=1.3\n",
    "\n",
    "    \n",
    "## Recherche des coefficient de sécurité en fonction des cas de charge dans feuille excel grace à panda  \n",
    "\n",
    "coeff=pd.read_excel(\"caracB.xlsx\")\n",
    "psi0q=coeff.loc[0,catq.value]\n",
    "psi1q=coeff.loc[1,catq.value]\n",
    "psi2q=coeff.loc[2,catq.value]\n",
    "psi0w=coeff.loc[0,'W']\n",
    "psi1w=coeff.loc[1,'W']\n",
    "psi2w=coeff.loc[2,'W']\n",
    "psi0s=coeff.loc[0,cats.value]\n",
    "psi1s=coeff.loc[1,cats.value]\n",
    "psi2s=coeff.loc[2,cats.value]\n",
    "\n",
    "## Définition du kmod en fondtion de la classe de service \n",
    "\n",
    "if service.value=='Classe de service 3':\n",
    "    kmod0=0.5\n",
    "    kmod1=0.65\n",
    "    kmod2=kmod9=kmod10=0.7\n",
    "    kmod3=kmod4=kmod5=kmod6=kmod7=kmod8=kmod11=kmod12=0.9\n",
    "else :\n",
    "    kmod0=0.6\n",
    "    kmod1=0.8\n",
    "    kmod2=kmod9=kmod10=0.9\n",
    "    kmod3=kmod4=kmod5=kmod6=kmod7=kmod8=kmod11=kmod12=1.1\n",
    "    \n",
    "## Calcul de chaque combinaison de charge avec application du kmod\n",
    "    \n",
    "c0=(1.35*g.value)/kmod0\n",
    "c1=(1.35*g.value+1.5*q.value)/kmod1\n",
    "c2=(1.35*g.value+1.5*q.value+1.5*psi0s*s.value)/kmod2\n",
    "c3=(1.35*g.value+1.5*q.value+1.5*psi0w*w.value)/kmod3\n",
    "c4=(1.35*g.value+1.5*q.value+1.5*psi0s*s.value+1.5*psi0w*w.value)/kmod4\n",
    "c5=(1.35*g.value+1.5*w.value)/kmod5\n",
    "c6=(1.35*g.value+1.5*w.value+1.5*psi0q*q.value)/kmod6\n",
    "c7=(1.35*g.value+1.5*w.value+1.5*psi0s*s.value)/kmod7\n",
    "c8=(1.35*g.value+1.5*w.value+1.5*psi0q*q.value+1.5*psi0s*s.value)/kmod8\n",
    "c9=(1.35*g.value+1.5*s.value)/kmod9\n",
    "c10=(1.35*g.value+1.5*s.value+1.5*psi0q*q.value)/kmod10\n",
    "c11=(1.35*g.value+1.5*s.value+1.5*psi0w*w.value)/kmod11\n",
    "c12=(1.35*g.value+1.5*s.value+1.5*psi0w*w.value+1.5*psi0q*q.value)/kmod12\n",
    "\n",
    "## Définition de l'arrondi du résultat au centième pour chaque cas de charge\n",
    "\n",
    "c0=round(c0,2)\n",
    "c1=round(c1,2)\n",
    "c2=round(c2,2)\n",
    "c3=round(c2,2)\n",
    "c4=round(c4,2)\n",
    "c5=round(c5,2)\n",
    "c6=round(c6,2)\n",
    "c7=round(c7,2)\n",
    "c8=round(c8,2)\n",
    "c9=round(c9,2)\n",
    "c10=round(c10,2)\n",
    "c11=round(c11,2)\n",
    "c12=round(c12,2)\n",
    "\n",
    "## Recherche du cas de charge le plus défavorable \n",
    "\n",
    "pmax=max(c0,c1,c2,c3,c4,c5,c6,c7,c8,c9,c10,c11,c12)\n",
    "\n",
    "## Majoration pour taux de travail souhaité\n",
    "\n",
    "pmax=round(pmax/(trav.value*0.01),2)"
   ]
  },
  {
   "cell_type": "markdown",
   "id": "8b7b478a",
   "metadata": {},
   "source": [
    "## 2. Dimensionnement de la poutre à l'ELU"
   ]
  },
  {
   "cell_type": "markdown",
   "id": "6387958e",
   "metadata": {},
   "source": [
    "### 2.1. Combinaisons d'actions à l'ELU"
   ]
  },
  {
   "cell_type": "markdown",
   "id": "5e78530b",
   "metadata": {
    "variables": {
     "c0": "0.0",
     "c1": "0.0",
     "c10": "0.0",
     "c11": "0.0",
     "c12": "0.0",
     "c2": "0.0",
     "c3": "0.0",
     "c4": "0.0",
     "c5": "0.0",
     "c6": "0.0",
     "c7": "0.0",
     "c8": "0.0",
     "c9": "0.0",
     "pmax": "0.0"
    }
   },
   "source": [
    "|Combinaison ELU (majoration par kmod) |$$P_{ELU,mod}$$ [kN/m]|\n",
    "|-----------|-------------|\n",
    "|$$1.35G$$|{{c0}}|\n",
    "|$$1.35G+1.5Q$$|{{c1}}|\n",
    "|$$1.35G+1.5Q+1.5\\psi_{0,S}S$$|{{c2}}|\n",
    "|$$1.35G+1.5Q+1.5\\psi_{0,W}W$$|{{c3}}|\n",
    "|$$1.35G+1.5Q+1.5\\psi_{0,S}S+1.5\\psi_{0,W}W$$|{{c4}}|\n",
    "|$$1.35G+1.5W$$|{{c5}}|\n",
    "|$$1.35G+1.5W+1.5\\psi_{0,Q}Q$$|{{c6}}|\n",
    "|$$1.35G+1.5W+1.5\\psi_{0,S}S$$|{{c7}}|\n",
    "|$$1.35G+1.5W+1.5\\psi_{0,Q}Q+1.5\\psi_{0,S}S$$|{{c8}}|\n",
    "|$$1.35G+1.5S$$|{{c9}}|\n",
    "|$$1.35G+1.5S+1.5\\psi_{0,Q}Q$$|{{c10}}|\n",
    "|$$1.35G+1.5S+1.5\\psi_{0,W}W$$|{{c11}}|\n",
    "|$$1.35G+1.5S+1.5\\psi_{0,Q}Q+1.5\\psi_{0,W}W$$|{{c12}}|\n",
    "|$$P_{ELU,mod,max}$$|**{{pmax}}**|"
   ]
  },
  {
   "cell_type": "markdown",
   "id": "c6bedd64",
   "metadata": {},
   "source": [
    "### 2.2. Charge ELU admissible en fonction de la section"
   ]
  },
  {
   "cell_type": "code",
   "execution_count": 43,
   "id": "aa684052",
   "metadata": {
    "ExecuteTime": {
     "end_time": "2022-04-27T12:40:37.542217Z",
     "start_time": "2022-04-27T12:40:37.395263Z"
    }
   },
   "outputs": [
    {
     "data": {
      "image/png": "[encoded data removed]",
      "text/plain": [
       "<Figure size 1080x540 with 2 Axes>"
      ]
     },
     "metadata": {
      "needs_background": "light"
     },
     "output_type": "display_data"
    }
   ],
   "source": [
    "## Déclaration des axes du graphe\n",
    "\n",
    "xlist = np.linspace(20,500, 100)\n",
    "ylist = np.linspace(20,300, 100)\n",
    "\n",
    "X, Y = np.meshgrid(xlist, ylist)\n",
    "\n",
    "## Calcul de lrel pour Kcrit  \n",
    "\n",
    "sigcrit=(0.78*e05*Y*Y)/(X*0.9)\n",
    "\n",
    "lrel=(fmk/sigcrit)**2\n",
    "\n",
    "## Fonction pour déterminer le moment max\n",
    "\n",
    "def f(X,Y):\n",
    "    for lrel in np.arange(0,0.75) : return (4*Y*(X**2)*fmk*1)/(3*(l.value*1000)**2*gm)\n",
    "    for lrel in np.arange(0.75,1.4) : return (4*Y*(X**2)*fmk*(1.56-0.75*lrel))/(3*(l.value*1000)**2*gm)\n",
    "    for lrel in np.arange(1.4,100) : return (4*Y*(X**2)*fmk*(1/(lrel**2))/(3*(l.value*1000)**2*gm))\n",
    "  \n",
    "Z = f(X,Y)\n",
    "\n",
    "## Affichage et rendu du graphique\n",
    "\n",
    "fig,ax=plt.subplots(1,1)\n",
    "cp = ax.contourf(X, Y, Z)\n",
    "fig.colorbar(cp)\n",
    "ax.set_title('Charge ELU(mod) admissible [kN/m]')\n",
    "ax.set_xlabel('Hauteur (mm)')\n",
    "ax.set_ylabel('Base (mm)')\n",
    "plt.rcParams[\"figure.figsize\"] = (15, 7.5)\n",
    "plt.show()"
   ]
  },
  {
   "cell_type": "markdown",
   "id": "a91ceec4",
   "metadata": {},
   "source": [
    "### 2.3. Section optimale pour une hauteur fixée à l'ELU"
   ]
  },
  {
   "cell_type": "code",
   "execution_count": 13,
   "id": "e1acc9e3",
   "metadata": {
    "ExecuteTime": {
     "end_time": "2022-04-27T10:28:31.676813Z",
     "start_time": "2022-04-27T10:28:31.661855Z"
    }
   },
   "outputs": [
    {
     "data": {
      "application/vnd.jupyter.widget-view+json": {
       "model_id": "104d7e25106d4175816eaf920299bff7",
       "version_major": 2,
       "version_minor": 0
      },
      "text/plain": [
       "FloatSlider(value=200.0, continuous_update=False, description='Hauteur [mm]', max=600.0, readout_format='.1f',…"
      ]
     },
     "metadata": {},
     "output_type": "display_data"
    }
   ],
   "source": [
    "## Création d'un slider\n",
    "\n",
    "h=widgets.FloatSlider(\n",
    "    value=200,\n",
    "    min=0,\n",
    "    max=600,\n",
    "    step=20,\n",
    "    description=('Hauteur [mm]'),\n",
    "    disabled=False,\n",
    "    continuous_update=False,\n",
    "    orientation='horizontal',\n",
    "    readout=True,\n",
    "    readout_format='.1f',)\n",
    "h"
   ]
  },
  {
   "cell_type": "code",
   "execution_count": 14,
   "id": "ad7be60d",
   "metadata": {
    "ExecuteTime": {
     "end_time": "2022-04-27T10:28:31.692757Z",
     "start_time": "2022-04-27T10:28:31.680802Z"
    }
   },
   "outputs": [
    {
     "data": {
      "application/vnd.jupyter.widget-view+json": {
       "model_id": "631af74ca5fe4779b6d246188d4dc473",
       "version_major": 2,
       "version_minor": 0
      },
      "text/plain": [
       "Button(description='Valider', style=ButtonStyle())"
      ]
     },
     "metadata": {},
     "output_type": "display_data"
    },
    {
     "data": {
      "application/javascript": [
       "IPython.notebook.execute_cell_range(IPython.notebook.get_selected_index()+1, IPython.notebook.get_selected_index()+11)"
      ],
      "text/plain": [
       "<IPython.core.display.Javascript object>"
      ]
     },
     "metadata": {},
     "output_type": "display_data"
    }
   ],
   "source": [
    "## Création d'un bouton qui permet d'actualiser les cellules suivantes grace à JavaScript\n",
    "\n",
    "def run_all(ev):\n",
    "    display(Javascript('IPython.notebook.execute_cell_range(IPython.notebook.get_selected_index()+1, IPython.notebook.get_selected_index()+11)'))\n",
    "\n",
    "button = widgets.Button(description=\"Valider\")\n",
    "\n",
    "button.on_click(run_all)\n",
    "display(button)"
   ]
  },
  {
   "cell_type": "code",
   "execution_count": 35,
   "id": "1934794e",
   "metadata": {
    "ExecuteTime": {
     "end_time": "2022-04-27T11:49:42.102195Z",
     "start_time": "2022-04-27T11:49:42.086487Z"
    }
   },
   "outputs": [],
   "source": [
    "## Calcul de b en fontion de la valeur de h saisi précedemment\n",
    "\n",
    "def b():\n",
    "    for lrel in np.arange(0,0.75) : return (3*(l.value)**2*pmax*gm)/(4*h.value**2*fmk*1)\n",
    "    for lrel in np.arange(0.75,1.4) : return (3*(l.value)**2*pmax*gm)/(4*h.value**2*fmk*(1.56-0.75*lrel))\n",
    "    for lrel in np.arange(1.4,100) : return (3*(l.value)**2*pmax*gm)/(4*h.value**2*fmk*(1/(lrel**2)))\n",
    "  \n",
    "b=b()\n",
    "                                                                      \n",
    "b=round(b,5)\n",
    "\n",
    "b=b*1000**2"
   ]
  },
  {
   "cell_type": "markdown",
   "id": "ff45fce2",
   "metadata": {
    "variables": {
     "b": "0.0",
     "h.value": "200.0"
    }
   },
   "source": [
    "***Section : {{b}}x{{h.value}}mm ht.***"
   ]
  },
  {
   "cell_type": "markdown",
   "id": "5da76891",
   "metadata": {
    "ExecuteTime": {
     "end_time": "2022-04-25T15:22:29.215919Z",
     "start_time": "2022-04-25T15:22:29.200271Z"
    },
    "variables": {
     "b": "0.0",
     "bois.value": "Résineux",
     "classe.value": "C20",
     "h.value": "200.0",
     "l.value": "12.5",
     "pmax": "0.0",
     "service.value": "Classe de service 1"
    }
   },
   "source": [
    "|**Caractéristiques**|**Valeur**|\n",
    "|-----------|-------------|\n",
    "|**Type de bois**|{{bois.value}}|\n",
    "|**Classe de structure**|{{classe.value}}|\n",
    "|**Exposition**|{{service.value}}|\n",
    "|**Charge max ELU [kN/m]**|{{pmax}}|\n",
    "|**Portée [m]**|{{l.value}}|\n",
    "|**Base [mm]**|{{b}}|\n",
    "|**Hauteur [mm]**|{{h.value}}|"
   ]
  },
  {
   "cell_type": "markdown",
   "id": "b7e08b2f",
   "metadata": {
    "ExecuteTime": {
     "end_time": "2022-04-26T11:41:15.688326Z",
     "start_time": "2022-04-26T11:41:15.672709Z"
    }
   },
   "source": [
    "## 3. Dimensionnement de la poutre à l'ELS"
   ]
  },
  {
   "cell_type": "markdown",
   "id": "cfa46d31",
   "metadata": {},
   "source": [
    "### 3.1. Combinaisons d'actions à l'ELS"
   ]
  },
  {
   "cell_type": "code",
   "execution_count": 36,
   "id": "a21d3532",
   "metadata": {
    "ExecuteTime": {
     "end_time": "2022-04-27T11:49:42.279458Z",
     "start_time": "2022-04-27T11:49:42.266967Z"
    }
   },
   "outputs": [],
   "source": [
    "## Calcul des combinaisons d'actions à l'ELS caractéristique\n",
    "\n",
    "cc1=g.value\n",
    "cc2=g.value+q.value\n",
    "cc3=g.value+q.value+psi0s*s.value\n",
    "cc4=g.value+q.value+psi0w*w.value\n",
    "cc5=g.value+q.value+psi0s*s.value+psi0w*w.value\n",
    "cc6=g.value+w.value\n",
    "cc7=g.value+w.value+psi0q*q.value\n",
    "cc8=g.value+w.value+psi0s*s.value\n",
    "cc9=g.value+w.value+psi0q*q.value+psi0s*s.value\n",
    "cc10=g.value+s.value\n",
    "cc11=g.value+s.value+psi0q*q.value\n",
    "cc12=g.value+s.value+psi0w*w.value\n",
    "cc13=g.value+s.value+psi0q*q.value+psi0w*w.value\n",
    "cc1=round(cc1,2)\n",
    "cc2=round(cc2,2)\n",
    "cc3=round(cc3,2)\n",
    "cc4=round(cc4,2)\n",
    "cc5=round(cc5,2)\n",
    "cc6=round(cc6,2)\n",
    "cc7=round(cc7,2)\n",
    "cc8=round(cc8,2)\n",
    "cc9=round(cc9,2)\n",
    "cc10=round(cc10,2)\n",
    "cc11=round(cc11,2)\n",
    "cc12=round(cc12,2)\n",
    "cc13=round(cc13,2)\n",
    "\n",
    "## Recherche de la valeur la plus défavorbale à l'ELS caractéristique \n",
    "\n",
    "pcmax=max(cc1,cc2,cc3,cc4,cc5,cc6,cc7,cc8,cc9,cc10,cc11,cc12,cc13)\n",
    "\n",
    "## Majoration pour taux de travail souhaité\n",
    "pcmax=round(pcmax/(trav.value*0.01),2)\n",
    "\n",
    "## Calcul des combinaisons d'actions à l'ELS quasi-perm\n",
    "\n",
    "cp1=g.value\n",
    "cp2=g.value+psi2q*q.value\n",
    "cp3=g.value+psi2w*w.value\n",
    "cp4=g.value+psi2s*s.value\n",
    "cp5=g.value+psi2q*q.value+psi2w*w.value\n",
    "cp6=g.value+psi2q*q.value+psi2s*s.value\n",
    "cp7=g.value+psi2w*w.value+psi2s*s.value\n",
    "cp8=g.value+psi2q*q.value+psi2w*w.value+psi2s*s.value\n",
    "cp1=round(cp1,2)\n",
    "cp2=round(cp2,2)\n",
    "cp3=round(cp3,2)\n",
    "cp4=round(cp4,2)\n",
    "cp5=round(cp5,2)\n",
    "cp6=round(cp6,2)\n",
    "cp7=round(cp7,2)\n",
    "cp8=round(cp8,2)\n",
    "\n",
    "## Recherche de la valeur la plus défavorbale à l'ELS quasi-perm\n",
    "\n",
    "pqpmax=max(cp1,cp2,cp3,cp4,cp5,cp6,cp7,cp8)\n",
    "\n",
    "## Majoration pour taux de travail souhaité\n",
    "pqpmax=round(pqpmax/(trav.value*0.01),2)"
   ]
  },
  {
   "cell_type": "markdown",
   "id": "1e741105",
   "metadata": {
    "variables": {
     "cc1": "0.0",
     "cc10": "0.0",
     "cc11": "0.0",
     "cc12": "0.0",
     "cc13": "0.0",
     "cc2": "0.0",
     "cc3": "0.0",
     "cc4": "0.0",
     "cc5": "0.0",
     "cc6": "0.0",
     "cc7": "0.0",
     "cc8": "0.0",
     "cc9": "0.0",
     "cp1": "0.0",
     "cp2": "0.0",
     "cp3": "0.0",
     "cp4": "0.0",
     "cp5": "0.0",
     "cp6": "0.0",
     "cp7": "0.0",
     "cp8": "0.0",
     "pcmax": "0.0",
     "pqpmax": "0.0"
    }
   },
   "source": [
    "|ELS Caractéristiques|$$P_{ELS}$$ [kN/m]|\n",
    "|-----------|-------------|\n",
    "|Caractéristiques||\n",
    "|$$G$$|{{cc1}}|\n",
    "|$$G+Q$$|{{cc2}}|\n",
    "|$$G+Q+\\psi_{0,S}S$$|{{cc3}}|\n",
    "|$$G+Q+\\psi_{0,W}W$$|{{cc4}}|\n",
    "|$$G+Q+\\psi_{0,S}S+\\psi_{0,W}W$$|{{cc5}}|\n",
    "|$$G+W$$|{{cc6}}|\n",
    "|$$G+W+\\psi_{0,Q}Q$$|{{cc7}}|\n",
    "|$$G+W+\\psi_{0,S}S$$|{{cc8}}|\n",
    "|$$G+W+\\psi_{0,Q}Q+\\psi_{0,S}S$$|{{cc9}}|\n",
    "|$$G+S$$|{{cc10}}|\n",
    "|$$G+S+\\psi_{0,Q}Q$$|{{cc11}}|\n",
    "|$$G+S+\\psi_{0,W}W$$|{{cc12}}|\n",
    "|$$G+S+\\psi_{0,Q}Q+\\psi_{0,W}W$$|{{cc13}}|\n",
    "|$$P_{ELS,carac,max}$$|**{{pcmax}}**|\n",
    "\n",
    "\n",
    "|ELS Quasi-permanentes|$$P_{ELS}$$ [kN/m]|\n",
    "|-----------|-------------|\n",
    "|$$G$$|{{cp1}}|\n",
    "|$$G+\\psi_{2,Q}Q$$|{{cp2}}|\n",
    "|$$G+\\psi_{2,S}S$$|{{cp3}}|\n",
    "|$$G+\\psi_{2,W}W$$|{{cp4}}|\n",
    "|$$G+\\psi_{2,Q}Q+\\psi_{2,W}W$$|{{cp5}}|\n",
    "|$$G+\\psi_{2,Q}W+\\psi_{2,S}S$$|{{cp6}}|\n",
    "|$$G+\\psi_{2,W}W+\\psi_{2,S}S$$|{{cp7}}|\n",
    "|$$G+\\psi_{2,W}W+\\psi_{2,Q}Q+\\psi_{2,S}S$$|{{cp8}}|\n",
    "|$$P_{ELS,qp,max}$$|**{{pqpmax}}**|"
   ]
  },
  {
   "cell_type": "code",
   "execution_count": 37,
   "id": "9a025431",
   "metadata": {
    "ExecuteTime": {
     "end_time": "2022-04-27T11:49:42.891934Z",
     "start_time": "2022-04-27T11:49:42.732071Z"
    }
   },
   "outputs": [
    {
     "data": {
      "image/png": "[encoded data removed]",
      "text/plain": [
       "<Figure size 1080x540 with 2 Axes>"
      ]
     },
     "metadata": {
      "needs_background": "light"
     },
     "output_type": "display_data"
    }
   ],
   "source": [
    "## Calcul de la flèche instantannée limite \n",
    "\n",
    "winstmax=(l.value*1000)/300\n",
    "\n",
    "## Déclaration des axes du graphe\n",
    "\n",
    "xlist = np.linspace(160,300, 10)\n",
    "ylist = np.linspace(80,200, 10)\n",
    "\n",
    "X, Y = np.meshgrid(xlist, ylist)\n",
    "\n",
    "## Fonction pour déterminer la flèche\n",
    "\n",
    "def m(X,Y):\n",
    "    return ((32*Y*e0m*1000*X**3*winstmax)/(5*(l.value*1000)**4))\n",
    "  \n",
    "Z = m(X,Y)\n",
    "\n",
    "## Affichage et rendu du graphique\n",
    "\n",
    "fig,ax=plt.subplots(1,1)\n",
    "cp = ax.contourf(X, Y, Z)\n",
    "fig.colorbar(cp)\n",
    "cp.set_clim()\n",
    "ax.set_title('Charge ELS caractéristique [kN/m]')\n",
    "ax.set_xlabel('Hauteur (mm)')\n",
    "ax.set_ylabel('Base (mm)') \n",
    "plt.rcParams[\"figure.figsize\"] = (15, 7.5)\n",
    "plt.show()"
   ]
  },
  {
   "cell_type": "code",
   "execution_count": 38,
   "id": "215e48d7",
   "metadata": {
    "ExecuteTime": {
     "end_time": "2022-04-27T11:49:43.062085Z",
     "start_time": "2022-04-27T11:49:42.891934Z"
    },
    "scrolled": false
   },
   "outputs": [
    {
     "data": {
      "image/png": "[encoded data removed]",
      "text/plain": [
       "<Figure size 1080x540 with 2 Axes>"
      ]
     },
     "metadata": {
      "needs_background": "light"
     },
     "output_type": "display_data"
    }
   ],
   "source": [
    "## Calcul de la flèche de fluage limite\n",
    "\n",
    "wfinmax=(l.value*1000)/200\n",
    "\n",
    "wfluage=wfinmax-winstmax\n",
    "\n",
    "if service=='Classe de service 1':\n",
    "    kdef=0.6\n",
    "elif service=='Classe de service 2':\n",
    "    kdef=0.8\n",
    "else:\n",
    "    kdef=2\n",
    "\n",
    "## Déclaration des axes du graphe\n",
    "\n",
    "xlist = np.linspace(160,300, 10)\n",
    "ylist = np.linspace(80,200, 10)\n",
    "\n",
    "X, Y = np.meshgrid(xlist, ylist)\n",
    "\n",
    "## Fonction pour déterminer la flèche\n",
    "\n",
    "def zz(X,Y):\n",
    "    return ((32*Y*e0m*1000*X**3*winstmax)/(5*(l.value*1000)**4*(kdef+1)))\n",
    "  \n",
    "Z = zz(X,Y)\n",
    "\n",
    "## Affichage et rendu du graphique\n",
    "\n",
    "fig,ax=plt.subplots(1,1)\n",
    "cp = ax.contourf(X, Y, Z)\n",
    "fig.colorbar(cp) \n",
    "ax.set_title('Charge ELS quasi permanente [kN/m]')\n",
    "ax.set_xlabel('Hauteur (mm)')\n",
    "ax.set_ylabel('Base (mm)')\n",
    "plt.rcParams[\"figure.figsize\"] = (15, 7.5)\n",
    "plt.show()"
   ]
  },
  {
   "cell_type": "markdown",
   "id": "c531649f",
   "metadata": {},
   "source": [
    "### 3.3. Section optimale pour une hauteur fixée à l'ELS"
   ]
  },
  {
   "cell_type": "code",
   "execution_count": 19,
   "id": "908d5d03",
   "metadata": {
    "ExecuteTime": {
     "end_time": "2022-04-27T10:28:32.560879Z",
     "start_time": "2022-04-27T10:28:32.546925Z"
    }
   },
   "outputs": [
    {
     "data": {
      "application/vnd.jupyter.widget-view+json": {
       "model_id": "eb31c9326e0e49198448ad91b9be0c08",
       "version_major": 2,
       "version_minor": 0
      },
      "text/plain": [
       "FloatSlider(value=200.0, continuous_update=False, description='Hauteur [mm]', max=600.0, readout_format='.1f',…"
      ]
     },
     "metadata": {},
     "output_type": "display_data"
    }
   ],
   "source": [
    "## Création d'un slider\n",
    "\n",
    "h2=widgets.FloatSlider(\n",
    "    value=200,\n",
    "    min=0,\n",
    "    max=600,\n",
    "    step=20,\n",
    "    description=('Hauteur [mm]'),\n",
    "    disabled=False,\n",
    "    continuous_update=False,\n",
    "    orientation='horizontal',\n",
    "    readout=True,\n",
    "    readout_format='.1f',)\n",
    "h2"
   ]
  },
  {
   "cell_type": "code",
   "execution_count": 20,
   "id": "402b98b5",
   "metadata": {
    "ExecuteTime": {
     "end_time": "2022-04-27T10:28:32.576873Z",
     "start_time": "2022-04-27T10:28:32.561875Z"
    }
   },
   "outputs": [
    {
     "data": {
      "application/vnd.jupyter.widget-view+json": {
       "model_id": "5d611c3853b64714adaabc7d591ebb80",
       "version_major": 2,
       "version_minor": 0
      },
      "text/plain": [
       "Button(description='Valider', style=ButtonStyle())"
      ]
     },
     "metadata": {},
     "output_type": "display_data"
    },
    {
     "data": {
      "application/javascript": [
       "IPython.notebook.execute_cell_range(IPython.notebook.get_selected_index()+1, IPython.notebook.get_selected_index()+8)"
      ],
      "text/plain": [
       "<IPython.core.display.Javascript object>"
      ]
     },
     "metadata": {},
     "output_type": "display_data"
    }
   ],
   "source": [
    "## Création d'un bouton qui permet d'actualiser les cellules suivantes grace à JavaScript\n",
    "\n",
    "def run_all(ev):\n",
    "    display(Javascript('IPython.notebook.execute_cell_range(IPython.notebook.get_selected_index()+1, IPython.notebook.get_selected_index()+8)'))\n",
    "\n",
    "button = widgets.Button(description=\"Valider\")\n",
    "\n",
    "button.on_click(run_all)\n",
    "display(button)"
   ]
  },
  {
   "cell_type": "code",
   "execution_count": 39,
   "id": "db860b58",
   "metadata": {
    "ExecuteTime": {
     "end_time": "2022-04-27T12:40:31.227573Z",
     "start_time": "2022-04-27T12:40:31.211948Z"
    }
   },
   "outputs": [],
   "source": [
    "## Calcul de la largeur b en fonction de la hauteur pour ELS carac. et quasi-permanent\n",
    "\n",
    "bc1=(5*(l.value*1000)**4*pcmax)/(32*e0m*1000*h2.value**3*winstmax)\n",
    "\n",
    "bqp1=(5*(l.value*1000)**4*(pcmax+pqpmax+kdef*pqpmax))/(32*e0m*1000*h2.value**3*wfinmax)\n",
    "\n",
    "## Détermination de la section la plus défavorable à l'ELS \n",
    "\n",
    "bels=max(bc1,bqp1)\n",
    "\n",
    "bels=round(bels/1000,2)\n",
    "\n",
    "bels=bels*1000"
   ]
  },
  {
   "cell_type": "markdown",
   "id": "25e1767d",
   "metadata": {
    "variables": {
     "bels": "0.0",
     "h2.value": "280.0"
    }
   },
   "source": [
    "***Section : {{bels}}x{{h2.value}}mm ht.***"
   ]
  },
  {
   "cell_type": "markdown",
   "id": "87fd0205",
   "metadata": {},
   "source": [
    "## 4. Caractéristiques de la poutre satisfaisant ELU et ELS"
   ]
  },
  {
   "cell_type": "code",
   "execution_count": 40,
   "id": "e33b6354",
   "metadata": {
    "ExecuteTime": {
     "end_time": "2022-04-27T12:40:31.274628Z",
     "start_time": "2022-04-27T12:40:31.259289Z"
    }
   },
   "outputs": [],
   "source": [
    "## Détermination de la section la plus défavorable entre ELU et ELS \n",
    "\n",
    "hfinal=max(h.value,h2.value)\n",
    "\n",
    "if hfinal==h2.value:\n",
    "    bfinal=bels\n",
    "    cdim='ELS'\n",
    "else:\n",
    "    bfinal=b\n",
    "    cdim='ELU'"
   ]
  },
  {
   "cell_type": "markdown",
   "id": "b33542f7",
   "metadata": {
    "ExecuteTime": {
     "end_time": "2022-04-26T16:01:30.922129Z",
     "start_time": "2022-04-26T16:01:30.906997Z"
    },
    "variables": {
     "bfinal": "0.0",
     "bois.value": "Résineux",
     "cdim": "ELS",
     "classe.value": "C20",
     "hfinal": "280.0",
     "l.value": "12.5",
     "pcmax": "0.0",
     "pmax": "0.0",
     "pqpmax": "0.0",
     "service.value": "Classe de service 1"
    }
   },
   "source": [
    "|**Caractéristiques**|**Valeur**|\n",
    "|-----------|-------------|\n",
    "|**Type de bois**|{{bois.value}}|\n",
    "|**Classe de structure**|{{classe.value}}|\n",
    "|**Exposition**|{{service.value}}|\n",
    "|**Charge max ELU [kN/m]**|{{pmax}}|\n",
    "|**Charge max carac. ELS [kN/m]**|{{pcmax}}|\n",
    "|**Chage max quasi-perm. ELS [kN/m]**|{{pqpmax}}|\n",
    "|**Portée [m]**|{{l.value}}|\n",
    "|**Base [mm]**|{{bfinal}}|\n",
    "|**Hauteur [mm]**|{{hfinal}}|\n",
    "|**Situation dimensionnante**|{{cdim}}|"
   ]
  },
  {
   "cell_type": "code",
   "execution_count": null,
   "id": "308dce63",
   "metadata": {
    "ExecuteTime": {
     "end_time": "2022-04-27T10:21:55.679878Z",
     "start_time": "2022-04-27T10:21:55.452368Z"
    }
   },
   "outputs": [],
   "source": []
  },
  {
   "cell_type": "code",
   "execution_count": 41,
   "id": "8f51b75c",
   "metadata": {
    "ExecuteTime": {
     "end_time": "2022-04-27T12:40:31.823270Z",
     "start_time": "2022-04-27T12:40:31.491242Z"
    }
   },
   "outputs": [
    {
     "data": {
      "image/png": "[encoded data removed]",
      "text/plain": [
       "<Figure size 1080x540 with 2 Axes>"
      ]
     },
     "metadata": {
      "needs_background": "light"
     },
     "output_type": "display_data"
    },
    {
     "data": {
      "image/png": "[encoded data removed]",
      "text/plain": [
       "<Figure size 720x504 with 2 Axes>"
      ]
     },
     "metadata": {
      "needs_background": "light"
     },
     "output_type": "display_data"
    }
   ],
   "source": [
    "## Déclaration des axes du graphe\n",
    "\n",
    "xlist = np.linspace(20,1000, 100)\n",
    "ylist = np.linspace(20,90, 100)\n",
    "\n",
    "X, Y = np.meshgrid(xlist, ylist)\n",
    "\n",
    "## Calcul de lrel pour Kcrit  \n",
    "\n",
    "sigcrit=(0.78*e05*Y*Y)/(X*0.9)\n",
    "\n",
    "lrel=(fmk/sigcrit)**2\n",
    "\n",
    "## Fonction pour déterminer le moment max\n",
    "\n",
    "def f(X,Y):\n",
    "    for lrel in np.arange(0,0.75) : return (4*Y*(X**2)*fmk*1)/(3*(l.value*1000)**2*gm)\n",
    "    for lrel in np.arange(0.75,1.4) : return (4*Y*(X**2)*fmk*(1.56-0.75*lrel))/(3*(l.value*1000)**2*gm)\n",
    "    for lrel in np.arange(1.4,100) : return (4*Y*(X**2)*fmk*(1/(lrel**2))/(3*(l.value*1000)**2*gm))\n",
    "  \n",
    "Z = f(X,Y)\n",
    "\n",
    "## Affichage et rendu du graphique\n",
    "\n",
    "fig,ax=plt.subplots(1,1)\n",
    "cp = ax.contourf(X, Y, Z)\n",
    "fig.colorbar(cp)\n",
    "ax.set_title('Charge ELU(mod) admissible [kN/m]')\n",
    "ax.set_xlabel('Hauteur (mm)')\n",
    "ax.set_ylabel('Base (mm)')\n",
    "plt.rcParams[\"figure.figsize\"] = (15, 7.5)\n",
    "plt.show()\n",
    "\n",
    "fig = plt.figure(figsize = (10,7))\n",
    "contours = plt.contour(Z, levels = 20, cmap = 'jet')\n",
    "plt.clabel(contours, inline = True, fontsize = 9)\n",
    "plt.title(\"Cercles de niveau de notre fonction\", fontsize=13)\n",
    "plt.xlabel('x', fontsize=11)\n",
    "plt.ylabel('y', fontsize=11)\n",
    "plt.colorbar()\n",
    "plt.show()"
   ]
  },
  {
   "cell_type": "code",
   "execution_count": null,
   "id": "034a6336",
   "metadata": {},
   "outputs": [],
   "source": []
  }
 ],
 "metadata": {
  "hide_input": true,
  "kernelspec": {
   "display_name": "Python 3 (ipykernel)",
   "language": "python",
   "name": "python3"
  },
  "language_info": {
   "codemirror_mode": {
    "name": "ipython",
    "version": 3
   },
   "file_extension": ".py",
   "mimetype": "text/x-python",
   "name": "python",
   "nbconvert_exporter": "python",
   "pygments_lexer": "ipython3",
   "version": "3.10.0"
  }
 },
 "nbformat": 4,
 "nbformat_minor": 5
}
